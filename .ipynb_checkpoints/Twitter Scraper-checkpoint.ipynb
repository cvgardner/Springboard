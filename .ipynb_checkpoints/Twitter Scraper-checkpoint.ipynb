{
 "cells": [
  {
   "cell_type": "code",
   "execution_count": 1,
   "metadata": {
    "collapsed": true
   },
   "outputs": [],
   "source": [
    "import twitter\n",
    "from bs4 import BeautifulSoup\n",
    "import requests\n",
    "import datetime \n",
    "import json"
   ]
  },
  {
   "cell_type": "code",
   "execution_count": 2,
   "metadata": {
    "collapsed": true
   },
   "outputs": [],
   "source": [
    " api = twitter.Api(consumer_key='YGmn0ooqwTQO5WjHniXLu78Ud',\n",
    "                      consumer_secret='vljpSvvPZ7yx8k5H6rJLdrYP73G0ejlhtjQviDlJHkZ2MN6ljZ',\n",
    "                      access_token_key='863233291943419904-NvE6XjwI0n7e6hBGFpM3kp3FfHrMnrD',\n",
    "                      access_token_secret='i1HLbpaLNqxmqwHgI3DozVUsyLkyyln1E8Scx9tyybIWF')"
   ]
  },
  {
   "cell_type": "code",
   "execution_count": 3,
   "metadata": {},
   "outputs": [
    {
     "name": "stdout",
     "output_type": "stream",
     "text": [
      "['Scott Inada', 'カードキングダム千葉店', 'Prince/プリンス@COMBO', 'PracticalTAS🐼🌎📊', 'ycz', 'aMSa / あむさ@JPN', 'A Scary Ghost', 'Vampy Ren 🦇', 'Chaosity Cosplay', 'Paulo Vitor', 'CanYouSayG', 'Dragoborne', 'KJH', 'Vidar', 'Echo Fox', 'じょーかー', '九州VG連合', 'ぺすと', 'ウェットマン', 'みるたえ', 'ゆいはん', '孤高のたけだこうた/ギョウザ', 'ゆきや', 'セラフVGCS', 'Dragoracle', 'Leoblade13', 'Phoenix1 | Duck', 'aruigus808', 'Axel @TwitchCon', 'Augustine Lim', '四国VGCS', '札幌VGCS/とりおふらい杯⌒(ё)⌒', '愛知VGCS', 'Dr DisRespect', 'Sol Kage', 'Nintendo Versus', 'BugS 🕷🦇🎃👻 🕸 @TC', 'CoolStuff Waterford', 'Gorilla Games', 'Ian Jay Acilo Gingco', 'Jonathan Gall', 'Drive Check Podcast', 'Bobby Scar', 'iDeal808', 'Imagine Your Goddess', 'Kooj', 'BVD', 'Jason R', 'Atlas Novack', 'SCG Tour', 'Cardfight Lab Tech', 'Nexus Corps', 'Richard @ DELETE END', 'Ultra PRO', 'Alter Reality Games', 'StarCityGames.com', 'Troll and Toad', 'CoreTCG', 'Castôrum (Official)', 'ＷＥＬＰ-ＫＵＮ', 'Alex19', 'Crossbone Vanguards', 'Kevin Nanney', 'Adam Lindgren', 'Jason Zimmerman', \"Duck's_ego\", 'Axe ✈️ DH Denver', 'HBOX ➡️ DH Denver', 'Joseph Marquez', 'Cloud9 Tafo', 'Cardfight!! Vanguard', 'Bushiroad Global', 'Kris Brazas', 'Cardfight Coalition', 'Nexus at Night', 'Mason hatchet Clark']\n"
     ]
    }
   ],
   "source": [
    "users = api.GetFriends()\n",
    "print([u.name for u in users])"
   ]
  },
  {
   "cell_type": "code",
   "execution_count": 6,
   "metadata": {},
   "outputs": [
    {
     "data": {
      "text/plain": [
       "[]"
      ]
     },
     "execution_count": 6,
     "metadata": {},
     "output_type": "execute_result"
    }
   ],
   "source": [
    "memberships = api.GetMemberships(screen_name = 'Vanguarderbilt')\n",
    "memberships"
   ]
  },
  {
   "cell_type": "code",
   "execution_count": 7,
   "metadata": {},
   "outputs": [
    {
     "data": {
      "text/plain": [
       "[Trend(Name='#النصر_التعاون', Time=2017-10-15T17:30:06Z, URL=http://twitter.com/search?q=%23%D8%A7%D9%84%D9%86%D8%B5%D8%B1_%D8%A7%D9%84%D8%AA%D8%B9%D8%A7%D9%88%D9%86),\n",
       " Trend(Name='#ArdeGalicia', Time=2017-10-15T17:30:06Z, URL=http://twitter.com/search?q=%23ArdeGalicia),\n",
       " Trend(Name='#nrw17', Time=2017-10-15T17:30:06Z, URL=http://twitter.com/search?q=%23nrw17),\n",
       " Trend(Name='#شبابيين_نرفض_طلال_ال_شيخ', Time=2017-10-15T17:30:06Z, URL=http://twitter.com/search?q=%23%D8%B4%D8%A8%D8%A7%D8%A8%D9%8A%D9%8A%D9%86_%D9%86%D8%B1%D9%81%D8%B6_%D8%B7%D9%84%D8%A7%D9%84_%D8%A7%D9%84_%D8%B4%D9%8A%D8%AE),\n",
       " Trend(Name='#HoyVotamosPorLaPatria', Time=2017-10-15T17:30:06Z, URL=http://twitter.com/search?q=%23HoyVotamosPorLaPatria),\n",
       " Trend(Name='Hasan Ali', Time=2017-10-15T17:30:06Z, URL=http://twitter.com/search?q=%22Hasan+Ali%22),\n",
       " Trend(Name='Somalia', Time=2017-10-15T17:30:06Z, URL=http://twitter.com/search?q=Somalia),\n",
       " Trend(Name='Woody Allen', Time=2017-10-15T17:30:06Z, URL=http://twitter.com/search?q=%22Woody+Allen%22),\n",
       " Trend(Name='Ersun Yanal', Time=2017-10-15T17:30:06Z, URL=http://twitter.com/search?q=%22Ersun+Yanal%22),\n",
       " Trend(Name='Gabbiadini', Time=2017-10-15T17:30:06Z, URL=http://twitter.com/search?q=Gabbiadini),\n",
       " Trend(Name='James Corden', Time=2017-10-15T17:30:06Z, URL=http://twitter.com/search?q=%22James+Corden%22),\n",
       " Trend(Name='#IdolsSA', Time=2017-10-15T17:30:06Z, URL=http://twitter.com/search?q=%23IdolsSA),\n",
       " Trend(Name='#HoyProtestoConMiVoto', Time=2017-10-15T17:30:06Z, URL=http://twitter.com/search?q=%23HoyProtestoConMiVoto),\n",
       " Trend(Name='#FelizDomingo', Time=2017-10-15T17:30:06Z, URL=http://twitter.com/search?q=%23FelizDomingo),\n",
       " Trend(Name='#LTWNDS17', Time=2017-10-15T17:30:06Z, URL=http://twitter.com/search?q=%23LTWNDS17),\n",
       " Trend(Name='#diadoprofessor', Time=2017-10-15T17:30:06Z, URL=http://twitter.com/search?q=%23diadoprofessor),\n",
       " Trend(Name='#وفاه_عايله_منقذ_المحطه', Time=2017-10-15T17:30:06Z, URL=http://twitter.com/search?q=%23%D9%88%D9%81%D8%A7%D9%87_%D8%B9%D8%A7%D9%8A%D9%84%D9%87_%D9%85%D9%86%D9%82%D8%B0_%D8%A7%D9%84%D9%85%D8%AD%D8%B7%D9%87),\n",
       " Trend(Name='#HTTR', Time=2017-10-15T17:30:06Z, URL=http://twitter.com/search?q=%23HTTR),\n",
       " Trend(Name='#NUFC', Time=2017-10-15T17:30:06Z, URL=http://twitter.com/search?q=%23NUFC),\n",
       " Trend(Name='#schwiegertochtergesucht', Time=2017-10-15T17:30:06Z, URL=http://twitter.com/search?q=%23schwiegertochtergesucht),\n",
       " Trend(Name='#SelfiesForTaylor', Time=2017-10-15T17:30:06Z, URL=http://twitter.com/search?q=%23SelfiesForTaylor),\n",
       " Trend(Name='#NEvsNYJ', Time=2017-10-15T17:30:06Z, URL=http://twitter.com/search?q=%23NEvsNYJ),\n",
       " Trend(Name='#MHSCOGCN', Time=2017-10-15T17:30:06Z, URL=http://twitter.com/search?q=%23MHSCOGCN),\n",
       " Trend(Name='#GBvsMIN', Time=2017-10-15T17:30:06Z, URL=http://twitter.com/search?q=%23GBvsMIN),\n",
       " Trend(Name='#채소호불호', Time=2017-10-15T17:30:06Z, URL=http://twitter.com/search?q=%23%EC%B1%84%EC%86%8C%ED%98%B8%EB%B6%88%ED%98%B8),\n",
       " Trend(Name='#SundayMorning', Time=2017-10-15T17:30:06Z, URL=http://twitter.com/search?q=%23SundayMorning),\n",
       " Trend(Name='#SVWBMG', Time=2017-10-15T17:30:06Z, URL=http://twitter.com/search?q=%23SVWBMG),\n",
       " Trend(Name='#IsmaDirecto', Time=2017-10-15T17:30:06Z, URL=http://twitter.com/search?q=%23IsmaDirecto),\n",
       " Trend(Name='#RejectedCookbookTitles', Time=2017-10-15T17:30:06Z, URL=http://twitter.com/search?q=%23RejectedCookbookTitles),\n",
       " Trend(Name='#غلطت_سويتها_بحياتك', Time=2017-10-15T17:30:06Z, URL=http://twitter.com/search?q=%23%D8%BA%D9%84%D8%B7%D8%AA_%D8%B3%D9%88%D9%8A%D8%AA%D9%87%D8%A7_%D8%A8%D8%AD%D9%8A%D8%A7%D8%AA%D9%83),\n",
       " Trend(Name='#LASTCHANCE_VOTE_BTS', Time=2017-10-15T17:30:06Z, URL=http://twitter.com/search?q=%23LASTCHANCE_VOTE_BTS),\n",
       " Trend(Name='#SVT_PROJECT_VOCAL', Time=2017-10-15T17:30:06Z, URL=http://twitter.com/search?q=%23SVT_PROJECT_VOCAL),\n",
       " Trend(Name='#PrepareForHolidaysIn4Words', Time=2017-10-15T17:30:06Z, URL=http://twitter.com/search?q=%23PrepareForHolidaysIn4Words),\n",
       " Trend(Name='#Taemin_Move', Time=2017-10-15T17:30:06Z, URL=http://twitter.com/search?q=%23Taemin_Move),\n",
       " Trend(Name='#زد_رصيدك13', Time=2017-10-15T17:30:06Z, URL=http://twitter.com/search?q=%23%D8%B2%D8%AF_%D8%B1%D8%B5%D9%8A%D8%AF%D9%8313),\n",
       " Trend(Name='#NFLnaESPN', Time=2017-10-15T17:30:06Z, URL=http://twitter.com/search?q=%23NFLnaESPN),\n",
       " Trend(Name='#FakeBreakfastFacts', Time=2017-10-15T17:30:06Z, URL=http://twitter.com/search?q=%23FakeBreakfastFacts),\n",
       " Trend(Name='#VeİçimdenŞunuYazmakGeldi', Time=2017-10-15T17:30:06Z, URL=http://twitter.com/search?q=%23Ve%C4%B0%C3%A7imden%C5%9EunuYazmakGeldi),\n",
       " Trend(Name='#FicoMuitoNoTwitterPq', Time=2017-10-15T17:30:06Z, URL=http://twitter.com/search?q=%23FicoMuitoNoTwitterPq),\n",
       " Trend(Name='#الغاء_حفله_شيرين', Time=2017-10-15T17:30:06Z, URL=http://twitter.com/search?q=%23%D8%A7%D9%84%D8%BA%D8%A7%D8%A1_%D8%AD%D9%81%D9%84%D9%87_%D8%B4%D9%8A%D8%B1%D9%8A%D9%86),\n",
       " Trend(Name='#CennetinGözyaşları', Time=2017-10-15T17:30:06Z, URL=http://twitter.com/search?q=%23CennetinG%C3%B6zya%C5%9Flar%C4%B1),\n",
       " Trend(Name='#SodakkuSongTeaser', Time=2017-10-15T17:30:06Z, URL=http://twitter.com/search?q=%23SodakkuSongTeaser),\n",
       " Trend(Name='#VueltaChilexel13', Time=2017-10-15T17:30:06Z, URL=http://twitter.com/search?q=%23VueltaChilexel13),\n",
       " Trend(Name='#domenicalive', Time=2017-10-15T17:30:06Z, URL=http://twitter.com/search?q=%23domenicalive),\n",
       " Trend(Name='#afmegastar', Time=2017-10-15T17:30:06Z, URL=http://twitter.com/search?q=%23afmegastar),\n",
       " Trend(Name='#ماذا_تعلمت_من_الاسهم', Time=2017-10-15T17:30:06Z, URL=http://twitter.com/search?q=%23%D9%85%D8%A7%D8%B0%D8%A7_%D8%AA%D8%B9%D9%84%D9%85%D8%AA_%D9%85%D9%86_%D8%A7%D9%84%D8%A7%D8%B3%D9%87%D9%85),\n",
       " Trend(Name='#CELEBRATE_HIGHLIGHT', Time=2017-10-15T17:30:06Z, URL=http://twitter.com/search?q=%23CELEBRATE_HIGHLIGHT),\n",
       " Trend(Name='#DETvsNO', Time=2017-10-15T17:30:06Z, URL=http://twitter.com/search?q=%23DETvsNO),\n",
       " Trend(Name='#InBrotherhood', Time=2017-10-15T17:30:06Z, URL=http://twitter.com/search?q=%23InBrotherhood),\n",
       " Trend(Name='#İyikiDoğdunHDP', Time=2017-10-15T17:30:06Z, URL=http://twitter.com/search?q=%23%C4%B0yikiDo%C4%9FdunHDP)]"
      ]
     },
     "execution_count": 7,
     "metadata": {},
     "output_type": "execute_result"
    }
   ],
   "source": [
    "trends = api.GetTrendsCurrent()\n",
    "trends"
   ]
  },
  {
   "cell_type": "code",
   "execution_count": 8,
   "metadata": {},
   "outputs": [
    {
     "data": {
      "text/plain": [
       "[Status(ID=919616231409311744, ScreenName=RevivedSin, Created=Sun Oct 15 17:29:29 +0000 2017, Text='RT @SToRY_yin: Happy Halloween！ https://t.co/Xp8tp6SpIt'),\n",
       " Status(ID=919615752067416066, ScreenName=RevivedSin, Created=Sun Oct 15 17:27:35 +0000 2017, Text='RT @SHIN_okami250: リーリエとモクローのラクガキをしました https://t.co/2d5nMSnfJn'),\n",
       " Status(ID=919615545334362112, ScreenName=RevivedSin, Created=Sun Oct 15 17:26:46 +0000 2017, Text='RT @Drilkatsu: doing my favorite \" Idol \" activity, kissing a cardboard dress before going uip on stage'),\n",
       " Status(ID=919615535792263168, ScreenName=RevivedSin, Created=Sun Oct 15 17:26:44 +0000 2017, Text='RT @Drilkatsu: many people do not realize that after you lose to hime at the s4 selection you can pour the entire plate of curry inyo your…'),\n",
       " Status(ID=919615279579066368, ScreenName=RevivedSin, Created=Sun Oct 15 17:25:42 +0000 2017, Text='RT @sekina_: きれ〜 https://t.co/n3FPXm3206'),\n",
       " Status(ID=919615212864466944, ScreenName=RevivedSin, Created=Sun Oct 15 17:25:27 +0000 2017, Text='RT @sekina_: https://t.co/84lqLvEIV2'),\n",
       " Status(ID=919615133512433664, ScreenName=RevivedSin, Created=Sun Oct 15 17:25:08 +0000 2017, Text='RT @lllng000: 시부린 너무 이뻐서 그려버린 ㅠㅜ ~\\n이번 뮤비에서 시부린이 턴할 때 진짜 이쁨입니다 다들 보십셔 \\n#데레스테 https://t.co/cXAfFeAg3U'),\n",
       " Status(ID=919615078537707520, ScreenName=RevivedSin, Created=Sun Oct 15 17:24:55 +0000 2017, Text='RT @olopheris: STORY TELLER https://t.co/5cpatY2046'),\n",
       " Status(ID=919615053610942464, ScreenName=RevivedSin, Created=Sun Oct 15 17:24:49 +0000 2017, Text='RT @nononotea: 「お黙りなさい！」 #FGO https://t.co/4O8TCExRj7'),\n",
       " Status(ID=919615022547943425, ScreenName=RevivedSin, Created=Sun Oct 15 17:24:41 +0000 2017, Text='TOMOYO-CHAN'),\n",
       " Status(ID=919614981468971008, ScreenName=RevivedSin, Created=Sun Oct 15 17:24:31 +0000 2017, Text='RT @Kana_2me: さくらちゃんのスキンを変えたら、知世ちゃんの服まで変わった…しかもちゃんとサンダー戦の時に着てた洋服…グラブル… https://t.co/EIpX88B5Jq'),\n",
       " Status(ID=919614845800108032, ScreenName=ChaosityCos, Created=Sun Oct 15 17:23:59 +0000 2017, Text='RT @kusatta_nattou: #切島鋭児郎生誕祭2017\\n切島君おめでとう！！！！🎉🎉🎊これからもいろんな表情見せてくれ〜！！！ https://t.co/3AkNYL3GwG'),\n",
       " Status(ID=919614799079788545, ScreenName=ChaosityCos, Created=Sun Oct 15 17:23:48 +0000 2017, Text='RT @terebisanTVsan_: ありがとう世界！！！！！！！！！！！！！！！！！！！！！！！！！！！！！！！！！！！！！！！！！！！！！！！！！！！！！！！！！！！！！！！！！！！！！！！！！！！！！！！！！！！！！！！！\\n過去絵だけど取り急ぎ祭りに参加する気持ち h…'),\n",
       " Status(ID=919614774954024961, ScreenName=RevivedSin, Created=Sun Oct 15 17:23:42 +0000 2017, Text=\"RT @jaboff87: 劇場版Fate/stay night[Heaven's Feel]公開おめでとうございます！！！！\\nずっとずっと待ってました！ https://t.co/ddN3tV0VjO\"),\n",
       " Status(ID=919614662630445056, ScreenName=RevivedSin, Created=Sun Oct 15 17:23:15 +0000 2017, Text='RT @oshio_dayo: もしわたしが悪い人になったら #FateHF https://t.co/HlGNKOcHk7'),\n",
       " Status(ID=919614404601221120, ScreenName=ChaosityCos, Created=Sun Oct 15 17:22:14 +0000 2017, Text='RT @1251S_12: 作られたて https://t.co/YldOSOX6Kd'),\n",
       " Status(ID=919614363199139840, ScreenName=RevivedSin, Created=Sun Oct 15 17:22:04 +0000 2017, Text='RT @korewahentai: protect his family\\n he must https://t.co/R6D95Hbf1r'),\n",
       " Status(ID=919614308866248704, ScreenName=SCGTour, Created=Sun Oct 15 17:21:51 +0000 2017, Text='Who Will Win? #SCGCHAR RD13: Alan Cummings (U/G Merfolk) vs Sandy Tolar (Eldrazi Tron) https://t.co/4qGGaDPVir'),\n",
       " Status(ID=919613767075315713, ScreenName=RevivedSin, Created=Sun Oct 15 17:19:42 +0000 2017, Text='RT @ueyamamichiro: アミメキリンレンジャーちゃん\\n\\nア：「天時星・時間返しで時間を巻き戻して犯人を推理します！」\\nか：「それはもう推理ではないのでは……」 https://t.co/Ma7mXM6FN6'),\n",
       " Status(ID=919612705866002433, ScreenName=RevivedSin, Created=Sun Oct 15 17:15:29 +0000 2017, Text='RT @sekina_: ゆでタコがみたい〜〜 https://t.co/UEdUszEFNq')]"
      ]
     },
     "execution_count": 8,
     "metadata": {},
     "output_type": "execute_result"
    }
   ],
   "source": [
    "api.GetHomeTimeline()"
   ]
  },
  {
   "cell_type": "code",
   "execution_count": 9,
   "metadata": {},
   "outputs": [
    {
     "name": "stdout",
     "output_type": "stream",
     "text": [
      "https://trendogate.com/placebydate/1/2017-05-01\n"
     ]
    },
    {
     "name": "stderr",
     "output_type": "stream",
     "text": [
      "D:\\Anaconda3\\lib\\site-packages\\bs4\\__init__.py:181: UserWarning: No parser was explicitly specified, so I'm using the best available HTML parser for this system (\"lxml\"). This usually isn't a problem, but if you run this code on another system, or in a different virtual environment, it may use a different parser and behave differently.\n",
      "\n",
      "The code that caused this warning is on line 193 of the file D:\\Anaconda3\\lib\\runpy.py. To get rid of this warning, change code that looks like this:\n",
      "\n",
      " BeautifulSoup(YOUR_MARKUP})\n",
      "\n",
      "to this:\n",
      "\n",
      " BeautifulSoup(YOUR_MARKUP, \"lxml\")\n",
      "\n",
      "  markup_type=markup_type))\n"
     ]
    },
    {
     "name": "stdout",
     "output_type": "stream",
     "text": [
      "https://trendogate.com/placebydate/1/2017-05-02\n",
      "https://trendogate.com/placebydate/1/2017-05-03\n",
      "https://trendogate.com/placebydate/1/2017-05-04\n",
      "https://trendogate.com/placebydate/1/2017-05-05\n",
      "https://trendogate.com/placebydate/1/2017-05-06\n",
      "https://trendogate.com/placebydate/1/2017-05-07\n",
      "https://trendogate.com/placebydate/1/2017-05-08\n",
      "https://trendogate.com/placebydate/1/2017-05-09\n",
      "https://trendogate.com/placebydate/1/2017-05-10\n",
      "https://trendogate.com/placebydate/1/2017-05-11\n",
      "https://trendogate.com/placebydate/1/2017-05-12\n",
      "https://trendogate.com/placebydate/1/2017-05-13\n",
      "https://trendogate.com/placebydate/1/2017-05-14\n",
      "https://trendogate.com/placebydate/1/2017-05-15\n",
      "https://trendogate.com/placebydate/1/2017-05-16\n",
      "https://trendogate.com/placebydate/1/2017-05-17\n",
      "https://trendogate.com/placebydate/1/2017-05-18\n",
      "https://trendogate.com/placebydate/1/2017-05-19\n",
      "https://trendogate.com/placebydate/1/2017-05-20\n",
      "https://trendogate.com/placebydate/1/2017-05-21\n",
      "https://trendogate.com/placebydate/1/2017-05-22\n",
      "https://trendogate.com/placebydate/1/2017-05-23\n",
      "https://trendogate.com/placebydate/1/2017-05-24\n",
      "https://trendogate.com/placebydate/1/2017-05-25\n",
      "https://trendogate.com/placebydate/1/2017-05-26\n",
      "https://trendogate.com/placebydate/1/2017-05-27\n",
      "https://trendogate.com/placebydate/1/2017-05-28\n",
      "https://trendogate.com/placebydate/1/2017-05-29\n",
      "https://trendogate.com/placebydate/1/2017-05-30\n",
      "[' #NitidiaTV3', ' #الوالدين_كنز_الرحمه', ' #RejectedAmericanGods', ' #LARZAYLEAISOVERPARTY', ' #مع_رجال_امننا_بالقطيف', ' #FirstDates325', ' #conquis16', ' #وثيقه_حماس', ' #MayDaySea', ' #FeriadoComMafiaSdv', ' #VatanSevdası', ' #BadDietingTips', ' #EvlenecekSevgiliArıyorum', ' #احلي_حاجه_في_رمضان', ' #ParoNacional', ' #kamienienaszaniec', ' #حياتك80', ' #عاارف_ليه_انا_قلبي_اختارك', ' #SnookerWorldChampionship', ' #الثامنه', ' #NickiBBMAs', ' #BoicotLaCasaDePapel', ' #birader', ' #DíaDelTrabajo', ' #EnMayoSigoAChilenosPorque', ' #sözveriyorum', ' #MetGala', ' #TheIsland', ' #مما_يفتح_النفس', ' #ReisEveDönüyor', ' #TchetchenieURGENCE', ' #1M2017', ' #SéQuiénEresFinal', ' #SlowHands', ' #AlTurkiParole', ' #BTSBBMAs', ' #DDvSRH', ' #1ermai', ' #AlwaysHarryPotter', ' #NoisEFeioMas', ' #TerçaDetremuraSDV', ' #AcosoEscolar', ' #JordanEdwards', ' #hardiknas2017', ' #BuenMartes', ' #1Mayıs', ' #TrumpTeachesHistory', ' #wgaunity', ' #FelizDiaDelTrabajador', ' #MicrosoftEDU', ' #انشاء_معهد_للموسيقي', ' #AnimoInOurVeins', ' #ReisleYolaDevam', ' #GoldAndGloryAteneo', ' #MayDay2017', ' #1demayo', ' #JustinBBMAs', ' #MocoaMejor', ' #EncuentroESR', ' #Megaderbichampions', ' #TürkçülerinGünü3Mayıs', ' #650MilFirmasPorBogotá', ' #AlTurkiProle', ' #MyBankAccountSays', ' #SweetCreature', ' #DiaDeLaMilanesa', ' #ليت_حظي_يشبه', ' #LicenseToDiscriminate', ' #RecadoProCrush', ' #JKLive', ' #liganoGE', ' #GastoComoDelfina', ' #FirstDates327', ' #DirectoRubiuh', ' #MadelineMcCann', ' #selfieforseb', ' #chilhavisto', ' #وفاه_مشعل_بن_عبدالعزيز', ' #domates', ' #3Mayo', ' #DirilişErtuğrul', ' #موناكو_يوفنتوس', ' #تاجيل_تتويج_الهلال', ' #2017LeDebat', ' #WEFAfrica2017', ' #BaeksangArtsAwards2017', ' #vaccini', ' #YouCantAskThat', ' #ليله_التتويج', ' #BOLkoBolnayDo', ' #عمر_يبي_فزعتنا', ' #GratisNoTrabajoEP', ' #PersibDay', ' #JeVeuxVoirHarryStyles', ' #غرد_الان_بذكر_الله', ' #FMQs', ' #KitabaKoşuyoruz', ' #ConstituyentePorElPueblo', ' #Monchi', ' #내_키에서_내_나이를_빼면_여체화', ' #LaConversaMG', ' #ŞampuanımıDeğiştirdim', ' #タイトルの一部を老人にすると世知辛い', ' #編集長稲垣吾郎', ' #QuartaDetremuraSDV', ' #EncantadiaSugod', ' #SUPWIN', ' #LiberaASulPraNação', ' #HergünRutinOlarak', ' #mijnpopup', ' #2x1AGenocidas', ' #premios20Blogs', ' #legittimadifesa', ' #FirstDates328', ' #جمال_بلعمري_2020', ' #XFactorGR', ' #supervet', ' #WelcomeToBrazilCandice', ' #Enem2017', ' #totp', ' #MiLadoOscuroDice', ' #حياتك83', ' #Piazzapulita', ' #RAOagenda', ' #CauchemarEnCuisine', ' #DDvGL', ' #ExcitedForStrangers', ' #تمكين_المراه_بلا_ولي', ' #dodenherdenking', ' #ترامب_يفتتح_زياراته_بالسعوديه', ' #VZLARechazaLaViolencia', ' #TopbaşDamadınıdaAlGit', ' #turkcell', ' #الاهلي_التعاون', ' #IAmAPreexistingCondition', ' #LEmissionPolitique', ' #Wahlarena', ' #gntm', ' #الاتحاد_الفتح', ' #SevdaUğruna', ' #AHCA', ' #الهلال_النصر', ' #preestrenoMDT3', ' #bibissong', ' #TürkOlmakŞereftir', ' #حياتك84', ' #İşimiGeriİstiyorum', ' #العلاوه_السنويه_من_حقوقنا', ' #CHEvHIG', ' #سمر_المقرن_متسلقه', ' #وفاه_والده_جابر_السلماني', ' #LightMyBodyUpVIDEO', ' #CollegeSigningDay', ' #ساعه_استجابه', ' #TOTP', ' #1ChilangoEs', ' #BatallaDePuebla', ' #فيك_لقيت', ' #MiGatoEsMásBonitoQueElTuyo', ' #SusanaGana', ' #QuaseMeioDoAnoEEu', ' #SelenaIsComing', ' #ShowsAboutShoes', ' #FlashbackFriday', ' #İçimdenBirSesDiyorKi', ' #MediapartLive', ' #BuenViernes', ' #FrasesDeMadres', ' #RCBvKXIP', ' #المعلمه_ريم_العتيبي', ' #Dunkirk', ' #ASSEFCGB', ' #HalseyOnHits1', ' #UniversidadALaConstituyente', ' #CosasTristes', ' #رابع_ثانوي_مطلبنا', ' #WHUTOT', ' #ناشيين_النصر_ابطال_الدوري', ' #AbdülhamidHan', ' #koesvw', ' #DisappointAFilm', ' #HappyBaekhyunDay', ' #مع_البطل', ' #CincodeMayo', ' #VampireAttraction2017', ' #BRK2017', ' #EspanholFOXSports', ' #FacebookGate', ' #SaiDeBaixo', ' #GotMeStartedTOUR', ' #SomosCentroDemocrático', ' #DSDS', ' #WeLoveYouMiley', ' #MiExNoDebería', ' #praisintheasian', ' #NBBnaBand', ' #شفت_ف_تويتر', ' #حياتك85', ' #ASNLASM', ' #Enlace521', ' #1AdayaDüşsem', ' #CiteUmaDica', ' #OdeioVer', ' #FelizSabado', ' #euroviisut', ' #BSCRBL', ' #SWAEVE', ' #NapoliCagliari', ' #خمسه_بس', ' #DDvMI', ' #DerbyDay', ' #PSGSCB', ' #JuveTorino', ' #TakeMeOut', ' #FREECOMICBOOKDAY', ' #الرياض_الان', ' #PAOKAEK', ' #6May', ' #ThingsJesusNeverSaid', ' #برشلونه_فياريال', ' #SuperLiga', ' #ارسنال_مانشستر_يونايتد', ' #شوفت_في_تويتر', ' #7May', ' #excfey', ' #OpeningCeremony', ' #SCFS04', ' #3YearsOf1DInBrazil', ' #حياتك86', ' #mmkisat', ' #FakeCivilWarFacts', ' #ConstituyenteParaLaPaz', ' #OLFCN', ' #СпартакЧемпион', ' #TamanhoFamilia', ' #EXOLSelcaDay', ' #FelizDomingo', ' #KXIPvGL', ' #TorcidaDeAltoFalante', ' #KimeraldOnGGV', ' #おまえらのGWを三行で振り返れ', ' #무엇을_어디에_넣어줄지_말해보자', ' #DateMyFamily', ' #شعبيات_الثامنه', ' #Mesaza', ' #عطنا_خلفيه_للجوال', ' #maratonamentana', ' #استقاله_فيصل_بن_تركي_رسميا', ' #ماكرون', ' #ltwsh17', ' #نطالب_بالغا_الاختبارات', ' #ARSMUN', ' #VamosColoColo', ' #13ReasonsWhySeason2', ' #Presidentielle2017', ' #シブヤノオト', ' #AFLFreoDons', ' #BuonaDomenica', ' #WorldLaughterDay', ' #Saat17deMFÖSahnede', ' #RUNSKG', ' #サイコパスソシャゲ民', ' #طالبه_جامعيه_تقود_حافله', ' #bbcsp', ' #HenriFalconALa1', ' #마음당_고삼때_이야기', ' #NuevaCasa', ' #90MinutosFOX', ' #NoMuslimBanEver', ' #끄덕이아빠_1주년_축하해', ' #QueBolasJulioBorges', ' #SkeemSaam', ' #DíaMundialDeLaCruzRoja', ' #sözver', ' #JusticiaIndependiente', ' #4WordLetDowns', ' #SamimiDiyorum', ' #frontsocial', ' #VotaLaMoción', ' #cinescarsi', ' #ParaDejarDeSerGodinDebes', ' #CosasQuePuedenAlegrarUnLunes', ' #BayrakSevdası', ' #نطالب_بسجن_ابو_زقم', ' #LiesYouTellAtWork', ' #TheVampsVIP', ' #SRHvMI', ' #EnTwitterSigoA', ' #GoblinOnAbsCbn', ' #MentalHealthAwarenessWeek', ' #SomethingDifferentTour', ' #DellEMCWorld', ' #VzlaDiceNOALaDictadura', ' #الغاء_حفل_تكريم_محمد_نور', ' #90lardaBen', ' #SunandaMurderTapes', ' #EstaSemanaYoVoyA', ' #CancelOUAT', ' #FelizLunes', ' #8May', ' #mondaymotivation', ' #ما_ابسط_امنياتك', ' #SignOfTheTimesMusicVideo', ' #BladeRunner2049', ' #الاهلي_ذوب_اهن', ' #الريان_الهلال', ' #VotoRogadoVotoRobado', ' #scioperosquad', ' #شكرا_امين_المدرسه', ' #GandhiVipSaas', ' #EsDeMacabeos', ' #SierraLaMar', ' #EuropeDay', ' #AaronHernandez', ' #НилинаксИБаблГамСосутВИнсту', ' #ايقاف_استقدام_اطباء_الاسنان', ' #TypicalBehaviorForMyMom', ' #InMyNextLifeIWill', ' #猫を二匹飼うなら名前は', ' #あなたはいい旦那さんになれるか', ' #FelizDiaDeGoku', ' #MiMamáDecía', ' #الموظف_في_انتظار_العلاوه', ' #ReferendoContraLosNiños', ' #KXIPvKKR', ' #ZaferBizimOlacak', ' #CEONamTaeHyunIs24', ' #GoblinMissingSoul', ' #TuesdayThoughts', ' #SaudadesDeQnd', ' #EsDeMuyMalGusto', ' #foxhunting', ' #FelizMartes', ' #PatriaConstituyente', ' #HarryStylesAvecVirginradio', ' #NationalTeachersDay', ' #HappyHWIYOUNGday', ' #PorLaGloriaContinental', ' #Noal2x1', ' #superpariente', ' #REIDyForMoreAt24', ' #素晴らしい映画邦題', ' #حياتك89', ' #GLvDD', ' #البنات_يغارون_من_روان_حسين', ' #あなたはいいゴリラになれるか', ' #FernandoGaviria', ' #alsich10war', ' #زوج_يصالح_زوجته_بالمدرسه', ' #EscudosContraLaDictadura', ' #DawnLeaks', ' #DejenQuietoAlQueEstaQuieto', ' #MamáMeDiceSiempre', ' #MiMamáMePegóCon', ' #değişimeimzaverin', ' #1daytillMalibu', ' #GoblinsBride', ' #OrgullososDeNoSerComoVosotros', ' #メイドの日', ' #ReferendoDiscriminatorio', ' #من_هزم_النصر_خمسه', ' #VolcanicVIVEGAMTeaserNight', ' #TantitaMadre', ' #VcFezSeuTwitterPQ', ' #2x1alosGenocidas', ' #ClimateChangeIn5Words', ' #امطار_المدينه', ' #ParoDeTaxistas', ' #احذف_قنوات_ام_بي_سي_قبل_رمضان', ' #10May', ' #wednesdaywisdom', ' #MoroPersegueLula', ' #bowwowchallenge', ' #ComeyFiring', ' #MSBuild', ' #MoroOrgulhoBrasileiro', ' #felizdiadelasmadres', ' #GMNoche16', ' #DentroDeIberia', ' #ادهشنا_قول_اي_شي', ' #قبيله_حرب_تاريخ_ومجد', ' #ÉVoceNoMixTudo', ' #RespectShawn', ' #PlantonAMirafloresSinRetorno', ' #MafiaSdvMinhaMaeÉ', ' #ConcejalesDeLaDictadura', ' #FueraPRIDeSuMadriguera', ' #طرد_رافضي_السلام_الملكي', ' #mauriziocostanzoshow', ' #PeroNosFaltaron', ' #GreatThingsFromThe1970s', ' #12Mayıs2012', ' #AndasEnamoradoY', ' #SGBADLIAR', ' #اليمن_ترفض_الانقسام', ' #EnvoyeSpecial', ' #SendAMovieToCollege', ' #ConLaLluviaMePasaQue', ' #الهلال_بطل_اضعف_دوري', ' #TBTENMTVHITS', ' #İçtenlikleDiyorumKi', ' #CelebNameMashup', ' #このタグ見た人は今欲しいものを言う', ' #CommonSense', ' #JDCMasiesTV3', ' #تتويج_برنامج_حياتك', ' #escita', ' #BANKROLL', ' #الحب_بالوقت_هذا', ' #NationalEatWhatYouWantDay', ' #ConElTemporalSigoChilenos', ' #CuentameSecuestro', ' #المكياج_نعمه_او_نقمه', ' #عطني_كلمه_حلوه', ' #اعتزال_الخلوق_حسين_عبدالغني', ' #bbcqt', ' #SVGala4', ' #HarryStylesAlbum', ' #Eurovision', ' #MurexDor2017', ' #MeEnamoreVideo', ' #CMFMéxico', ' #TheExorcist', ' #QuartoGrado', ' #imigliorianni', ' #VTEP', ' #AtencionMedicaParaElGralVivas', ' #SiNoTeHubierasIdo', ' #قحطان_من_ماضي_الازمان', ' #MasterChefUK', ' #withfewexceptions', ' #OQueAVidaMeRoubou075', ' #اربح_iphone7_مع_هوتل_مي6', ' #l6cSacarAFranco', ' #UFCSummerKickoff', ' #DíaDelComunicólogo', ' #MeEstresaQueTú', ' #EquipoAceitePalma', ' #DignaPNB', ' #merakediyorum', ' #GrahamNorton', ' #MafiaSdvSeEuFosseVc', ' #MyFirstLoveWas', ' #juegaschneider', ' #LasPuertas', ' #nhscyberattack', ' #تعلمت_من_اصدقاء_السوء', ' #MTVHITSDAMAMÃE', ' #الفيصلي_الاهلي', ' #نطالب_بمكبرات_اذان_برمضان', ' #WeAreAlwaysWithYouBex', ' #HarryStylesConExa', ' #ياسر_القحطاني_5M_متابع', ' #Soma', ' #ciberataque', ' #TürkOlmak', ' #تشلسي', ' #TuCaraNoTodavia9', ' #جمهوركم_عشرات_يانصر', ' #BonAppétitMusicVideo', ' #WannaCry', ' #KohLanta', ' #VaiDarABundaReinaldo', ' #الحب_حلو_اذا', ' #احلي_مالقيت_بتويتر', ' #foustanela', ' #celebratediversity', ' #annecennettir', ' #croatia', ' #الهلال_التعاون', ' #spain', ' #belgium', ' #حبيبتك_وش_تحب_من_الشوكليت', ' #12points', ' #esf17', ' #esc2017', ' #eurovision', ' #80sCurfewExcuses', ' #leiene', ' #annewill', ' #imzentrum', ' #SonraBurayaYazdım', ' #مراقص_فالمدارس_بتاييد_الوزاره', ' #ASMLOSC', ' #CallejaRisto', ' #ASSEPSG', ' #WitnessIsComing', ' #عبر_عن_مشاعرك', ' #pldebatt', ' #FCGBOM', ' #قبيله_تحبها', ' #Intouchables', ' #ConexionHonduras4', ' #ريال_مدريد_اشبيليه', ' #SalvadosCastor', ' #DubNation', ' #مهمتك_في_رمضاان', ' #ObjetivoHernando', ' #BAFTATV', ' #RomaJuve', ' #EnqueteExclusive', ' #VamosLaU', ' #twegro', ' #H96VFB', ' #الخميس_الملعب_كله_اهلاوي', ' #おんな城主直虎', ' #VGAllTimePhenomenal', ' #YaMeDesperteY', ' #DomingoComTsunamiSdv', ' #SundayMorning', ' #festadellamamma', ' #TheLaneTheFinale', ' #viteallimite', ' #شخصيه_خياليه_تتمني_تتزوجها', ' #koçyiğitler', ' #ianbrady', ' #rubi086', ' #report', ' #mafiasdvamaré', ' #constituyenteeducativa', ' #puntookupaslujo', ' #hartaberfair', ' #firstdates336', ' #theislandm6', ' #badliarlyrics', ' #افنان_الباتل_في_الماجد_للعود', ' #noolvidocuandoelprofe', ' #اربح_ايفون_مع_الكابتن', ' #اه_لو_بيدي', ' #fernandezfuera', ' #nakedattraction', ' #madeinchelsea', ' #nationalchocolatechipday', ' #الكوتش', ' #TropheesUNFP', ' #15may', ' #confidentforshawn', ' #allyouneed2', ' #البريك_افضل_لاعب_2017', ' #mypiratenamewouldbe', ' #diadelmaestro', ' #liderbeşiktaş', ' #sözümsöz', ' #fuerzacihan', ' #والله_الواحد_مايدري_وش_يقول', ' #chewat', ' #soluksuziçerde', ' #littleboyblue', ' #ABCUpfronts', ' #CAPIdeas', ' #Rubi087', ' #عبدالكريم_الحربي_بعالم_الوسام', ' #لهون_وبس', ' #UnDiaSinPeriodismo', ' #elintermedio', ' #ياهلال_ماخبروك_الكاس_للملوك', ' #TheBigQuestion', ' #cartabianca', ' #MakeACelebNerdy', ' #وش_ذكرك_فيني', ' #SecretsDhistoire', ' #SeMeHizoVicio', ' #ElFracasoDeMacri', ' #SenhoraDoDestino', ' #نطالب_بمحاسبه_عبدالله_الجمعه', ' #تضحك_لي_الدنيا', ' #HastaSiempreGulseren', ' #16May', ' #MIvRPS', ' #1993LaSerie', ' #YoEstoyConCifu', ' #صواريخ_ار_بي_جي_في_المسوره', ' #LaCalorMePone', ' #Wembley25TV3', ' #FirstDates337', ' #GERLAT', ' #MentiraMasUsada', ' #EuNãoComo', ' #DiMartedi', ' #العيال_بلا_احساس', ' #الباطن_نجران', ' #الاتحاد_هو_الزعيم_الملكي', ' #agentgwiazdy', ' #threegirls', ' #TierraDeNadie4', ' #DünyaLideriErdoğan', ' #ARSSUN', ' #BondTrumpBond', ' #instagramdown', ' #NoPromisesVideoToday', ' #٣ايفونplus_من_دهانات_اوسكار', ' #يوفنتوس_لاتسيو', ' #MyWeirdSecret', ' #ايران_تدعم_ارهابيي_العواميه', ' #JourneeMondialeContreLesPD', ' #ComelloInnoCoppaItalia', ' #AktenzeichenXY', ' #MeineFuenfLieblingsserien', ' #PKKyaOsmanlıTokadı', ' #SonDeCartónLosQue', ' #FirstDates338', ' #GZSZ', ' #من_صميم_قلبي_اقولك', ' #BeSupportiveIn4Words', ' #itvwalesdebate', ' #AbsaPrem', ' #ساحره_بالرياض', ' #paopaok', ' #SOUMUN', ' #DíaDelInternet', ' #gouvernementphilippe', ' #Fener4Glory', ' #17May', ' #بيت_تحبه_لشاعر_تتابعه', ' #ateema', ' #SRHvKKR', ' #CanFeda', ' #STRIPTHATDOWN', ' #BadLiarAtMIDNIGHT', ' #المريسل_يعتزل_الاعلام', ' #ASMASSE', ' #TrumpsLegacyWillBe', ' #BaisersCaches', ' #whatsappdown', ' #ريال_مدريد_سيلتا_فيغو', ' #JuveLazio', ' #IO17', ' #loveislove', ' #ThursdayThoughts', ' #VurdukYineVururuz', ' #NoNosEnredenLaPaz', ' #tekçözüm', ' #القياده_حق_للجميع', ' #ازاله_تيفو_الهلال', ' #اكثر_حاجه_تزعلني', ' #敵だったけど味方になる系で好きなキャラ', ' #انتحار_فتاه_بعرعر', ' #صناع_الامل', ' #vouli', ' #RecuerdosDeNiñez', ' #ChangeALetterToRuinABrand', ' #LEITOT', ' #BlackLightning', ' #MéxicoEsHermosoPorque', ' #InternationalMuseumDay', ' #RadioBaba', ' #GetBadLiarOniTunes', ' #توقع_النتيجه_مع_كيا', ' #ConstituyenteYPaz', ' #SevdaAteşi', ' #GNTM', ' #8YearsofOneTime', ' #MTVAWARDSSTAR', ' #18May', ' #Uthandonesthembu', ' #ForaMaia', ' #BrasiliaOfCards', ' #ITVDebate', ' #كاس_خادم_الحرمين', ' #QueremosRock', ' #تويتر_معلق', ' #FineWomenFriday', ' #YSiFueraElla', ' #longweekend', ' #YaşasınNuriyeVeSemih', ' #VOTOREFERENDUM', ' #Hanouna', ' #HappyBirthdayNTR', ' #SextaDetremuraSDV', ' #BikeToWorkDay', ' #HelpConquerAFilm', ' #كاس_رييس_الدوله', ' #ALas12EnElNacional', ' #AndaluciaConPedro', ' #AishwaryaAtCannes', ' #VakitDaralıyor', ' #NoisEhFeioMais', ' #DíaDelMercadólogo', ' #WhyVote', ' #SusanaEnSevilla', ' #TwitterDown', ' #ParaEsteFinYo', ' #SoloEnDialogoHayPaz', ' #RelojDeFlores', ' #19May', ' #1YearOfDangerousWoman', ' #EndangeredSpeciesDay', ' #FridayFeeling', ' #CryingInTheClubMusicVideo', ' #MIvKKR', ' #السد_الريان', ' #براءه_ساحره_الرياض', ' #F4Glory', ' #ضرب_دكتور_في_جامعه_الملك_خالد', ' #TWINPEAKSEXPERIENCE', ' #saturdaymorning', ' #LiveFromAHorrorFilm', ' #ヤバい', ' #РоссияКанада', ' #PippasWedding', ' #DaleAlboHastaElFinal', ' #المفقوده_طيبه_محمود_ال_جاسم2', ' #目を瞑って本を売るならブックオフと打つ', ' #MEŞRUDEĞİLSİNiz', ' #effzeh', ' #MHRR92', ' #ElPuebloPidePaz', ' #سعودي_قوي_يسال_وين_قطونيل', ' #최애를_깨달은_시점', ' #SabadoDetremuraSDV', ' #ساره_بنت_احمد_الربيعه', ' #BringBackFaisalRanjha', ' #MacriLaGuitaNoAlcanza', ' #HSVWOB', ' #SeríaUnBandiditoSi', ' #자음으로_속마음을_말해보자', ' #DIADELPSICOLOGO', ' #CambiandoJuntos', ' #كلمتك_للي_يلعب_عالبنات', ' #사랑으로_시작하는_자동완성_글쓰기', ' #ThreeWordTrump', ' #VivaLaVida1', ' #ArmedForcesDay', ' #Bundesliga', ' #Enlace523', ' #BatallaDeLosGallos', ' #SomosMillonesPorElCAMBIO', ' #بنت_حميدان_التركي', ' #NamoreAlguémQue', ' #اكثر_شي_متحمس_له_برمضان', ' #お前らガチ泣きしたシーン晒せよ', ' #ChievoRoma', ' #الهلال_كوزموس', ' #lovelive', ' #HayQueEcharlos', ' #بنت_ترامب', ' #ليفربول', ' #baytobreakers', ' #بنات_السعوديه_فخر', ' #domenicalive', ' #OurPerfectWedding', ' #هدم_مسجد_بنت_ترامب', ' #РоссияФинляндия', ' #FakeSNLFacts', ' #멘션온_주제와의_첫만남을_말해본다', ' #TippvCork', ' #NoMeuCelularTem', ' #PrimariasPSOE', ' #miroirtwitter', ' #septahuit', ' #21May', ' #SundayFunday', ' #GGVAnakNgSikat', ' #PrivilegedPeopleProblems', ' #القمه_الخليجيه_الامريكيه', ' #gemagegarvaganza', ' #EnBuenChileno', ' #神王オジマンディアス', ' #DomingoDetremuraSDV', ' #القادسيه_الكويت', ' #세븐틴_울고_싶지_않아', ' #iKON_BLINGBLING', ' #21DeMayo', ' #YNWA', ' #البنات_لذه_الحياه', ' #enacional', ' #TrumpinSaudi', ' #LE6END', ' #IPLfinal', ' #HappySuhoDay', ' #المفقوده_طيبه_محمود_ال_جاسم4', ' #ParabénsSophiaAbrahão', ' #kıskanıyorum', ' #Pomeriggio5', ' #hemöylehemböyle', ' #consensus2017', ' #ConXaviYLoMas40', ' #DíaDeLaBiodiversidad', ' #DTBYRomance', ' #BronxUnAñoDeRetos', ' #RegisterToVote', ' #ReferèndumCAT', ' #WorldGothDay', ' #GoblinDate', ' #عوده_جناسي_عايله_البرغش', ' #PorLaMañana', ' #ペペロンチーノを注文しよう', ' #자캐에게_물어보면_자캐가_대답해준다', ' #dementiatax', ' #VictoriaDay', ' #HighSchoolSchmovies', ' #EnElCongreso', ' #세대차이_확_느낄만한_말을_해보자', ' #月曜から夜ふかし', ' #MajorGogoiHonoured', ' #NoMeLaCreoPero', ' #SegundaComTsunamiSdv', ' #IndiaFirstNoCompromise', ' #CerdosVuelen', ' #ToDeSacoCheioDe', ' #GeldimVeŞunuYazdım', ' #DontInterruptMeWhen', ' #نريد_تحديد_سن_الرشد_للمراه', ' #밤이니까_솔직한_이야기를_해보자', ' #DiaDoAbraço', ' #22May', ' #LustForLife', ' #bugün45kilokızlarıngünü', ' #TeRegaloUnBesoSiTu', ' #BuGeceyeHaykırdım', ' #thankyouthevamps', ' #EsClásicoDeMujeres', ' #لا_للتجديد_لياسر', ' #اختراق_وكاله_الانباء_القطريه', ' #تقول_ايه_لتميم', ' #AlvLaEscuelaSere', ' #SoIToldTheCop', ' #AcojonaATusPadres', ' #MafiaSdvNessePaís', ' #قطر_تنفي_والعربيه_تنبح', ' #CrushsNoMTVHits', ' #DelfinaHuachicolera', ' #FALCONEeBORSELLINO', ' #WorldTurtleDay', ' #VeritatMentidaTV3', ' #SpanglishEnMTVHITS', ' #MePareceUnaFaltaDeRespeto', ' #سامحينا_يا_غدير', ' #SesiónAN', ' #تميم_المجد', ' #ConEsteCalor', ' #النفسيه_محتاجه', ' #みんなの初ラノベ教えてよ', ' #لن_امنشن_عيال_برمضان', ' #TrumpBudget', ' #DeepThoughtsFromMikePence', ' #MusicIsAlive', ' #MusicaBoaAoVivo', ' #LaCasaDePapel4', ' #تميم_صديقنا_ويحبنا_ونحبه', ' #TierraDeNadie5', ' #نطالب_بعوده_الرواتب_بالهجري', ' #وش_تحب_البنت_برمضان', ' #ArianaStayStrong', ' #تصريحات_تميم', ' #MafiaSdvMenosDramaMais', ' #RedneckSummerRituals', ' #Maischberger', ' #الحقيل_بناء_بيوت_بيومين', ' #WhiteGold', ' #LetsBeFriendsIf', ' #PrayForJakarta', ' #MakeMusicRoyal', ' #40AñosDePunkEnMTVHITS', ' #GetItAll', ' #IlluminateTourParis', ' #renfe', ' #manasnomtvhits', ' #عيب_البنات', ' #secondocosta', ' #FrasesCelebresFrikis', ' #biliyormusun', ' #MariNolascoNoTVZ', ' #FacciamoCheIoEro', ' #LookAtUsNowIsComing', ' #MyWorstDate', ' #قطر_ليست_وحدها', ' #GOTs7', ' #ثانويه_العديليه', ' #MeEnamoraDeTiQue', ' #زهران_تهنيكم_بشهر_رمضان', ' #FantasticDuo3', ' #UDOBolivar', ' #LaIsla2', ' #PerdónameSeñor', ' #كلنا_قطر_وتف_للحاقدين', ' #CasoAsunta', ' #CBOSCORE', ' #في_المرمي', ' #كذبه_من_كذب_العيال', ' #البنات_خرفان_الاتراك', ' #MUFC', ' #1linewed', ' #BastaYa', ' #OlmazsaOlmazım', ' #TheLastJedi', ' #MesafelerAşkEngelmi', ' #MiVozPorLaLibertad', ' #26maheaños', ' #TuttoPuoSuccedere2', ' #FirstDates345', ' #25May', ' #TwitterEstáMásRaroQue', ' #DíaDelContador', ' #انا_بحريني_ولست_بخير', ' #الهريش_يدمر_الاتحاد_بالتكليف', ' #DentroDePalace', ' #Felices116River', ' #جازان_بلا_بنزين', ' #ConeSóPraComeçar', ' #CampoDeEstrellas', ' #بنوزع_فولورز_وفوانيس_رمضان', ' #SeinfeldAMovie', ' #thetrial', ' #sözünözü', ' #CristinaEnC5N', ' #THEREFORYOU', ' #ESTACFCL', ' #MafiaSdvMaisAmorMenos', ' #EbediyeteKadar', ' #HoyEraUnDíaEspecialY', ' #NaceUnPais', ' #RedNoseDay', ' #TBTNoMTVHits', ' #WOBEBS', ' #JDCDeltaTV3', ' #StarWars40th', ' #لا_نمشن_بنات_في_رمضان', ' #تمديد_اداره_باعشن', ' #قطر_بمواجهه_اعداء_الخليج', ' #5WordGraduationSpeech', ' #GNTMFinale', ' #رمضان_كريم', ' #امنيتك_بشهر_رمضان', ' #NationalWineDay', ' #اجمل_بنات_العالم_السعوديات', ' #CuentameAntonio', ' #SVGala6', ' #blackhairchallenge', ' #GantiLirik', ' #letsdance', ' #hignfy', ' #spitzestifte', ' #Wellesley2017', ' #LaPazExigeDialogo', ' #مبارك_عليكم_الشهر', ' #جنودنا_البواسل', ' #BBCelection', ' #Gogglebox', ' #EquipoPlástico', ' #legrandblindtest', ' #FestivalDeCantadas', ' #AbdülhamidiAnlamak', ' #thelastleg', ' #DjEsaNoPorQue', ' #MakeAMovieDisney', ' #اعاده_حركه_النقل_الظالمه2', ' #Taratata', ' #طبق_يحطمك_بالفطور', ' #l6cPedroVuelve', ' #KuranZiyafeti', ' #Alanzoka2M', ' #26May', ' #StrangersToTheTop10', ' #AunqueNoMeCrean', ' #Rubi095', ' #OLHONUMTVHITS', ' #HayırlıRamazanlar', ' #عبدالله_و_الشماسي', ' #WeWillNotLetHateWin', ' #كان_في_كل_زمان', ' #كل_عام_وانتم_بخير', ' #SRRCT', ' #الملك_عبدالله', ' #HermanoMayorAmelie', ' #MemorialDayWeekend', ' #Ramadan', ' #TuCaraNoTodaviaFaseFinal', ' #رمضان', ' #حزب_اللي_بحياتهم_ماشربوا_سوبيا', ' #PrimeraCitaY', ' #SEAvPOR', ' #DesfileMilitar', ' #L6Ncruzwyoming', ' #ItalianMTVAwards', ' #bigweekend', ' #تميم_يهني_روحاني_برمضان', ' #GrovesChudinov', ' #شكرا_لمن_طبخت_فطوري', ' #برشلونه_الافيس', ' #سيلفي', ' #رامز_تحت_الارض', ' #اربح_20000ريال_مع_العبداللطيف', ' #SGEBVB', ' #غرابيب_سود', ' #مسابقه_الوليد_شفاه_الله_1', ' #TheVoice', ' #SCOPSG', ' #amici16', ' #SAMA23', ' #嵐にしやがれ', ' #SağlıkçılaraŞiddeteHayır', ' #PapaGenova', ' #IfICouldFinally', ' #مسابقه_الجهني_الرمضانيه١', ' #f1jp', ' #cmoref1', ' #MPKDystonia', ' #EastCoastIn5Words', ' #IFoundParadiseAnd', ' #AFLCrowsFreo', ' #AldenUpsurge', ' #صحن_واحد', ' #StopYulinHayvanKatliaminaSon', ' #SabzarBhat', ' #مسابقه_برنامج_سابقوا', ' #ALaCalle27M', ' #اقف_ضد_التطرف', ' #ComiatRaimonTV3', ' #نتايج_التحصيلي', ' #SerieAxESPN', ' #chetempochefa', ' #ElderlyStatusUpdates', ' #RioPelasDiretas', ' #NationalHamburgerDay', ' #Polizeiruf', ' #DomingosConMaduro88', ' #ZoneInterdite', ' #DiadelPatrimonio', ' #GeziParkı', ' #FCLESTAC', ' #ConexiónHonduras6', ' #InterUdinese', ' #5DaysFifthHarmony', ' #اربح_iphone7_مع_العبداللطيف1', ' #ObjetivoPSOE', ' #UFCStockholm', ' #قناه_الجزيره_تسيء_للملك_سلمان', ' #سحب_شهادات_ثالث_ثانوي', ' #مسابقه_الوليد_شفاه_الله_2', ' #ŞampiyonBeşiktaş', ' #Indy500', ' #CbseResults2017', ' #FCVFCC', ' #جامعه_خالد_مانزلت_المكافات', ' #FinalCopaECI', ' #WansaAPFirstKiss', ' #RedBullKumite', ' #CNIMasihAda', ' #あなたの推しの好きなところ', ' #rodmvv', ' #JeSoutiensMwasi', ' #TAEYEON_PERSONAinBKK', ' #BülentEcevit', ' #गउ_हत्यारी_Congress', ' #رمضان_احلي_مع_عبدالصمد_القرشي', ' #EsteFin', ' #NCAALax', ' #FeminismoPorque', ' #FirstDates348', ' #JFK100', ' #Rubi096', ' #SerPobreEh', ' #VuzuHustle', ' #ShakiraEH', ' #الغاء_حمله_التدخين', ' #LaCitedelaPeur', ' #مسابقه_نجوم_الصحه_1', ' #قطر_تسيء_للملك_سلمان', ' #OjaláPudiera', ' #LunesUnBuenDíaPara', ' #ByeByeDelMazo', ' #KutluFetih', ' #ŞehitOluruzÖlmeyiz', ' #springwatch', ' #BritainsGotTalent', ' #العين_الاستقلال', ' #لو_هذا_اخر_رمضان_لك', ' #YaVieneLaConstituyente', ' #TheQueenMzansi', ' #5HDOWN', ' #AskMay', ' #sözvatana', ' #LuisFonsiIsOverParty', ' #EBSWOB', ' #الاهلي_اهلي_دبي', ' #YılmazBrothers', ' #MemorialDay', ' #BattleForNumber10', ' #ZeytinimeDokunma', ' #مسلسل_خفايا4', ' #OpenYourMouthTNCM', ' #نطالب_الملك_بايقاف_العرفج', ' #EstudiantesEnLaCalle', ' #LGBTHustings', ' #TravelTuesday', ' #DidItForTheAdrenalineRush', ' #edho', ' #450BinÖgrtAtamaBekliyor', ' #twitchcon', ' #3DaysTillDown', ' #MartinFierro2017', ' #FuerzaGignac', ' #BBQAMusical', ' #500DiasMilagroPresaPolitica', ' #لا_لاستمرار_فيتفا', ' #GreenerUK', ' #اربح_iphone7_مع_العبداللطيف2', ' #Uyangthandana', ' #HowToMakeCollegeEasier', ' #TuesdayMotivation', ' #direzionePd', ' #AlfredoMiGobernador', ' #singmeinensong', ' #SiempreMeHePreguntadoSi', ' #namoracomigo', ' #AyşeDenizKaracagil', ' #30May', ' #LanzateAConstituyente', ' #TheOneShow', ' #Quotidien', ' #VCFdespegamos', ' #CNEAla1', ' #الهلال_استقلال_خوزستان', ' #QueElMundoSeEntere', ' #WhiteHouseSongs', ' #OneLoveManchester', ' #RenewSense8', ' #M60SSV', ' #مسابقه_الوليد_شفاه_الله_4', ' #قطر_تستفز_بعثه_الهلال']\n"
     ]
    }
   ],
   "source": [
    "date = datetime.datetime.strptime('2017-01-01', '%Y-%m-%d')\n",
    "one_day = datetime.timedelta(days=1)\n",
    "monthlytrend = []\n",
    "for i in range(365):\n",
    "    url= \"https://trendogate.com/placebydate/1/{}\".format(date.strftime(\"%Y-%m-%d\"))\n",
    "    print (url)\n",
    "    r = requests.get(url)\n",
    "    data = r.text\n",
    "    soup = BeautifulSoup(data)\n",
    "    \n",
    "    for link in soup.find_all('a'):\n",
    "        if ('#' in link.text) and (link.text not in monthlytrend):\n",
    "            monthlytrend.append(link.text)\n",
    "    date = date + one_day\n",
    "print (monthlytrend)"
   ]
  },
  {
   "cell_type": "code",
   "execution_count": 14,
   "metadata": {},
   "outputs": [
    {
     "name": "stdout",
     "output_type": "stream",
     "text": [
      "https://trendogate.com/placebydate/1/2017-01-01\n"
     ]
    },
    {
     "name": "stderr",
     "output_type": "stream",
     "text": [
      "D:\\Anaconda3\\lib\\site-packages\\bs4\\__init__.py:181: UserWarning: No parser was explicitly specified, so I'm using the best available HTML parser for this system (\"lxml\"). This usually isn't a problem, but if you run this code on another system, or in a different virtual environment, it may use a different parser and behave differently.\n",
      "\n",
      "The code that caused this warning is on line 193 of the file D:\\Anaconda3\\lib\\runpy.py. To get rid of this warning, change code that looks like this:\n",
      "\n",
      " BeautifulSoup(YOUR_MARKUP})\n",
      "\n",
      "to this:\n",
      "\n",
      " BeautifulSoup(YOUR_MARKUP, \"lxml\")\n",
      "\n",
      "  markup_type=markup_type))\n"
     ]
    },
    {
     "data": {
      "text/plain": [
       "'[[\"2017-01-01\", [\" #Polizeiruf\", \" #FelizDomingo\", \" #RCTR92\", \" #\\\\u0647\\\\u064a_\\\\u062d\\\\u064a\\\\u0627\\\\u062a\\\\u064a\", \" #MagconBrazil2017\", \" #Traumschiff\", \" #SOS_YemenGenocide\", \" #NiUnaMenos\", \" #Reinakatliami\", \" #\\\\u0627\\\\u0645_\\\\u0645\\\\u062d\\\\u0645\\\\u062f_\\\\u0628\\\\u0643\\\\u0631_\\\\u0627\\\\u0641\\\\u0636\\\\u0644_\\\\u0645\\\\u062f\\\\u0631\\\\u0633\\\\u0647\", \" #Fetonunk\\\\u00f6pe\\\\u011figalatasaray\", \" #FakeHangoverFacts\", \" #\\\\u062c\\\\u0627\\\\u0645\\\\u0639\\\\u0647_\\\\u0627\\\\u0644\\\\u062f\\\\u0645\\\\u0627\\\\u0645_\\\\u062d\\\\u0641\\\\u0644_\\\\u0645\\\\u062e\\\\u062a\\\\u0644\\\\u0637_\\\\u0648\\\\u0645\\\\u0648\\\\u0633\\\\u064a\\\\u0642\\\\u064a\", \" #Always_love_you_\\\\ub0a8\\\\uc900\", \" #2C17isHere\", \" #\\\\u0627\\\\u062d\\\\u062a\\\\u0633\\\\u0627\\\\u0628_\\\\u0628\\\\u0646\\\\u062f_\\\\u0661\\\\u0660\\\\u0665_\\\\u0643\\\\u062e\\\\u062f\\\\u0645\\\\u0647\", \" #DecretoQueEl2017\", \" #StealTheShow\", \" #PrimerDiaDeSeguirChilenos\", \" #\\\\u0639\\\\u0645\\\\u0631_\\\\u0628\\\\u0646_\\\\u0627\\\\u0644\\\\u062e\\\\u0637\\\\u0627\\\\u0628\", \" #\\\\u062a\\\\u0628\\\\u064a_\\\\u062a\\\\u0646\\\\u062d\\\\u0641_\\\\u0628\\\\u0635\\\\u062d\\\\u0647\", \" #Mulan\", \" #2017J\\\\u00e1ChegouEEu\", \" #\\\\u0639\\\\u0628\\\\u062f\\\\u0627\\\\u0644\\\\u0644\\\\u0647_\\\\u0628\\\\u0646_\\\\u0639\\\\u0628\\\\u062f\\\\u0627\\\\u0644\\\\u0639\\\\u0632\\\\u064a\\\\u0632\", \" #saveAli\", \" #RabbiJacob\", \" #\\\\u015eikeTapeleriOrtaya\\\\u00c7\\\\u0131kt\\\\u0131\", \" #\\\\u0627\\\\u0646\\\\u062a_\\\\u0627\\\\u0644\\\\u064a_\\\\u062c\\\\u0628\\\\u0631\\\\u062a\\\\u0646\\\\u064a\", \" #Sherlock\", \" #oyunagelmiyoruz\", \" #Newyearsday\", \" #\\\\u041d\\\\u041e\\\\u0427\\\\u042c\\\\u0428\\\\u0415\\\\u0420\\\\u041b\\\\u041e\\\\u041a\\\\u0410\", \" #Hollyweed\", \" #\\\\u0632\\\\u062f_\\\\u0631\\\\u0635\\\\u064a\\\\u062f\\\\u064378\", \" #Patriots\", \" #LounielleIsOverParty\", \" #\\\\u0627\\\\u0644\\\\u0646\\\\u0635\\\\u0631_\\\\u0627\\\\u0644\\\\u0627\\\\u062a\\\\u0641\\\\u0627\\\\u0642\", \" #eastenders\"]]]'"
      ]
     },
     "execution_count": 14,
     "metadata": {},
     "output_type": "execute_result"
    }
   ],
   "source": [
    "date = datetime.datetime.strptime('2017-01-01', '%Y-%m-%d')\n",
    "one_day = datetime.timedelta(days=1)\n",
    "monthlytrend = []\n",
    "json_out =[]\n",
    "for i in range(1):\n",
    "    url= \"https://trendogate.com/placebydate/1/{}\".format(date.strftime(\"%Y-%m-%d\"))\n",
    "    print (url)\n",
    "    r = requests.get(url)\n",
    "    data = r.text\n",
    "    soup = BeautifulSoup(data)\n",
    "\n",
    "    for link in soup.find_all('a'):\n",
    "        if ('#' in link.text) and (link.text not in monthlytrend):\n",
    "            monthlytrend.append(link.text)\n",
    "    json_out.append([date.strftime(\"%Y-%m-%d\"), monthlytrend])\n",
    "    \n",
    "    date = date + one_day\n",
    "    \n",
    "json.dumps(json_out)"
   ]
  },
  {
   "cell_type": "code",
   "execution_count": 18,
   "metadata": {},
   "outputs": [
    {
     "name": "stdout",
     "output_type": "stream",
     "text": [
      "1121\n"
     ]
    }
   ],
   "source": [
    "print( len(monthlytrend))"
   ]
  },
  {
   "cell_type": "code",
   "execution_count": 5,
   "metadata": {
    "collapsed": true
   },
   "outputs": [],
   "source": []
  },
  {
   "cell_type": "code",
   "execution_count": null,
   "metadata": {
    "collapsed": true
   },
   "outputs": [],
   "source": []
  }
 ],
 "metadata": {
  "kernelspec": {
   "display_name": "Python 3",
   "language": "python",
   "name": "python3"
  },
  "language_info": {
   "codemirror_mode": {
    "name": "ipython",
    "version": 3
   },
   "file_extension": ".py",
   "mimetype": "text/x-python",
   "name": "python",
   "nbconvert_exporter": "python",
   "pygments_lexer": "ipython3",
   "version": "3.6.2"
  }
 },
 "nbformat": 4,
 "nbformat_minor": 2
}
