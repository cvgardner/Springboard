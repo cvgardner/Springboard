{
 "cells": [
  {
   "cell_type": "code",
   "execution_count": 2,
   "metadata": {
    "collapsed": true
   },
   "outputs": [],
   "source": [
    "#Importing and uploading data\n",
    "import numpy as np\n",
    "import pandas as pd\n",
    "import matplotlib.pyplot as plt\n",
    "from scipy import stats\n",
    "\n",
    "bids = pd.DataFrame.from_csv('C:/Users/Christopher Gardner/Documents/Python Scripts/bids.csv')\n",
    "train = pd.DataFrame.from_csv('C:/Users/Christopher Gardner/Documents/Python Scripts/train.csv')\n",
    "\n",
    "#adding final time features created by subtracting bid time from the last time in the auction. \n",
    "test_df = pd.DataFrame.from_csv('C:/Users/Christopher Gardner/Documents/Python Scripts/final_times.csv')\n",
    "test_df.columns = ['f_time']\n",
    "bids = bids.merge(test_df, left_on='auction', right_index=True)\n",
    "test_df = pd.DataFrame.from_csv('C:/Users/Christopher Gardner/Documents/Python Scripts/short_times.csv')\n",
    "test_df.columns = ['short_time']\n",
    "bids = bids.merge(test_df, left_on='bidder_id', right_index=True)\n",
    "bids['diff_time'] = bids.f_time - bids.time\n",
    "#create proper merge\n",
    "groupfirst = bids.groupby(bids.bidder_id).nunique().sort_index()\n",
    "mergedsecond = groupfirst.merge(train.sort_index(), left_index=True, right_index=True)\n",
    "\n",
    "#now sort by desired values, update ranking and then split into bots and humans for plotting\n",
    "mergedsecond = mergedsecond.sort_values(by=['auction'])\n",
    "mergedsecond['ranking'] = np.arange(len(mergedsecond))\n",
    "mergedsecond['bids_per_auction'] = mergedsecond.time/mergedsecond.auction\n",
    "bots = mergedsecond[mergedsecond.outcome==1]\n",
    "humans = mergedsecond[mergedsecond.outcome==0]\n",
    "\n",
    "\n",
    "#mergefirst\n",
    "mergedfirst = bids.merge(train, left_on='bidder_id', right_index=True)\n",
    "groupedsecond = mergedfirst.groupby('bidder_id').nunique()"
   ]
  },
  {
   "cell_type": "code",
   "execution_count": 73,
   "metadata": {
    "collapsed": true
   },
   "outputs": [],
   "source": [
    "#Creating Train Test splits and pipeline\n",
    "from sklearn.model_selection import train_test_split\n",
    "from imblearn.over_sampling import RandomOverSampler\n",
    "from imblearn.under_sampling import RandomUnderSampler\n",
    "\n",
    "#X and y \n",
    "X = mergedsecond.drop(['outcome', 'payment_account', 'address', 'diff_time'], axis=1)\n",
    "y = mergedsecond.outcome\n",
    "\n",
    "#train test split\n",
    "X_train, X_test, y_train, y_test = train_test_split(X, y, test_size=0.3, random_state=42)\n",
    "\n",
    "#oversampled set\n",
    "ros = RandomOverSampler(random_state=42)\n",
    "X_ros, y_ros = ros.fit_sample(X_train, y_train)\n",
    "#undersampled set\n",
    "rus = RandomUnderSampler(random_state=42)\n",
    "X_rus, y_rus = rus.fit_sample(X_train, y_train)"
   ]
  },
  {
   "cell_type": "code",
   "execution_count": 94,
   "metadata": {},
   "outputs": [],
   "source": [
    "def roc_report(model, x_test, x_train, y_test, y_train):\n",
    "    print(\"Classification report and ROC curve for model type:\" + str(type(model)))\n",
    "    model.fit(x_train, y_train)\n",
    "    y_pred = model.predict_proba(x_test)\n",
    "    L = [x[1] for x in y_pred]\n",
    "    report = classification_report(y_test, model.predict(X_test))\n",
    "    print(report)\n",
    "    auc  = roc_auc_score(y_test, L)\n",
    "    print(\"AUC score: \"+ str(auc))\n",
    "    fpr, tpr, _ = roc_curve(y_test, l)\n",
    "    fpr = dict()\n",
    "    tpr = dict()\n",
    "    roc_auc = dict()\n",
    "    for i in range(2):\n",
    "        fpr[i], tpr[i], _ = roc_curve(y_test, y_pred[:, i])\n",
    "    plt.title\n",
    "    plt.plot(fpr[1],tpr[1])\n",
    "    plt.show()"
   ]
  },
  {
   "cell_type": "code",
   "execution_count": 95,
   "metadata": {},
   "outputs": [
    {
     "name": "stdout",
     "output_type": "stream",
     "text": [
      "Classification report and ROC curve for model type:<class 'sklearn.linear_model.logistic.LogisticRegression'>\n",
      "             precision    recall  f1-score   support\n",
      "\n",
      "        0.0       0.95      1.00      0.97       568\n",
      "        1.0       0.00      0.00      0.00        28\n",
      "\n",
      "avg / total       0.91      0.95      0.93       596\n",
      "\n",
      "AUC score: 0.808790241449\n"
     ]
    },
    {
     "data": {
      "image/png": "[encoded data removed]",
      "text/plain": [
       "<matplotlib.figure.Figure at 0x2b7295e8358>"
      ]
     },
     "metadata": {},
     "output_type": "display_data"
    }
   ],
   "source": [
    "roc_report(logreg, X_test, X_train, y_test, y_train)"
   ]
  },
  {
   "cell_type": "code",
   "execution_count": 96,
   "metadata": {},
   "outputs": [
    {
     "name": "stdout",
     "output_type": "stream",
     "text": [
      "Classification report and ROC curve for model type:<class 'sklearn.model_selection._search.GridSearchCV'>\n",
      "             precision    recall  f1-score   support\n",
      "\n",
      "        0.0       0.95      1.00      0.97       568\n",
      "        1.0       0.00      0.00      0.00        28\n",
      "\n",
      "avg / total       0.91      0.95      0.93       596\n",
      "\n",
      "AUC score: 0.41134305835\n"
     ]
    },
    {
     "data": {
      "image/png": "[encoded data removed]",
      "text/plain": [
       "<matplotlib.figure.Figure at 0x2b771091518>"
      ]
     },
     "metadata": {},
     "output_type": "display_data"
    }
   ],
   "source": [
    "from sklearn.model_selection import GridSearchCV\n",
    "param_grid = {'C': [0.001, 0.01, 0.1, 1, 10, 100, 1000], 'intercept_scaling': [0.001, 0.01, 0.1, 1 , 10] }\n",
    "log_cv = GridSearchCV(logreg, param_grid)\n",
    "roc_report(log_cv, X_test, X_train, y_test, y_train)"
   ]
  },
  {
   "cell_type": "code",
   "execution_count": 97,
   "metadata": {},
   "outputs": [
    {
     "name": "stdout",
     "output_type": "stream",
     "text": [
      "Classification report and ROC curve for model type:<class 'sklearn.model_selection._search.GridSearchCV'>\n",
      "             precision    recall  f1-score   support\n",
      "\n",
      "        0.0       0.99      0.77      0.87       568\n",
      "        1.0       0.16      0.86      0.27        28\n",
      "\n",
      "avg / total       0.95      0.78      0.84       596\n",
      "\n",
      "AUC score: 0.848214285714\n"
     ]
    },
    {
     "data": {
      "image/png": "[encoded data removed]",
      "text/plain": [
       "<matplotlib.figure.Figure at 0x2b71aff0438>"
      ]
     },
     "metadata": {},
     "output_type": "display_data"
    }
   ],
   "source": [
    "roc_report(log_cv, X_test, X_ros, y_test, y_ros)"
   ]
  },
  {
   "cell_type": "code",
   "execution_count": 98,
   "metadata": {},
   "outputs": [
    {
     "name": "stdout",
     "output_type": "stream",
     "text": [
      "Classification report and ROC curve for model type:<class 'sklearn.model_selection._search.GridSearchCV'>\n",
      "             precision    recall  f1-score   support\n",
      "\n",
      "        0.0       0.99      0.85      0.92       568\n",
      "        1.0       0.22      0.86      0.35        28\n",
      "\n",
      "avg / total       0.96      0.85      0.89       596\n",
      "\n",
      "AUC score: 0.880030181087\n"
     ]
    },
    {
     "data": {
      "image/png": "[encoded data removed]",
      "text/plain": [
       "<matplotlib.figure.Figure at 0x2b762cb2470>"
      ]
     },
     "metadata": {},
     "output_type": "display_data"
    }
   ],
   "source": [
    "roc_report(log_cv, X_test, X_rus, y_test, y_rus)"
   ]
  },
  {
   "cell_type": "code",
   "execution_count": 108,
   "metadata": {},
   "outputs": [
    {
     "name": "stdout",
     "output_type": "stream",
     "text": [
      "Classification report and ROC curve for model type:<class 'sklearn.ensemble.forest.RandomForestClassifier'>\n",
      "             precision    recall  f1-score   support\n",
      "\n",
      "        0.0       0.99      0.81      0.89       568\n",
      "        1.0       0.19      0.89      0.31        28\n",
      "\n",
      "avg / total       0.96      0.81      0.86       596\n",
      "\n",
      "AUC score: 0.913135060362\n"
     ]
    },
    {
     "data": {
      "image/png": "[encoded data removed]",
      "text/plain": [
       "<matplotlib.figure.Figure at 0x2b76d8b0438>"
      ]
     },
     "metadata": {},
     "output_type": "display_data"
    }
   ],
   "source": [
    "from sklearn.ensemble import RandomForestClassifier\n",
    "forest = RandomForestClassifier(n_estimators=10, max_depth=2, random_state=42)\n",
    "roc_report(forest, X_test, X_rus, y_test, y_rus)"
   ]
  },
  {
   "cell_type": "code",
   "execution_count": 109,
   "metadata": {},
   "outputs": [
    {
     "name": "stdout",
     "output_type": "stream",
     "text": [
      "Classification report and ROC curve for model type:<class 'sklearn.model_selection._search.GridSearchCV'>\n",
      "             precision    recall  f1-score   support\n",
      "\n",
      "        0.0       1.00      0.74      0.85       568\n",
      "        1.0       0.16      0.96      0.27        28\n",
      "\n",
      "avg / total       0.96      0.76      0.83       596\n",
      "\n",
      "AUC score: 0.895089285714\n"
     ]
    },
    {
     "data": {
      "image/png": "[encoded data removed]",
      "text/plain": [
       "<matplotlib.figure.Figure at 0x2b70b31f4e0>"
      ]
     },
     "metadata": {},
     "output_type": "display_data"
    }
   ],
   "source": [
    "param_grid = {'n_estimators': [1,2,3,4,5,6,7,8,9,10]}#, 'max_depth': [1,2,3,4,5] }\n",
    "cv_forest = GridSearchCV(forest, param_grid)\n",
    "roc_report(cv_forest, X_test, X_rus, y_test, y_rus)"
   ]
  },
  {
   "cell_type": "code",
   "execution_count": 110,
   "metadata": {},
   "outputs": [
    {
     "name": "stdout",
     "output_type": "stream",
     "text": [
      "Classification report and ROC curve for model type:<class 'sklearn.svm.classes.SVC'>\n",
      "             precision    recall  f1-score   support\n",
      "\n",
      "        0.0       0.95      0.98      0.97       568\n",
      "        1.0       0.00      0.00      0.00        28\n",
      "\n",
      "avg / total       0.91      0.94      0.92       596\n",
      "\n",
      "AUC score: 0.770089285714\n"
     ]
    },
    {
     "data": {
      "image/png": "[encoded data removed]",
      "text/plain": [
       "<matplotlib.figure.Figure at 0x2b7182ca160>"
      ]
     },
     "metadata": {},
     "output_type": "display_data"
    }
   ],
   "source": [
    "from sklearn.svm import SVC\n",
    "svc = SVC(probability=True)\n",
    "roc_report(svc, X_test, X_ros, y_test, y_ros)"
   ]
  },
  {
   "cell_type": "code",
   "execution_count": 111,
   "metadata": {},
   "outputs": [
    {
     "name": "stdout",
     "output_type": "stream",
     "text": [
      "Classification report and ROC curve for model type:<class 'sklearn.model_selection._search.GridSearchCV'>\n",
      "             precision    recall  f1-score   support\n",
      "\n",
      "        0.0       0.95      0.98      0.97       568\n",
      "        1.0       0.00      0.00      0.00        28\n",
      "\n",
      "avg / total       0.91      0.93      0.92       596\n",
      "\n",
      "AUC score: 0.775245221328\n"
     ]
    },
    {
     "data": {
      "image/png": "[encoded data removed]",
      "text/plain": [
       "<matplotlib.figure.Figure at 0x2b77f2c9cc0>"
      ]
     },
     "metadata": {},
     "output_type": "display_data"
    }
   ],
   "source": [
    "param_grid = {'C': [0.001, 0.01, 0.1, 1, 10, 100, 1000], 'degree': [1,2,3,4,5] }\n",
    "cv_svc= GridSearchCV(svc, param_grid)\n",
    "roc_report(cv_svc, X_test, X_ros, y_test, y_ros)"
   ]
  },
  {
   "cell_type": "code",
   "execution_count": null,
   "metadata": {
    "collapsed": true
   },
   "outputs": [],
   "source": []
  }
 ],
 "metadata": {
  "kernelspec": {
   "display_name": "Python 3",
   "language": "python",
   "name": "python3"
  },
  "language_info": {
   "codemirror_mode": {
    "name": "ipython",
    "version": 3
   },
   "file_extension": ".py",
   "mimetype": "text/x-python",
   "name": "python",
   "nbconvert_exporter": "python",
   "pygments_lexer": "ipython3",
   "version": "3.6.2"
  }
 },
 "nbformat": 4,
 "nbformat_minor": 2
}
