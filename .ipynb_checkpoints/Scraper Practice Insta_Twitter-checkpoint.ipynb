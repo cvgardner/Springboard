{
 "cells": [
  {
   "cell_type": "code",
   "execution_count": 11,
   "metadata": {},
   "outputs": [],
   "source": [
    "import twitter\n",
    "#import python-instagram"
   ]
  },
  {
   "cell_type": "code",
   "execution_count": 12,
   "metadata": {},
   "outputs": [],
   "source": [
    "twitter_api = twitter.Api(consumer_key = 'YGmn0ooqwTQO5WjHniXLu78Ud',\n",
    "                      consumer_secret='vljpSvvPZ7yx8k5H6rJLdrYP73G0ejlhtjQviDlJHkZ2MN6ljZ',\n",
    "                      access_token_key='863233291943419904-NvE6XjwI0n7e6hBGFpM3kp3FfHrMnrD',\n",
    "                      access_token_secret='i1HLbpaLNqxmqwHgI3DozVUsyLkyyln1E8Scx9tyybIWF')"
   ]
  },
  {
   "cell_type": "code",
   "execution_count": 13,
   "metadata": {},
   "outputs": [
    {
     "name": "stdout",
     "output_type": "stream",
     "text": [
      "{\"created_at\": \"Sat May 13 03:23:49 +0000 2017\", \"default_profile\": true, \"description\": \"Cardfight!! Vanguard Content Creator, trying to help players learn or get better at the game.\", \"favourites_count\": 211, \"followers_count\": 21, \"friends_count\": 66, \"id\": 863233291943419904, \"lang\": \"en\", \"name\": \"Vanguarderbilt\", \"profile_background_color\": \"F5F8FA\", \"profile_image_url\": \"http://pbs.twimg.com/profile_images/863234243467460608/heQt-cAP_normal.jpg\", \"profile_link_color\": \"1DA1F2\", \"profile_sidebar_fill_color\": \"DDEEF6\", \"profile_text_color\": \"333333\", \"screen_name\": \"vanguarderbilt\", \"status\": {\"created_at\": \"Wed Sep 20 02:08:18 +0000 2017\", \"id\": 910324709874470912, \"id_str\": \"910324709874470912\", \"lang\": \"en\", \"source\": \"<a href=\\\"http://twitter.com/download/iphone\\\" rel=\\\"nofollow\\\">Twitter for iPhone</a>\", \"text\": \"I find it odd that Narukami doesn't seem to be doing well in JP when I think its one of the best decks...\"}, \"statuses_count\": 131, \"url\": \"https://t.co/7hGNsZQj5U\"}\n"
     ]
    }
   ],
   "source": [
    "print (twitter_api.VerifyCredentials())"
   ]
  },
  {
   "cell_type": "code",
   "execution_count": 26,
   "metadata": {},
   "outputs": [
    {
     "name": "stdout",
     "output_type": "stream",
     "text": [
      "[\"I find it odd that Narukami doesn't seem to be doing well in JP when I think its one of the best decks...\", \"@Axel_Haptism Will do :) I'm inactive at the moment due to other things in life but thanks for the advice\", 'Super excited for the new season of anime. Loving the horsemen of apocalypse vibe :3 exciting stuff', 'I wonder how Bushi will distinguish between the Zeroth Dragons and GB8s. Hmmm what is ultimate stride?? I am so curious', '@sovmason Good luck!', '@tafokints This is some naruto level advice XD', '@sovmason @SackSquadKooj Super agree with statement', '@sovmason @SackSquadKooj Can def see you have a lot to say on the matter and tbh I think you are spot on. Community… https://t.co/Ll29fjBdm8', \"@SackSquadKooj I don't have enough time/ it became too chore like. I also feel like there isn't a ton to talk about in Vanguard either :/\", '@DifferentFight Grats DF! Keep up the great work :)', '@AtlasNovack @gohawaii @california @jamesbondlive lol if only my car was that exciting', '@AtlasNovack @gohawaii @california Lol I moved the other way and had my car shipped :P sooo by boat thats how.', '@DifferentFight D:', '@SackSquadKooj Might be lack of sets... but I find that there is always a slump after big events  cause its really… https://t.co/k6l5ZZ7oBD', 'RT @DifferentFight: Good article in both ENG &amp; JP interviewing @VidarVGCS on Indonesian Vanguard as well as him as a player. Worth the read…', '@DifferentFight I went to a maid cafe once it was pretty amusing XD I feel like there is a crowd that goes to them but iono who it is D:', 'Week 2 of Brave is up! Sorry its a bit late XD https://t.co/wushXDVbjL', \"Great Video by @DifferentFight  I love creativity but if I'm trying to win more often than not I go with consistent. https://t.co/kYk3AL53qy\", 'RT @DifferentFight: Results from the BCF Sendai that I was at today https://t.co/33IIRpAJb2', '@DifferentFight Glad to hear that :)']\n"
     ]
    }
   ],
   "source": [
    "statuses = twitter_api.GetUserTimeline(screen_name='Vanguarderbilt')\n",
    "print([s.text for s in statuses])"
   ]
  },
  {
   "cell_type": "code",
   "execution_count": 27,
   "metadata": {},
   "outputs": [
    {
     "ename": "ValueError",
     "evalue": "{'message': 'No filter parameters specified.'}",
     "output_type": "error",
     "traceback": [
      "\u001b[1;31m---------------------------------------------------------------------------\u001b[0m",
      "\u001b[1;31mValueError\u001b[0m                                Traceback (most recent call last)",
      "\u001b[1;32m<ipython-input-27-a1a2b037472a>\u001b[0m in \u001b[0;36m<module>\u001b[1;34m()\u001b[0m\n\u001b[0;32m      1\u001b[0m \u001b[0msample\u001b[0m \u001b[1;33m=\u001b[0m \u001b[0mtwitter_api\u001b[0m\u001b[1;33m.\u001b[0m\u001b[0mGetStreamFilter\u001b[0m\u001b[1;33m(\u001b[0m\u001b[1;33m)\u001b[0m\u001b[1;33m\u001b[0m\u001b[0m\n\u001b[1;32m----> 2\u001b[1;33m \u001b[0mprint\u001b[0m\u001b[1;33m(\u001b[0m\u001b[1;33m[\u001b[0m\u001b[0ms\u001b[0m\u001b[1;33m.\u001b[0m\u001b[0mtext\u001b[0m \u001b[1;32mfor\u001b[0m \u001b[0ms\u001b[0m \u001b[1;32min\u001b[0m \u001b[0msample\u001b[0m\u001b[1;33m]\u001b[0m\u001b[1;33m)\u001b[0m\u001b[1;33m\u001b[0m\u001b[0m\n\u001b[0m",
      "\u001b[1;32m<ipython-input-27-a1a2b037472a>\u001b[0m in \u001b[0;36m<listcomp>\u001b[1;34m(.0)\u001b[0m\n\u001b[0;32m      1\u001b[0m \u001b[0msample\u001b[0m \u001b[1;33m=\u001b[0m \u001b[0mtwitter_api\u001b[0m\u001b[1;33m.\u001b[0m\u001b[0mGetStreamFilter\u001b[0m\u001b[1;33m(\u001b[0m\u001b[1;33m)\u001b[0m\u001b[1;33m\u001b[0m\u001b[0m\n\u001b[1;32m----> 2\u001b[1;33m \u001b[0mprint\u001b[0m\u001b[1;33m(\u001b[0m\u001b[1;33m[\u001b[0m\u001b[0ms\u001b[0m\u001b[1;33m.\u001b[0m\u001b[0mtext\u001b[0m \u001b[1;32mfor\u001b[0m \u001b[0ms\u001b[0m \u001b[1;32min\u001b[0m \u001b[0msample\u001b[0m\u001b[1;33m]\u001b[0m\u001b[1;33m)\u001b[0m\u001b[1;33m\u001b[0m\u001b[0m\n\u001b[0m",
      "\u001b[1;32mC:\\Users\\Christopher\\Anaconda3\\lib\\site-packages\\twitter\\api.py\u001b[0m in \u001b[0;36mGetStreamFilter\u001b[1;34m(self, follow, track, locations, languages, delimited, stall_warnings, filter_level)\u001b[0m\n\u001b[0;32m   4575\u001b[0m         \"\"\"\n\u001b[0;32m   4576\u001b[0m         \u001b[1;32mif\u001b[0m \u001b[0mall\u001b[0m\u001b[1;33m(\u001b[0m\u001b[1;33m(\u001b[0m\u001b[0mfollow\u001b[0m \u001b[1;32mis\u001b[0m \u001b[1;32mNone\u001b[0m\u001b[1;33m,\u001b[0m \u001b[0mtrack\u001b[0m \u001b[1;32mis\u001b[0m \u001b[1;32mNone\u001b[0m\u001b[1;33m,\u001b[0m \u001b[0mlocations\u001b[0m \u001b[1;32mis\u001b[0m \u001b[1;32mNone\u001b[0m\u001b[1;33m)\u001b[0m\u001b[1;33m)\u001b[0m\u001b[1;33m:\u001b[0m\u001b[1;33m\u001b[0m\u001b[0m\n\u001b[1;32m-> 4577\u001b[1;33m             \u001b[1;32mraise\u001b[0m \u001b[0mValueError\u001b[0m\u001b[1;33m(\u001b[0m\u001b[1;33m{\u001b[0m\u001b[1;34m'message'\u001b[0m\u001b[1;33m:\u001b[0m \u001b[1;34m\"No filter parameters specified.\"\u001b[0m\u001b[1;33m}\u001b[0m\u001b[1;33m)\u001b[0m\u001b[1;33m\u001b[0m\u001b[0m\n\u001b[0m\u001b[0;32m   4578\u001b[0m         \u001b[0murl\u001b[0m \u001b[1;33m=\u001b[0m \u001b[1;34m'%s/statuses/filter.json'\u001b[0m \u001b[1;33m%\u001b[0m \u001b[0mself\u001b[0m\u001b[1;33m.\u001b[0m\u001b[0mstream_url\u001b[0m\u001b[1;33m\u001b[0m\u001b[0m\n\u001b[0;32m   4579\u001b[0m         \u001b[0mdata\u001b[0m \u001b[1;33m=\u001b[0m \u001b[1;33m{\u001b[0m\u001b[1;33m}\u001b[0m\u001b[1;33m\u001b[0m\u001b[0m\n",
      "\u001b[1;31mValueError\u001b[0m: {'message': 'No filter parameters specified.'}"
     ]
    }
   ],
   "source": [
    "sample = twitter_api.GetStreamFilter()\n",
    "print([s.text for s in sample])"
   ]
  },
  {
   "cell_type": "code",
   "execution_count": 55,
   "metadata": {},
   "outputs": [
    {
     "name": "stdout",
     "output_type": "stream",
     "text": [
      "Help on InstagramAPI in module instagram.client object:\n",
      "\n",
      "class InstagramAPI(instagram.oauth2.OAuth2API)\n",
      " |  Method resolution order:\n",
      " |      InstagramAPI\n",
      " |      instagram.oauth2.OAuth2API\n",
      " |      builtins.object\n",
      " |  \n",
      " |  Methods defined here:\n",
      " |  \n",
      " |  __init__(self, *args, **kwargs)\n",
      " |      Initialize self.  See help(type(self)) for accurate signature.\n",
      " |  \n",
      " |  approve_user_request = _inner(self, *args, **kwargs)\n",
      " |  \n",
      " |  block_user = _inner(self, *args, **kwargs)\n",
      " |  \n",
      " |  change_user_relationship = _call(api, *args, **kwargs)\n",
      " |  \n",
      " |  create_media_comment = _call(api, *args, **kwargs)\n",
      " |  \n",
      " |  create_subscription = _call(api, *args, **kwargs)\n",
      " |  \n",
      " |  delete_comment = _call(api, *args, **kwargs)\n",
      " |  \n",
      " |  delete_subscriptions = _call(api, *args, **kwargs)\n",
      " |  \n",
      " |  follow_user = _inner(self, *args, **kwargs)\n",
      " |  \n",
      " |  geography_recent_media = _call(api, *args, **kwargs)\n",
      " |  \n",
      " |  ignore_user_request = _inner(self, *args, **kwargs)\n",
      " |  \n",
      " |  like_media = _call(api, *args, **kwargs)\n",
      " |  \n",
      " |  list_subscriptions = _call(api, *args, **kwargs)\n",
      " |  \n",
      " |  location = _call(api, *args, **kwargs)\n",
      " |  \n",
      " |  location_recent_media = _call(api, *args, **kwargs)\n",
      " |  \n",
      " |  location_search = _call(api, *args, **kwargs)\n",
      " |  \n",
      " |  media = _call(api, *args, **kwargs)\n",
      " |  \n",
      " |  media_comments = _call(api, *args, **kwargs)\n",
      " |  \n",
      " |  media_likes = _call(api, *args, **kwargs)\n",
      " |  \n",
      " |  media_popular = _call(api, *args, **kwargs)\n",
      " |  \n",
      " |  media_search = _call(api, *args, **kwargs)\n",
      " |  \n",
      " |  media_shortcode = _call(api, *args, **kwargs)\n",
      " |  \n",
      " |  tag = _call(api, *args, **kwargs)\n",
      " |  \n",
      " |  tag_recent_media = _call(api, *args, **kwargs)\n",
      " |  \n",
      " |  tag_search = _call(api, *args, **kwargs)\n",
      " |  \n",
      " |  unblock_user = _inner(self, *args, **kwargs)\n",
      " |  \n",
      " |  unfollow_user = _inner(self, *args, **kwargs)\n",
      " |  \n",
      " |  unlike_media = _call(api, *args, **kwargs)\n",
      " |  \n",
      " |  user = _call(api, *args, **kwargs)\n",
      " |  \n",
      " |  user_followed_by = _call(api, *args, **kwargs)\n",
      " |  \n",
      " |  user_follows = _call(api, *args, **kwargs)\n",
      " |  \n",
      " |  user_incoming_requests = _call(api, *args, **kwargs)\n",
      " |  \n",
      " |  user_liked_media = _call(api, *args, **kwargs)\n",
      " |  \n",
      " |  user_media_feed = _call(api, *args, **kwargs)\n",
      " |  \n",
      " |  user_recent_media = _call(api, *args, **kwargs)\n",
      " |  \n",
      " |  user_relationship = _call(api, *args, **kwargs)\n",
      " |  \n",
      " |  user_search = _call(api, *args, **kwargs)\n",
      " |  \n",
      " |  ----------------------------------------------------------------------\n",
      " |  Data and other attributes defined here:\n",
      " |  \n",
      " |  access_token_field = 'access_token'\n",
      " |  \n",
      " |  access_token_url = 'https://api.instagram.com/oauth/access_token'\n",
      " |  \n",
      " |  api_name = 'Instagram'\n",
      " |  \n",
      " |  authorize_url = 'https://api.instagram.com/oauth/authorize'\n",
      " |  \n",
      " |  base_path = '/v1'\n",
      " |  \n",
      " |  host = 'api.instagram.com'\n",
      " |  \n",
      " |  protocol = 'https'\n",
      " |  \n",
      " |  x_ratelimit = None\n",
      " |  \n",
      " |  x_ratelimit_remaining = None\n",
      " |  \n",
      " |  ----------------------------------------------------------------------\n",
      " |  Methods inherited from instagram.oauth2.OAuth2API:\n",
      " |  \n",
      " |  exchange_code_for_access_token(self, code)\n",
      " |  \n",
      " |  exchange_user_id_for_access_token(self, user_id)\n",
      " |  \n",
      " |  exchange_xauth_login_for_access_token(self, username, password, scope=None)\n",
      " |      scope should be a tuple or list of requested scope access levels\n",
      " |  \n",
      " |  get_authorize_login_url(self, scope=None)\n",
      " |      scope should be a tuple or list of requested scope access levels\n",
      " |  \n",
      " |  get_authorize_url(self, scope=None)\n",
      " |  \n",
      " |  ----------------------------------------------------------------------\n",
      " |  Data descriptors inherited from instagram.oauth2.OAuth2API:\n",
      " |  \n",
      " |  __dict__\n",
      " |      dictionary for instance variables (if defined)\n",
      " |  \n",
      " |  __weakref__\n",
      " |      list of weak references to the object (if defined)\n",
      " |  \n",
      " |  ----------------------------------------------------------------------\n",
      " |  Data and other attributes inherited from instagram.oauth2.OAuth2API:\n",
      " |  \n",
      " |  redirect_uri = None\n",
      "\n"
     ]
    }
   ],
   "source": [
    "from instagram.client import InstagramAPI\n",
    "\n",
    "access_token = \"5323301270.da0f83e.cfdb9773202c425c9f3e9d9d670b77ca\"\n",
    "client_secret = \"86db5230a743448dac5f451a81d6244a\"\n",
    "api = InstagramAPI(access_token=access_token, client_secret=client_secret)\n",
    "help(api)"
   ]
  },
  {
   "cell_type": "code",
   "execution_count": 57,
   "metadata": {},
   "outputs": [
    {
     "ename": "InstagramClientError",
     "evalue": "(404) Unable to parse response, not valid JSON.",
     "output_type": "error",
     "traceback": [
      "\u001b[1;31m---------------------------------------------------------------------------\u001b[0m",
      "\u001b[1;31mJSONDecodeError\u001b[0m                           Traceback (most recent call last)",
      "\u001b[1;32mC:\\Users\\Christopher\\Anaconda3\\lib\\site-packages\\instagram\\bind.py\u001b[0m in \u001b[0;36m_do_api_request\u001b[1;34m(self, url, method, body, headers)\u001b[0m\n\u001b[0;32m    128\u001b[0m             \u001b[1;32mtry\u001b[0m\u001b[1;33m:\u001b[0m\u001b[1;33m\u001b[0m\u001b[0m\n\u001b[1;32m--> 129\u001b[1;33m                 \u001b[0mcontent_obj\u001b[0m \u001b[1;33m=\u001b[0m \u001b[0msimplejson\u001b[0m\u001b[1;33m.\u001b[0m\u001b[0mloads\u001b[0m\u001b[1;33m(\u001b[0m\u001b[0mcontent\u001b[0m\u001b[1;33m)\u001b[0m\u001b[1;33m\u001b[0m\u001b[0m\n\u001b[0m\u001b[0;32m    130\u001b[0m             \u001b[1;32mexcept\u001b[0m \u001b[0mValueError\u001b[0m\u001b[1;33m:\u001b[0m\u001b[1;33m\u001b[0m\u001b[0m\n",
      "\u001b[1;32mC:\\Users\\Christopher\\Anaconda3\\lib\\site-packages\\simplejson\\__init__.py\u001b[0m in \u001b[0;36mloads\u001b[1;34m(s, encoding, cls, object_hook, parse_float, parse_int, parse_constant, object_pairs_hook, use_decimal, **kw)\u001b[0m\n\u001b[0;32m    515\u001b[0m             and not use_decimal and not kw):\n\u001b[1;32m--> 516\u001b[1;33m         \u001b[1;32mreturn\u001b[0m \u001b[0m_default_decoder\u001b[0m\u001b[1;33m.\u001b[0m\u001b[0mdecode\u001b[0m\u001b[1;33m(\u001b[0m\u001b[0ms\u001b[0m\u001b[1;33m)\u001b[0m\u001b[1;33m\u001b[0m\u001b[0m\n\u001b[0m\u001b[0;32m    517\u001b[0m     \u001b[1;32mif\u001b[0m \u001b[0mcls\u001b[0m \u001b[1;32mis\u001b[0m \u001b[1;32mNone\u001b[0m\u001b[1;33m:\u001b[0m\u001b[1;33m\u001b[0m\u001b[0m\n",
      "\u001b[1;32mC:\\Users\\Christopher\\Anaconda3\\lib\\site-packages\\simplejson\\decoder.py\u001b[0m in \u001b[0;36mdecode\u001b[1;34m(self, s, _w, _PY3)\u001b[0m\n\u001b[0;32m    369\u001b[0m             \u001b[0ms\u001b[0m \u001b[1;33m=\u001b[0m \u001b[0ms\u001b[0m\u001b[1;33m.\u001b[0m\u001b[0mdecode\u001b[0m\u001b[1;33m(\u001b[0m\u001b[0mself\u001b[0m\u001b[1;33m.\u001b[0m\u001b[0mencoding\u001b[0m\u001b[1;33m)\u001b[0m\u001b[1;33m\u001b[0m\u001b[0m\n\u001b[1;32m--> 370\u001b[1;33m         \u001b[0mobj\u001b[0m\u001b[1;33m,\u001b[0m \u001b[0mend\u001b[0m \u001b[1;33m=\u001b[0m \u001b[0mself\u001b[0m\u001b[1;33m.\u001b[0m\u001b[0mraw_decode\u001b[0m\u001b[1;33m(\u001b[0m\u001b[0ms\u001b[0m\u001b[1;33m)\u001b[0m\u001b[1;33m\u001b[0m\u001b[0m\n\u001b[0m\u001b[0;32m    371\u001b[0m         \u001b[0mend\u001b[0m \u001b[1;33m=\u001b[0m \u001b[0m_w\u001b[0m\u001b[1;33m(\u001b[0m\u001b[0ms\u001b[0m\u001b[1;33m,\u001b[0m \u001b[0mend\u001b[0m\u001b[1;33m)\u001b[0m\u001b[1;33m.\u001b[0m\u001b[0mend\u001b[0m\u001b[1;33m(\u001b[0m\u001b[1;33m)\u001b[0m\u001b[1;33m\u001b[0m\u001b[0m\n",
      "\u001b[1;32mC:\\Users\\Christopher\\Anaconda3\\lib\\site-packages\\simplejson\\decoder.py\u001b[0m in \u001b[0;36mraw_decode\u001b[1;34m(self, s, idx, _w, _PY3)\u001b[0m\n\u001b[0;32m    399\u001b[0m                 \u001b[0midx\u001b[0m \u001b[1;33m+=\u001b[0m \u001b[1;36m3\u001b[0m\u001b[1;33m\u001b[0m\u001b[0m\n\u001b[1;32m--> 400\u001b[1;33m         \u001b[1;32mreturn\u001b[0m \u001b[0mself\u001b[0m\u001b[1;33m.\u001b[0m\u001b[0mscan_once\u001b[0m\u001b[1;33m(\u001b[0m\u001b[0ms\u001b[0m\u001b[1;33m,\u001b[0m \u001b[0midx\u001b[0m\u001b[1;33m=\u001b[0m\u001b[0m_w\u001b[0m\u001b[1;33m(\u001b[0m\u001b[0ms\u001b[0m\u001b[1;33m,\u001b[0m \u001b[0midx\u001b[0m\u001b[1;33m)\u001b[0m\u001b[1;33m.\u001b[0m\u001b[0mend\u001b[0m\u001b[1;33m(\u001b[0m\u001b[1;33m)\u001b[0m\u001b[1;33m)\u001b[0m\u001b[1;33m\u001b[0m\u001b[0m\n\u001b[0m",
      "\u001b[1;31mJSONDecodeError\u001b[0m: Expecting value: line 1 column 1 (char 0)",
      "\nDuring handling of the above exception, another exception occurred:\n",
      "\u001b[1;31mInstagramClientError\u001b[0m                      Traceback (most recent call last)",
      "\u001b[1;32m<ipython-input-57-a5638d52aa39>\u001b[0m in \u001b[0;36m<module>\u001b[1;34m()\u001b[0m\n\u001b[1;32m----> 1\u001b[1;33m \u001b[0mapi\u001b[0m\u001b[1;33m.\u001b[0m\u001b[0muser_follows\u001b[0m\u001b[1;33m(\u001b[0m\u001b[0maccess_token\u001b[0m\u001b[1;33m)\u001b[0m\u001b[1;33m\u001b[0m\u001b[0m\n\u001b[0m",
      "\u001b[1;32mC:\\Users\\Christopher\\Anaconda3\\lib\\site-packages\\instagram\\bind.py\u001b[0m in \u001b[0;36m_call\u001b[1;34m(api, *args, **kwargs)\u001b[0m\n\u001b[0;32m    195\u001b[0m     \u001b[1;32mdef\u001b[0m \u001b[0m_call\u001b[0m\u001b[1;33m(\u001b[0m\u001b[0mapi\u001b[0m\u001b[1;33m,\u001b[0m \u001b[1;33m*\u001b[0m\u001b[0margs\u001b[0m\u001b[1;33m,\u001b[0m \u001b[1;33m**\u001b[0m\u001b[0mkwargs\u001b[0m\u001b[1;33m)\u001b[0m\u001b[1;33m:\u001b[0m\u001b[1;33m\u001b[0m\u001b[0m\n\u001b[0;32m    196\u001b[0m         \u001b[0mmethod\u001b[0m \u001b[1;33m=\u001b[0m \u001b[0mInstagramAPIMethod\u001b[0m\u001b[1;33m(\u001b[0m\u001b[0mapi\u001b[0m\u001b[1;33m,\u001b[0m \u001b[1;33m*\u001b[0m\u001b[0margs\u001b[0m\u001b[1;33m,\u001b[0m \u001b[1;33m**\u001b[0m\u001b[0mkwargs\u001b[0m\u001b[1;33m)\u001b[0m\u001b[1;33m\u001b[0m\u001b[0m\n\u001b[1;32m--> 197\u001b[1;33m         \u001b[1;32mreturn\u001b[0m \u001b[0mmethod\u001b[0m\u001b[1;33m.\u001b[0m\u001b[0mexecute\u001b[0m\u001b[1;33m(\u001b[0m\u001b[1;33m)\u001b[0m\u001b[1;33m\u001b[0m\u001b[0m\n\u001b[0m\u001b[0;32m    198\u001b[0m \u001b[1;33m\u001b[0m\u001b[0m\n\u001b[0;32m    199\u001b[0m     \u001b[1;32mreturn\u001b[0m \u001b[0m_call\u001b[0m\u001b[1;33m\u001b[0m\u001b[0m\n",
      "\u001b[1;32mC:\\Users\\Christopher\\Anaconda3\\lib\\site-packages\\instagram\\bind.py\u001b[0m in \u001b[0;36mexecute\u001b[1;34m(self)\u001b[0m\n\u001b[0;32m    187\u001b[0m                 \u001b[1;32mreturn\u001b[0m \u001b[0mself\u001b[0m\u001b[1;33m.\u001b[0m\u001b[0m_paginator_with_url\u001b[0m\u001b[1;33m(\u001b[0m\u001b[0murl\u001b[0m\u001b[1;33m,\u001b[0m \u001b[0mmethod\u001b[0m\u001b[1;33m,\u001b[0m \u001b[0mbody\u001b[0m\u001b[1;33m,\u001b[0m \u001b[0mheaders\u001b[0m\u001b[1;33m)\u001b[0m\u001b[1;33m\u001b[0m\u001b[0m\n\u001b[0;32m    188\u001b[0m             \u001b[1;32melse\u001b[0m\u001b[1;33m:\u001b[0m\u001b[1;33m\u001b[0m\u001b[0m\n\u001b[1;32m--> 189\u001b[1;33m                 \u001b[0mcontent\u001b[0m\u001b[1;33m,\u001b[0m \u001b[0mnext\u001b[0m \u001b[1;33m=\u001b[0m \u001b[0mself\u001b[0m\u001b[1;33m.\u001b[0m\u001b[0m_do_api_request\u001b[0m\u001b[1;33m(\u001b[0m\u001b[0murl\u001b[0m\u001b[1;33m,\u001b[0m \u001b[0mmethod\u001b[0m\u001b[1;33m,\u001b[0m \u001b[0mbody\u001b[0m\u001b[1;33m,\u001b[0m \u001b[0mheaders\u001b[0m\u001b[1;33m)\u001b[0m\u001b[1;33m\u001b[0m\u001b[0m\n\u001b[0m\u001b[0;32m    190\u001b[0m             \u001b[1;32mif\u001b[0m \u001b[0mself\u001b[0m\u001b[1;33m.\u001b[0m\u001b[0mpaginates\u001b[0m\u001b[1;33m:\u001b[0m\u001b[1;33m\u001b[0m\u001b[0m\n\u001b[0;32m    191\u001b[0m                 \u001b[1;32mreturn\u001b[0m \u001b[0mcontent\u001b[0m\u001b[1;33m,\u001b[0m \u001b[0mnext\u001b[0m\u001b[1;33m\u001b[0m\u001b[0m\n",
      "\u001b[1;32mC:\\Users\\Christopher\\Anaconda3\\lib\\site-packages\\instagram\\bind.py\u001b[0m in \u001b[0;36m_do_api_request\u001b[1;34m(self, url, method, body, headers)\u001b[0m\n\u001b[0;32m    129\u001b[0m                 \u001b[0mcontent_obj\u001b[0m \u001b[1;33m=\u001b[0m \u001b[0msimplejson\u001b[0m\u001b[1;33m.\u001b[0m\u001b[0mloads\u001b[0m\u001b[1;33m(\u001b[0m\u001b[0mcontent\u001b[0m\u001b[1;33m)\u001b[0m\u001b[1;33m\u001b[0m\u001b[0m\n\u001b[0;32m    130\u001b[0m             \u001b[1;32mexcept\u001b[0m \u001b[0mValueError\u001b[0m\u001b[1;33m:\u001b[0m\u001b[1;33m\u001b[0m\u001b[0m\n\u001b[1;32m--> 131\u001b[1;33m                 \u001b[1;32mraise\u001b[0m \u001b[0mInstagramClientError\u001b[0m\u001b[1;33m(\u001b[0m\u001b[1;34m'Unable to parse response, not valid JSON.'\u001b[0m\u001b[1;33m,\u001b[0m \u001b[0mstatus_code\u001b[0m\u001b[1;33m=\u001b[0m\u001b[0mresponse\u001b[0m\u001b[1;33m[\u001b[0m\u001b[1;34m'status'\u001b[0m\u001b[1;33m]\u001b[0m\u001b[1;33m)\u001b[0m\u001b[1;33m\u001b[0m\u001b[0m\n\u001b[0m\u001b[0;32m    132\u001b[0m             \u001b[1;31m# Handle OAuthRateLimitExceeded from Instagram's Nginx which uses different format to documented api responses\u001b[0m\u001b[1;33m\u001b[0m\u001b[1;33m\u001b[0m\u001b[0m\n\u001b[0;32m    133\u001b[0m             \u001b[1;32mif\u001b[0m \u001b[1;34m'meta'\u001b[0m \u001b[1;32mnot\u001b[0m \u001b[1;32min\u001b[0m \u001b[0mcontent_obj\u001b[0m\u001b[1;33m:\u001b[0m\u001b[1;33m\u001b[0m\u001b[0m\n",
      "\u001b[1;31mInstagramClientError\u001b[0m: (404) Unable to parse response, not valid JSON."
     ]
    }
   ],
   "source": [
    "access_token, user_info = api.exchange_code_for_access_token(code)\n",
    "\n",
    "print \"access token:\\n\", access_token\n",
    "\n",
    "api = InstagramAPI(access_token=access_token)\n",
    "recent_media, next = api.user_recent_media(user_id=user_id, count=50)\n",
    "for media in recent_media:\n",
    "   print media.text"
   ]
  },
  {
   "cell_type": "code",
   "execution_count": null,
   "metadata": {},
   "outputs": [],
   "source": []
  },
  {
   "cell_type": "code",
   "execution_count": null,
   "metadata": {},
   "outputs": [],
   "source": []
  },
  {
   "cell_type": "code",
   "execution_count": null,
   "metadata": {
    "collapsed": true
   },
   "outputs": [],
   "source": []
  }
 ],
 "metadata": {
  "kernelspec": {
   "display_name": "Python 3",
   "language": "python",
   "name": "python3"
  },
  "language_info": {
   "codemirror_mode": {
    "name": "ipython",
    "version": 3
   },
   "file_extension": ".py",
   "mimetype": "text/x-python",
   "name": "python",
   "nbconvert_exporter": "python",
   "pygments_lexer": "ipython3",
   "version": "3.6.1"
  }
 },
 "nbformat": 4,
 "nbformat_minor": 2
}
