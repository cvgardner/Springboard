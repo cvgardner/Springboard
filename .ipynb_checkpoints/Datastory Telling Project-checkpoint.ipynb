{
 "cells": [
  {
   "cell_type": "markdown",
   "metadata": {
    "collapsed": true
   },
   "source": [
    "Dataset: For this datastory telling project I chose to use an old kaggle dataset which I am also using for my capstone. \n",
    "the data consists of two sets. One set represents bids that were made including information such as the time, merchandise \n",
    "and country.\n",
    "\n",
    "Link to data: https://www.kaggle.com/c/facebook-recruiting-iv-human-or-bot/data\n",
    "\n",
    "Questions to ask:\n",
    "The big overall question is, \"What would distinguish a bot from a human\"\n",
    "Some of the questions we ask ourselves are,\n",
    "- Do Bots tend to bid at a certain time after a bid has opened?\n",
    "- Do they have more bids overall? (we would expect so)\n",
    "- Are bots more likely to come from certain countries/ips/urls?\n",
    "\n",
    "We will explore some of these questions as well as similar ones and then find see if further questions and plots should be examined."
   ]
  },
  {
   "cell_type": "code",
   "execution_count": null,
   "metadata": {
    "collapsed": true
   },
   "outputs": [],
   "source": [
    "#Importing and uploading data\n",
    "import numpy as np\n",
    "import pandas as pd\n",
    "import matplotlib.pyplot as plt\n",
    "\n",
    "bids = pd.DataFrame.from_csv('C:/Users/Christopher Gardner/Documents/Python Scripts/bids.csv')\n",
    "train = pd.DataFrame.from_csv('C:/Users/Christopher Gardner/Documents/Python Scripts/train.csv')\n",
    "\n",
    "#adding final time features created by subtracting bid time from the last time in the auction. \n",
    "test_df = pd.DataFrame.from_csv('C:/Users/Christopher Gardner/Documents/Python Scripts/final_times.csv')\n",
    "test_df.columns = ['f_time']\n",
    "bids = bids.merge(test_df, left_on='auction', right_index=True)\n",
    "bids['diff_time'] = bids.f_time - bids.time\n",
    "\n",
    "#create proper merge\n",
    "groupfirst = bids.groupby(bids.bidder_id).nunique().sort_index()\n",
    "mergedsecond = groupfirst.merge(train.sort_index(), left_index=True, right_index=True)\n",
    "\n",
    "#now sort by desired values, update ranking and then split into bots and humans for plotting\n",
    "mergedsecond = mergedsecond.sort_values(by=['auction'])\n",
    "mergedsecond['ranking'] = np.arange(len(mergedsecond))\n",
    "bots = mergedsecond[mergedsecond.outcome==1]\n",
    "humans = mergedsecond[mergedsecond.outcome==0]\n",
    "mergedsecond.head()\n",
    "\n",
    "#mergefirst\n",
    "mergedfirst = bids.merge(train, left_on='bidder_id', right_index=True)\n",
    "groupedsecond = mergedfirst.groupby('bidder_id').nunique()"
   ]
  }
 ],
 "metadata": {
  "kernelspec": {
   "display_name": "Python 3",
   "language": "python",
   "name": "python3"
  },
  "language_info": {
   "codemirror_mode": {
    "name": "ipython",
    "version": 3
   },
   "file_extension": ".py",
   "mimetype": "text/x-python",
   "name": "python",
   "nbconvert_exporter": "python",
   "pygments_lexer": "ipython3",
   "version": "3.6.2"
  }
 },
 "nbformat": 4,
 "nbformat_minor": 2
}
