{
 "cells": [
  {
   "cell_type": "code",
   "execution_count": 105,
   "metadata": {},
   "outputs": [],
   "source": [
    "#Importing and uploading data\n",
    "import numpy as np\n",
    "import pandas as pd\n",
    "import matplotlib.pyplot as plt\n",
    "from scipy import stats\n",
    "\n",
    "bids = pd.DataFrame.from_csv('C:/Users/Christopher Gardner/Documents/Python Scripts/bids.csv')\n",
    "train = pd.DataFrame.from_csv('C:/Users/Christopher Gardner/Documents/Python Scripts/train.csv')\n",
    "\n",
    "#adding final time features created by subtracting bid time from the last time in the auction. \n",
    "test_df = pd.DataFrame.from_csv('C:/Users/Christopher Gardner/Documents/Python Scripts/final_times.csv')\n",
    "test_df.columns = ['f_time']\n",
    "bids = bids.merge(test_df, left_on='auction', right_index=True)\n",
    "bids['diff_time'] = bids.f_time - bids.time\n",
    "#create proper merge\n",
    "groupfirst = bids.groupby(bids.bidder_id).nunique().sort_index()\n",
    "mergedsecond = groupfirst.merge(train.sort_index(), left_index=True, right_index=True)\n",
    "\n",
    "#now sort by desired values, update ranking and then split into bots and humans for plotting\n",
    "mergedsecond = mergedsecond.sort_values(by=['auction'])\n",
    "mergedsecond['ranking'] = np.arange(len(mergedsecond))\n",
    "mergedsecond['bids_per_auction'] = mergedsecond.time/mergedsecond.auction\n",
    "bots = mergedsecond[mergedsecond.outcome==1]\n",
    "humans = mergedsecond[mergedsecond.outcome==0]\n",
    "mergedsecond.head()\n",
    "\n",
    "#mergefirst\n",
    "mergedfirst = bids.merge(train, left_on='bidder_id', right_index=True)\n",
    "groupedsecond = mergedfirst.groupby('bidder_id').nunique()"
   ]
  },
  {
   "cell_type": "code",
   "execution_count": 102,
   "metadata": {},
   "outputs": [],
   "source": [
    "mergedsecond['bids_per_auction'] = mergedsecond.time/mergedsecond.auction"
   ]
  },
  {
   "cell_type": "code",
   "execution_count": 104,
   "metadata": {},
   "outputs": [
    {
     "data": {
      "text/html": [
       "<div>\n",
       "<style>\n",
       "    .dataframe thead tr:only-child th {\n",
       "        text-align: right;\n",
       "    }\n",
       "\n",
       "    .dataframe thead th {\n",
       "        text-align: left;\n",
       "    }\n",
       "\n",
       "    .dataframe tbody tr th {\n",
       "        vertical-align: top;\n",
       "    }\n",
       "</style>\n",
       "<table border=\"1\" class=\"dataframe\">\n",
       "  <thead>\n",
       "    <tr style=\"text-align: right;\">\n",
       "      <th></th>\n",
       "      <th>bidder_id</th>\n",
       "      <th>auction</th>\n",
       "      <th>merchandise</th>\n",
       "      <th>device</th>\n",
       "      <th>time</th>\n",
       "      <th>country</th>\n",
       "      <th>ip</th>\n",
       "      <th>url</th>\n",
       "      <th>f_time</th>\n",
       "      <th>diff_time</th>\n",
       "      <th>payment_account</th>\n",
       "      <th>address</th>\n",
       "      <th>outcome</th>\n",
       "      <th>ranking</th>\n",
       "      <th>bids_per_auction</th>\n",
       "    </tr>\n",
       "    <tr>\n",
       "      <th>bidder_id</th>\n",
       "      <th></th>\n",
       "      <th></th>\n",
       "      <th></th>\n",
       "      <th></th>\n",
       "      <th></th>\n",
       "      <th></th>\n",
       "      <th></th>\n",
       "      <th></th>\n",
       "      <th></th>\n",
       "      <th></th>\n",
       "      <th></th>\n",
       "      <th></th>\n",
       "      <th></th>\n",
       "      <th></th>\n",
       "      <th></th>\n",
       "    </tr>\n",
       "  </thead>\n",
       "  <tbody>\n",
       "    <tr>\n",
       "      <th>f5b2bbad20d1d7ded3ed960393bec0f40u6hn</th>\n",
       "      <td>1</td>\n",
       "      <td>1256</td>\n",
       "      <td>1</td>\n",
       "      <td>2618</td>\n",
       "      <td>283463</td>\n",
       "      <td>98</td>\n",
       "      <td>101275</td>\n",
       "      <td>81376</td>\n",
       "      <td>1165</td>\n",
       "      <td>380280</td>\n",
       "      <td>a3d2de7675556553a5f08e4c88d2c228sezhf</td>\n",
       "      <td>a3d2de7675556553a5f08e4c88d2c228nfhse</td>\n",
       "      <td>0.0</td>\n",
       "      <td>1979</td>\n",
       "      <td>225.687102</td>\n",
       "    </tr>\n",
       "    <tr>\n",
       "      <th>cffb5f3c1f4ca815d0f643fcb2f2f316beod4</th>\n",
       "      <td>1</td>\n",
       "      <td>1301</td>\n",
       "      <td>1</td>\n",
       "      <td>1040</td>\n",
       "      <td>45520</td>\n",
       "      <td>48</td>\n",
       "      <td>24901</td>\n",
       "      <td>14907</td>\n",
       "      <td>1195</td>\n",
       "      <td>47436</td>\n",
       "      <td>06602d61e71d281961c94a143471a38ei23rd</td>\n",
       "      <td>a3d2de7675556553a5f08e4c88d2c228o21d6</td>\n",
       "      <td>0.0</td>\n",
       "      <td>1980</td>\n",
       "      <td>34.988470</td>\n",
       "    </tr>\n",
       "    <tr>\n",
       "      <th>e9c8ee7f783723fe8496dd35232d88f2or1r1</th>\n",
       "      <td>1</td>\n",
       "      <td>1301</td>\n",
       "      <td>1</td>\n",
       "      <td>939</td>\n",
       "      <td>15722</td>\n",
       "      <td>105</td>\n",
       "      <td>5942</td>\n",
       "      <td>3363</td>\n",
       "      <td>1201</td>\n",
       "      <td>15700</td>\n",
       "      <td>a3d2de7675556553a5f08e4c88d2c228yqv23</td>\n",
       "      <td>aea8eeadeb5ded2bb1d1aa1b6f418b591f98q</td>\n",
       "      <td>0.0</td>\n",
       "      <td>1981</td>\n",
       "      <td>12.084550</td>\n",
       "    </tr>\n",
       "    <tr>\n",
       "      <th>d6517684989560cbb0da1fb2f5bbba9b9y2st</th>\n",
       "      <td>1</td>\n",
       "      <td>1621</td>\n",
       "      <td>1</td>\n",
       "      <td>1396</td>\n",
       "      <td>54205</td>\n",
       "      <td>137</td>\n",
       "      <td>12978</td>\n",
       "      <td>2523</td>\n",
       "      <td>1460</td>\n",
       "      <td>54575</td>\n",
       "      <td>32b760348f97730712bf5259e7abe531erkgg</td>\n",
       "      <td>43058cc45a1e3e47851faff164c27f0bnp0me</td>\n",
       "      <td>0.0</td>\n",
       "      <td>1982</td>\n",
       "      <td>33.439235</td>\n",
       "    </tr>\n",
       "    <tr>\n",
       "      <th>6713e820273f591bdff7d26a48ee30c5k4iii</th>\n",
       "      <td>1</td>\n",
       "      <td>1623</td>\n",
       "      <td>1</td>\n",
       "      <td>1575</td>\n",
       "      <td>64495</td>\n",
       "      <td>59</td>\n",
       "      <td>24544</td>\n",
       "      <td>21275</td>\n",
       "      <td>1540</td>\n",
       "      <td>68558</td>\n",
       "      <td>a3d2de7675556553a5f08e4c88d2c228x2qy8</td>\n",
       "      <td>a3d2de7675556553a5f08e4c88d2c228tfgez</td>\n",
       "      <td>0.0</td>\n",
       "      <td>1983</td>\n",
       "      <td>39.738139</td>\n",
       "    </tr>\n",
       "  </tbody>\n",
       "</table>\n",
       "</div>"
      ],
      "text/plain": [
       "                                       bidder_id  auction  merchandise  \\\n",
       "bidder_id                                                                \n",
       "f5b2bbad20d1d7ded3ed960393bec0f40u6hn          1     1256            1   \n",
       "cffb5f3c1f4ca815d0f643fcb2f2f316beod4          1     1301            1   \n",
       "e9c8ee7f783723fe8496dd35232d88f2or1r1          1     1301            1   \n",
       "d6517684989560cbb0da1fb2f5bbba9b9y2st          1     1621            1   \n",
       "6713e820273f591bdff7d26a48ee30c5k4iii          1     1623            1   \n",
       "\n",
       "                                       device    time  country      ip    url  \\\n",
       "bidder_id                                                                       \n",
       "f5b2bbad20d1d7ded3ed960393bec0f40u6hn    2618  283463       98  101275  81376   \n",
       "cffb5f3c1f4ca815d0f643fcb2f2f316beod4    1040   45520       48   24901  14907   \n",
       "e9c8ee7f783723fe8496dd35232d88f2or1r1     939   15722      105    5942   3363   \n",
       "d6517684989560cbb0da1fb2f5bbba9b9y2st    1396   54205      137   12978   2523   \n",
       "6713e820273f591bdff7d26a48ee30c5k4iii    1575   64495       59   24544  21275   \n",
       "\n",
       "                                       f_time  diff_time  \\\n",
       "bidder_id                                                  \n",
       "f5b2bbad20d1d7ded3ed960393bec0f40u6hn    1165     380280   \n",
       "cffb5f3c1f4ca815d0f643fcb2f2f316beod4    1195      47436   \n",
       "e9c8ee7f783723fe8496dd35232d88f2or1r1    1201      15700   \n",
       "d6517684989560cbb0da1fb2f5bbba9b9y2st    1460      54575   \n",
       "6713e820273f591bdff7d26a48ee30c5k4iii    1540      68558   \n",
       "\n",
       "                                                             payment_account  \\\n",
       "bidder_id                                                                      \n",
       "f5b2bbad20d1d7ded3ed960393bec0f40u6hn  a3d2de7675556553a5f08e4c88d2c228sezhf   \n",
       "cffb5f3c1f4ca815d0f643fcb2f2f316beod4  06602d61e71d281961c94a143471a38ei23rd   \n",
       "e9c8ee7f783723fe8496dd35232d88f2or1r1  a3d2de7675556553a5f08e4c88d2c228yqv23   \n",
       "d6517684989560cbb0da1fb2f5bbba9b9y2st  32b760348f97730712bf5259e7abe531erkgg   \n",
       "6713e820273f591bdff7d26a48ee30c5k4iii  a3d2de7675556553a5f08e4c88d2c228x2qy8   \n",
       "\n",
       "                                                                     address  \\\n",
       "bidder_id                                                                      \n",
       "f5b2bbad20d1d7ded3ed960393bec0f40u6hn  a3d2de7675556553a5f08e4c88d2c228nfhse   \n",
       "cffb5f3c1f4ca815d0f643fcb2f2f316beod4  a3d2de7675556553a5f08e4c88d2c228o21d6   \n",
       "e9c8ee7f783723fe8496dd35232d88f2or1r1  aea8eeadeb5ded2bb1d1aa1b6f418b591f98q   \n",
       "d6517684989560cbb0da1fb2f5bbba9b9y2st  43058cc45a1e3e47851faff164c27f0bnp0me   \n",
       "6713e820273f591bdff7d26a48ee30c5k4iii  a3d2de7675556553a5f08e4c88d2c228tfgez   \n",
       "\n",
       "                                       outcome  ranking  bids_per_auction  \n",
       "bidder_id                                                                  \n",
       "f5b2bbad20d1d7ded3ed960393bec0f40u6hn      0.0     1979        225.687102  \n",
       "cffb5f3c1f4ca815d0f643fcb2f2f316beod4      0.0     1980         34.988470  \n",
       "e9c8ee7f783723fe8496dd35232d88f2or1r1      0.0     1981         12.084550  \n",
       "d6517684989560cbb0da1fb2f5bbba9b9y2st      0.0     1982         33.439235  \n",
       "6713e820273f591bdff7d26a48ee30c5k4iii      0.0     1983         39.738139  "
      ]
     },
     "execution_count": 104,
     "metadata": {},
     "output_type": "execute_result"
    }
   ],
   "source": [
    "mergedsecond.tail()"
   ]
  },
  {
   "cell_type": "code",
   "execution_count": 31,
   "metadata": {},
   "outputs": [
    {
     "data": {
      "image/png": "[encoded data removed]",
      "text/plain": [
       "<matplotlib.figure.Figure at 0x27b9a3e3ac8>"
      ]
     },
     "metadata": {},
     "output_type": "display_data"
    },
    {
     "name": "stdout",
     "output_type": "stream",
     "text": [
      "p-value:  4.70629817678e-09\n"
     ]
    }
   ],
   "source": [
    "plt.subplot(211)\n",
    "plt.title('Frequency of bidders using different auctions')\n",
    "plt.hist(bots.auction, color='b', range=(0,900), bins=100)\n",
    "plt.subplot(212)\n",
    "plt.hist(humans.auction, color='r', range=(0,900), bins=100)\n",
    "plt.xlabel('Number of different auctions')\n",
    "plt.ylabel('Number of Bidders')\n",
    "plt.show()\n",
    "print ('p-value: ', stats.ttest_ind(bots.auction, humans.auction)[1])"
   ]
  },
  {
   "cell_type": "code",
   "execution_count": 34,
   "metadata": {},
   "outputs": [
    {
     "data": {
      "image/png": "[encoded data removed]",
      "text/plain": [
       "<matplotlib.figure.Figure at 0x27bedb3e080>"
      ]
     },
     "metadata": {},
     "output_type": "display_data"
    },
    {
     "name": "stdout",
     "output_type": "stream",
     "text": [
      "p-value:  0.0103626011864\n"
     ]
    }
   ],
   "source": [
    "plt.subplot(211)\n",
    "plt.title('Histogram of Unique Bidding Times')\n",
    "plt.hist(bots.time, color='b', range=(0,20000), bins=100)\n",
    "plt.subplot(212)\n",
    "plt.hist(humans.time, color='r', range=(0,20000), bins=100)\n",
    "plt.xlabel('Number of different times')\n",
    "plt.ylabel('Number of Bidders')\n",
    "plt.show()\n",
    "print ('p-value: ', stats.ttest_ind(bots.time, humans.time)[1])"
   ]
  },
  {
   "cell_type": "code",
   "execution_count": 35,
   "metadata": {
    "scrolled": true
   },
   "outputs": [
    {
     "data": {
      "image/png": "[encoded data removed]",
      "text/plain": [
       "<matplotlib.figure.Figure at 0x27bceae0438>"
      ]
     },
     "metadata": {},
     "output_type": "display_data"
    },
    {
     "name": "stdout",
     "output_type": "stream",
     "text": [
      "p-value:  0.43967854519\n"
     ]
    }
   ],
   "source": [
    "plt.subplot(211)\n",
    "plt.title('Histogram for unique urls')\n",
    "plt.hist(bots.url, color='b', range=(0,1250), bins=100)\n",
    "plt.subplot(212)\n",
    "plt.hist(humans.url, color='r', range=(0,1250), bins=100)\n",
    "plt.xlabel('Number of distinct url')\n",
    "plt.ylabel('Number of Bidders')\n",
    "plt.show()\n",
    "print ('p-value: ', stats.ttest_ind(bots.url, humans.url)[1])"
   ]
  },
  {
   "cell_type": "code",
   "execution_count": 66,
   "metadata": {},
   "outputs": [
    {
     "ename": "AttributeError",
     "evalue": "'DataFrameGroupBy' object has no attribute 'value_counts'",
     "output_type": "error",
     "traceback": [
      "\u001b[1;31m---------------------------------------------------------------------------\u001b[0m",
      "\u001b[1;31mAttributeError\u001b[0m                            Traceback (most recent call last)",
      "\u001b[1;32m<ipython-input-66-274f7a513ae2>\u001b[0m in \u001b[0;36m<module>\u001b[1;34m()\u001b[0m\n\u001b[1;32m----> 1\u001b[1;33m \u001b[0mbids\u001b[0m\u001b[1;33m.\u001b[0m\u001b[0mgroupby\u001b[0m\u001b[1;33m(\u001b[0m\u001b[1;34m'bidder_id'\u001b[0m\u001b[1;33m)\u001b[0m\u001b[1;33m.\u001b[0m\u001b[0mvalue_counts\u001b[0m\u001b[1;33m(\u001b[0m\u001b[1;33m)\u001b[0m\u001b[1;33m\u001b[0m\u001b[0m\n\u001b[0m",
      "\u001b[1;32mD:\\Anaconda3\\lib\\site-packages\\pandas\\core\\groupby.py\u001b[0m in \u001b[0;36m__getattr__\u001b[1;34m(self, attr)\u001b[0m\n\u001b[0;32m    549\u001b[0m \u001b[1;33m\u001b[0m\u001b[0m\n\u001b[0;32m    550\u001b[0m         raise AttributeError(\"%r object has no attribute %r\" %\n\u001b[1;32m--> 551\u001b[1;33m                              (type(self).__name__, attr))\n\u001b[0m\u001b[0;32m    552\u001b[0m \u001b[1;33m\u001b[0m\u001b[0m\n\u001b[0;32m    553\u001b[0m     \u001b[0mplot\u001b[0m \u001b[1;33m=\u001b[0m \u001b[0mproperty\u001b[0m\u001b[1;33m(\u001b[0m\u001b[0mGroupByPlot\u001b[0m\u001b[1;33m)\u001b[0m\u001b[1;33m\u001b[0m\u001b[0m\n",
      "\u001b[1;31mAttributeError\u001b[0m: 'DataFrameGroupBy' object has no attribute 'value_counts'"
     ]
    }
   ],
   "source": [
    "bids.groupby('bidder_id').value_counts()\n"
   ]
  },
  {
   "cell_type": "code",
   "execution_count": 89,
   "metadata": {},
   "outputs": [
    {
     "data": {
      "text/plain": [
       "pandas.core.groupby.SeriesGroupBy"
      ]
     },
     "execution_count": 89,
     "metadata": {},
     "output_type": "execute_result"
    }
   ],
   "source": [
    "type(bids.groupby(['bidder_id', 'auction']).auction)"
   ]
  },
  {
   "cell_type": "code",
   "execution_count": 90,
   "metadata": {},
   "outputs": [
    {
     "data": {
      "text/plain": [
       "bidder_id                              auction\n",
       "001068c415025a009fee375a12cff4fcnht8y  4ifac       1\n",
       "002d229ffb247009810828f648afc2ef593rb  2tdw2       2\n",
       "0030a2dd87ad2733e0873062e4f83954mkj86  obbny       1\n",
       "003180b29c6a5f8f1d84a6b7b6f7be57tjj1o  cqsh6       1\n",
       "                                       efh5o       1\n",
       "                                       obbny       1\n",
       "00486a11dff552c4bd7696265724ff81yeo9v  6plix       2\n",
       "                                       9ul86       1\n",
       "                                       cci6c       1\n",
       "                                       drdr4       2\n",
       "                                       eaz7i       1\n",
       "                                       gst86       3\n",
       "                                       lx0hm       1\n",
       "                                       lz5gg       2\n",
       "                                       nf1v1       1\n",
       "                                       no958       2\n",
       "                                       opnq4       2\n",
       "                                       qvhei       1\n",
       "                                       ss2rr       1\n",
       "0051aef3fdeacdadba664b9b3b07e04e4coc6  d2q2z      41\n",
       "                                       ewmzr       2\n",
       "                                       i1aya      22\n",
       "                                       jefix       2\n",
       "                                       t9a0i       1\n",
       "0053b78cde37c4384a20d2da9aa4272aym4pb  00270       1\n",
       "                                       05bab       1\n",
       "                                       06yl7       2\n",
       "                                       0cuy6      32\n",
       "                                       0d5z1      22\n",
       "                                       0ft7d       1\n",
       "                                                  ..\n",
       "ffd62646d600b759a985d45918bd6f0431vmz  jhh39       9\n",
       "                                       jpxg4      62\n",
       "                                       k1g7r       1\n",
       "                                       k5log      32\n",
       "                                       kh2ef       3\n",
       "                                       lehw3      57\n",
       "                                       lxwjw       1\n",
       "                                       md5x3       1\n",
       "                                       mo1nr      61\n",
       "                                       nk8vd       5\n",
       "                                       nnciv       5\n",
       "                                       pcxka      46\n",
       "                                       pjvhl       3\n",
       "                                       pto6i       8\n",
       "                                       qv9tz       1\n",
       "                                       s0cov       1\n",
       "                                       sd48j      10\n",
       "                                       sjcg0       2\n",
       "                                       tlwfu      18\n",
       "                                       tq6eu       2\n",
       "                                       u430p       5\n",
       "                                       uo3lj       1\n",
       "                                       vs8fu      78\n",
       "                                       wc5b0       3\n",
       "                                       wicy8       5\n",
       "                                       wthc6       1\n",
       "                                       yfjur       7\n",
       "                                       yv5hw       5\n",
       "                                       zz4dz       5\n",
       "fff2c070d8200e0a09150bd81452ce29ngcnv  2zggz       1\n",
       "Name: auction, Length: 382341, dtype: int64"
      ]
     },
     "execution_count": 90,
     "metadata": {},
     "output_type": "execute_result"
    }
   ],
   "source": [
    "bids.groupby(['bidder_id', 'auction']).auction.size()\n"
   ]
  },
  {
   "cell_type": "code",
   "execution_count": null,
   "metadata": {
    "collapsed": true
   },
   "outputs": [],
   "source": []
  }
 ],
 "metadata": {
  "kernelspec": {
   "display_name": "Python 3",
   "language": "python",
   "name": "python3"
  },
  "language_info": {
   "codemirror_mode": {
    "name": "ipython",
    "version": 3
   },
   "file_extension": ".py",
   "mimetype": "text/x-python",
   "name": "python",
   "nbconvert_exporter": "python",
   "pygments_lexer": "ipython3",
   "version": "3.6.2"
  }
 },
 "nbformat": 4,
 "nbformat_minor": 2
}
