{
 "cells": [
  {
   "cell_type": "code",
   "execution_count": 2,
   "metadata": {
    "collapsed": true
   },
   "outputs": [],
   "source": [
    "#Importing and uploading data\n",
    "import numpy as np\n",
    "import pandas as pd\n",
    "import matplotlib.pyplot as plt\n",
    "from scipy import stats\n",
    "\n",
    "bids = pd.DataFrame.from_csv('C:/Users/Christopher Gardner/Documents/Python Scripts/bids.csv')\n",
    "train = pd.DataFrame.from_csv('C:/Users/Christopher Gardner/Documents/Python Scripts/train.csv')\n",
    "\n",
    "#adding final time features created by subtracting bid time from the last time in the auction. \n",
    "test_df = pd.DataFrame.from_csv('C:/Users/Christopher Gardner/Documents/Python Scripts/final_times.csv')\n",
    "test_df.columns = ['f_time']\n",
    "bids = bids.merge(test_df, left_on='auction', right_index=True)\n",
    "test_df = pd.DataFrame.from_csv('C:/Users/Christopher Gardner/Documents/Python Scripts/short_times.csv')\n",
    "test_df.columns = ['short_time']\n",
    "bids = bids.merge(test_df, left_on='bidder_id', right_index=True)\n",
    "bids['diff_time'] = bids.f_time - bids.time\n",
    "#create proper merge\n",
    "groupfirst = bids.groupby(bids.bidder_id).nunique().sort_index()\n",
    "mergedsecond = groupfirst.merge(train.sort_index(), left_index=True, right_index=True)\n",
    "\n",
    "#now sort by desired values, update ranking and then split into bots and humans for plotting\n",
    "mergedsecond = mergedsecond.sort_values(by=['auction'])\n",
    "mergedsecond['ranking'] = np.arange(len(mergedsecond))\n",
    "mergedsecond['bids_per_auction'] = mergedsecond.time/mergedsecond.auction\n",
    "bots = mergedsecond[mergedsecond.outcome==1]\n",
    "humans = mergedsecond[mergedsecond.outcome==0]\n",
    "\n",
    "\n",
    "#mergefirst\n",
    "mergedfirst = bids.merge(train, left_on='bidder_id', right_index=True)\n",
    "groupedsecond = mergedfirst.groupby('bidder_id').nunique()"
   ]
  },
  {
   "cell_type": "code",
   "execution_count": 3,
   "metadata": {},
   "outputs": [
    {
     "data": {
      "text/html": [
       "<div>\n",
       "<style>\n",
       "    .dataframe thead tr:only-child th {\n",
       "        text-align: right;\n",
       "    }\n",
       "\n",
       "    .dataframe thead th {\n",
       "        text-align: left;\n",
       "    }\n",
       "\n",
       "    .dataframe tbody tr th {\n",
       "        vertical-align: top;\n",
       "    }\n",
       "</style>\n",
       "<table border=\"1\" class=\"dataframe\">\n",
       "  <thead>\n",
       "    <tr style=\"text-align: right;\">\n",
       "      <th></th>\n",
       "      <th>bidder_id</th>\n",
       "      <th>auction</th>\n",
       "      <th>merchandise</th>\n",
       "      <th>device</th>\n",
       "      <th>time</th>\n",
       "      <th>country</th>\n",
       "      <th>ip</th>\n",
       "      <th>url</th>\n",
       "      <th>f_time</th>\n",
       "      <th>short_time</th>\n",
       "      <th>diff_time</th>\n",
       "      <th>outcome</th>\n",
       "      <th>ranking</th>\n",
       "      <th>bids_per_auction</th>\n",
       "    </tr>\n",
       "    <tr>\n",
       "      <th>bidder_id</th>\n",
       "      <th></th>\n",
       "      <th></th>\n",
       "      <th></th>\n",
       "      <th></th>\n",
       "      <th></th>\n",
       "      <th></th>\n",
       "      <th></th>\n",
       "      <th></th>\n",
       "      <th></th>\n",
       "      <th></th>\n",
       "      <th></th>\n",
       "      <th></th>\n",
       "      <th></th>\n",
       "      <th></th>\n",
       "    </tr>\n",
       "  </thead>\n",
       "  <tbody>\n",
       "    <tr>\n",
       "      <th>7fab82fa5eaea6a44eb743bc4bf356b3tarle</th>\n",
       "      <td>1</td>\n",
       "      <td>1</td>\n",
       "      <td>1</td>\n",
       "      <td>1</td>\n",
       "      <td>1</td>\n",
       "      <td>1</td>\n",
       "      <td>1</td>\n",
       "      <td>1</td>\n",
       "      <td>1</td>\n",
       "      <td>1</td>\n",
       "      <td>1</td>\n",
       "      <td>1.0</td>\n",
       "      <td>44</td>\n",
       "      <td>1.0</td>\n",
       "    </tr>\n",
       "    <tr>\n",
       "      <th>74a35c4376559c911fdb5e9cfb78c5e4btqew</th>\n",
       "      <td>1</td>\n",
       "      <td>1</td>\n",
       "      <td>1</td>\n",
       "      <td>1</td>\n",
       "      <td>1</td>\n",
       "      <td>1</td>\n",
       "      <td>1</td>\n",
       "      <td>1</td>\n",
       "      <td>1</td>\n",
       "      <td>1</td>\n",
       "      <td>1</td>\n",
       "      <td>1.0</td>\n",
       "      <td>74</td>\n",
       "      <td>1.0</td>\n",
       "    </tr>\n",
       "    <tr>\n",
       "      <th>f35082c6d72f1f1be3dd23f949db1f577t6wd</th>\n",
       "      <td>1</td>\n",
       "      <td>1</td>\n",
       "      <td>1</td>\n",
       "      <td>1</td>\n",
       "      <td>1</td>\n",
       "      <td>1</td>\n",
       "      <td>1</td>\n",
       "      <td>1</td>\n",
       "      <td>1</td>\n",
       "      <td>1</td>\n",
       "      <td>1</td>\n",
       "      <td>1.0</td>\n",
       "      <td>209</td>\n",
       "      <td>1.0</td>\n",
       "    </tr>\n",
       "    <tr>\n",
       "      <th>91c749114e26abdb9a4536169f9b4580huern</th>\n",
       "      <td>1</td>\n",
       "      <td>1</td>\n",
       "      <td>1</td>\n",
       "      <td>1</td>\n",
       "      <td>1</td>\n",
       "      <td>1</td>\n",
       "      <td>1</td>\n",
       "      <td>1</td>\n",
       "      <td>1</td>\n",
       "      <td>1</td>\n",
       "      <td>1</td>\n",
       "      <td>1.0</td>\n",
       "      <td>269</td>\n",
       "      <td>1.0</td>\n",
       "    </tr>\n",
       "    <tr>\n",
       "      <th>bd0071b98d9479130e5c053a244fe6f1muj8h</th>\n",
       "      <td>1</td>\n",
       "      <td>1</td>\n",
       "      <td>1</td>\n",
       "      <td>1</td>\n",
       "      <td>1</td>\n",
       "      <td>1</td>\n",
       "      <td>1</td>\n",
       "      <td>1</td>\n",
       "      <td>1</td>\n",
       "      <td>1</td>\n",
       "      <td>1</td>\n",
       "      <td>1.0</td>\n",
       "      <td>290</td>\n",
       "      <td>1.0</td>\n",
       "    </tr>\n",
       "  </tbody>\n",
       "</table>\n",
       "</div>"
      ],
      "text/plain": [
       "                                       bidder_id  auction  merchandise  \\\n",
       "bidder_id                                                                \n",
       "7fab82fa5eaea6a44eb743bc4bf356b3tarle          1        1            1   \n",
       "74a35c4376559c911fdb5e9cfb78c5e4btqew          1        1            1   \n",
       "f35082c6d72f1f1be3dd23f949db1f577t6wd          1        1            1   \n",
       "91c749114e26abdb9a4536169f9b4580huern          1        1            1   \n",
       "bd0071b98d9479130e5c053a244fe6f1muj8h          1        1            1   \n",
       "\n",
       "                                       device  time  country  ip  url  f_time  \\\n",
       "bidder_id                                                                       \n",
       "7fab82fa5eaea6a44eb743bc4bf356b3tarle       1     1        1   1    1       1   \n",
       "74a35c4376559c911fdb5e9cfb78c5e4btqew       1     1        1   1    1       1   \n",
       "f35082c6d72f1f1be3dd23f949db1f577t6wd       1     1        1   1    1       1   \n",
       "91c749114e26abdb9a4536169f9b4580huern       1     1        1   1    1       1   \n",
       "bd0071b98d9479130e5c053a244fe6f1muj8h       1     1        1   1    1       1   \n",
       "\n",
       "                                       short_time  diff_time  outcome  \\\n",
       "bidder_id                                                               \n",
       "7fab82fa5eaea6a44eb743bc4bf356b3tarle           1          1      1.0   \n",
       "74a35c4376559c911fdb5e9cfb78c5e4btqew           1          1      1.0   \n",
       "f35082c6d72f1f1be3dd23f949db1f577t6wd           1          1      1.0   \n",
       "91c749114e26abdb9a4536169f9b4580huern           1          1      1.0   \n",
       "bd0071b98d9479130e5c053a244fe6f1muj8h           1          1      1.0   \n",
       "\n",
       "                                       ranking  bids_per_auction  \n",
       "bidder_id                                                         \n",
       "7fab82fa5eaea6a44eb743bc4bf356b3tarle       44               1.0  \n",
       "74a35c4376559c911fdb5e9cfb78c5e4btqew       74               1.0  \n",
       "f35082c6d72f1f1be3dd23f949db1f577t6wd      209               1.0  \n",
       "91c749114e26abdb9a4536169f9b4580huern      269               1.0  \n",
       "bd0071b98d9479130e5c053a244fe6f1muj8h      290               1.0  "
      ]
     },
     "execution_count": 3,
     "metadata": {},
     "output_type": "execute_result"
    }
   ],
   "source": [
    "bots.drop(['payment_account', 'address'], axis=1).head()"
   ]
  },
  {
   "cell_type": "code",
   "execution_count": 4,
   "metadata": {},
   "outputs": [
    {
     "data": {
      "text/html": [
       "<div>\n",
       "<style>\n",
       "    .dataframe thead tr:only-child th {\n",
       "        text-align: right;\n",
       "    }\n",
       "\n",
       "    .dataframe thead th {\n",
       "        text-align: left;\n",
       "    }\n",
       "\n",
       "    .dataframe tbody tr th {\n",
       "        vertical-align: top;\n",
       "    }\n",
       "</style>\n",
       "<table border=\"1\" class=\"dataframe\">\n",
       "  <thead>\n",
       "    <tr style=\"text-align: right;\">\n",
       "      <th></th>\n",
       "      <th>bidder_id</th>\n",
       "      <th>auction</th>\n",
       "      <th>merchandise</th>\n",
       "      <th>device</th>\n",
       "      <th>time</th>\n",
       "      <th>country</th>\n",
       "      <th>ip</th>\n",
       "      <th>url</th>\n",
       "      <th>f_time</th>\n",
       "      <th>short_time</th>\n",
       "      <th>diff_time</th>\n",
       "      <th>outcome</th>\n",
       "      <th>ranking</th>\n",
       "      <th>bids_per_auction</th>\n",
       "    </tr>\n",
       "    <tr>\n",
       "      <th>bidder_id</th>\n",
       "      <th></th>\n",
       "      <th></th>\n",
       "      <th></th>\n",
       "      <th></th>\n",
       "      <th></th>\n",
       "      <th></th>\n",
       "      <th></th>\n",
       "      <th></th>\n",
       "      <th></th>\n",
       "      <th></th>\n",
       "      <th></th>\n",
       "      <th></th>\n",
       "      <th></th>\n",
       "      <th></th>\n",
       "    </tr>\n",
       "  </thead>\n",
       "  <tbody>\n",
       "    <tr>\n",
       "      <th>001068c415025a009fee375a12cff4fcnht8y</th>\n",
       "      <td>1</td>\n",
       "      <td>1</td>\n",
       "      <td>1</td>\n",
       "      <td>1</td>\n",
       "      <td>1</td>\n",
       "      <td>1</td>\n",
       "      <td>1</td>\n",
       "      <td>1</td>\n",
       "      <td>1</td>\n",
       "      <td>1</td>\n",
       "      <td>1</td>\n",
       "      <td>0.0</td>\n",
       "      <td>0</td>\n",
       "      <td>1.0</td>\n",
       "    </tr>\n",
       "    <tr>\n",
       "      <th>6394edfbd35aab54801518835e33ed50hcr5f</th>\n",
       "      <td>1</td>\n",
       "      <td>1</td>\n",
       "      <td>1</td>\n",
       "      <td>1</td>\n",
       "      <td>1</td>\n",
       "      <td>1</td>\n",
       "      <td>1</td>\n",
       "      <td>1</td>\n",
       "      <td>1</td>\n",
       "      <td>1</td>\n",
       "      <td>1</td>\n",
       "      <td>0.0</td>\n",
       "      <td>1</td>\n",
       "      <td>1.0</td>\n",
       "    </tr>\n",
       "    <tr>\n",
       "      <th>640f41f27c03aca0c45775eb918b666cnjsqv</th>\n",
       "      <td>1</td>\n",
       "      <td>1</td>\n",
       "      <td>1</td>\n",
       "      <td>1</td>\n",
       "      <td>1</td>\n",
       "      <td>1</td>\n",
       "      <td>1</td>\n",
       "      <td>1</td>\n",
       "      <td>1</td>\n",
       "      <td>1</td>\n",
       "      <td>1</td>\n",
       "      <td>0.0</td>\n",
       "      <td>2</td>\n",
       "      <td>1.0</td>\n",
       "    </tr>\n",
       "    <tr>\n",
       "      <th>64f6b099082e4fb2e8da7ba4ae9abdead2cej</th>\n",
       "      <td>1</td>\n",
       "      <td>1</td>\n",
       "      <td>1</td>\n",
       "      <td>2</td>\n",
       "      <td>2</td>\n",
       "      <td>1</td>\n",
       "      <td>2</td>\n",
       "      <td>1</td>\n",
       "      <td>1</td>\n",
       "      <td>1</td>\n",
       "      <td>2</td>\n",
       "      <td>0.0</td>\n",
       "      <td>3</td>\n",
       "      <td>2.0</td>\n",
       "    </tr>\n",
       "    <tr>\n",
       "      <th>6531bde8d4decd9708ff4407ef95e887a26yi</th>\n",
       "      <td>1</td>\n",
       "      <td>1</td>\n",
       "      <td>1</td>\n",
       "      <td>1</td>\n",
       "      <td>1</td>\n",
       "      <td>1</td>\n",
       "      <td>1</td>\n",
       "      <td>1</td>\n",
       "      <td>1</td>\n",
       "      <td>1</td>\n",
       "      <td>1</td>\n",
       "      <td>0.0</td>\n",
       "      <td>4</td>\n",
       "      <td>1.0</td>\n",
       "    </tr>\n",
       "  </tbody>\n",
       "</table>\n",
       "</div>"
      ],
      "text/plain": [
       "                                       bidder_id  auction  merchandise  \\\n",
       "bidder_id                                                                \n",
       "001068c415025a009fee375a12cff4fcnht8y          1        1            1   \n",
       "6394edfbd35aab54801518835e33ed50hcr5f          1        1            1   \n",
       "640f41f27c03aca0c45775eb918b666cnjsqv          1        1            1   \n",
       "64f6b099082e4fb2e8da7ba4ae9abdead2cej          1        1            1   \n",
       "6531bde8d4decd9708ff4407ef95e887a26yi          1        1            1   \n",
       "\n",
       "                                       device  time  country  ip  url  f_time  \\\n",
       "bidder_id                                                                       \n",
       "001068c415025a009fee375a12cff4fcnht8y       1     1        1   1    1       1   \n",
       "6394edfbd35aab54801518835e33ed50hcr5f       1     1        1   1    1       1   \n",
       "640f41f27c03aca0c45775eb918b666cnjsqv       1     1        1   1    1       1   \n",
       "64f6b099082e4fb2e8da7ba4ae9abdead2cej       2     2        1   2    1       1   \n",
       "6531bde8d4decd9708ff4407ef95e887a26yi       1     1        1   1    1       1   \n",
       "\n",
       "                                       short_time  diff_time  outcome  \\\n",
       "bidder_id                                                               \n",
       "001068c415025a009fee375a12cff4fcnht8y           1          1      0.0   \n",
       "6394edfbd35aab54801518835e33ed50hcr5f           1          1      0.0   \n",
       "640f41f27c03aca0c45775eb918b666cnjsqv           1          1      0.0   \n",
       "64f6b099082e4fb2e8da7ba4ae9abdead2cej           1          2      0.0   \n",
       "6531bde8d4decd9708ff4407ef95e887a26yi           1          1      0.0   \n",
       "\n",
       "                                       ranking  bids_per_auction  \n",
       "bidder_id                                                         \n",
       "001068c415025a009fee375a12cff4fcnht8y        0               1.0  \n",
       "6394edfbd35aab54801518835e33ed50hcr5f        1               1.0  \n",
       "640f41f27c03aca0c45775eb918b666cnjsqv        2               1.0  \n",
       "64f6b099082e4fb2e8da7ba4ae9abdead2cej        3               2.0  \n",
       "6531bde8d4decd9708ff4407ef95e887a26yi        4               1.0  "
      ]
     },
     "execution_count": 4,
     "metadata": {},
     "output_type": "execute_result"
    }
   ],
   "source": [
    "humans.drop(['payment_account', 'address'], axis=1).head()"
   ]
  },
  {
   "cell_type": "code",
   "execution_count": 5,
   "metadata": {},
   "outputs": [
    {
     "data": {
      "text/html": [
       "<div>\n",
       "<style>\n",
       "    .dataframe thead tr:only-child th {\n",
       "        text-align: right;\n",
       "    }\n",
       "\n",
       "    .dataframe thead th {\n",
       "        text-align: left;\n",
       "    }\n",
       "\n",
       "    .dataframe tbody tr th {\n",
       "        vertical-align: top;\n",
       "    }\n",
       "</style>\n",
       "<table border=\"1\" class=\"dataframe\">\n",
       "  <thead>\n",
       "    <tr style=\"text-align: right;\">\n",
       "      <th></th>\n",
       "      <th>bidder_id</th>\n",
       "      <th>auction</th>\n",
       "      <th>merchandise</th>\n",
       "      <th>device</th>\n",
       "      <th>time</th>\n",
       "      <th>country</th>\n",
       "      <th>ip</th>\n",
       "      <th>url</th>\n",
       "      <th>f_time</th>\n",
       "      <th>short_time</th>\n",
       "      <th>diff_time</th>\n",
       "    </tr>\n",
       "    <tr>\n",
       "      <th>bidder_id</th>\n",
       "      <th></th>\n",
       "      <th></th>\n",
       "      <th></th>\n",
       "      <th></th>\n",
       "      <th></th>\n",
       "      <th></th>\n",
       "      <th></th>\n",
       "      <th></th>\n",
       "      <th></th>\n",
       "      <th></th>\n",
       "      <th></th>\n",
       "    </tr>\n",
       "  </thead>\n",
       "  <tbody>\n",
       "    <tr>\n",
       "      <th>001068c415025a009fee375a12cff4fcnht8y</th>\n",
       "      <td>1</td>\n",
       "      <td>1</td>\n",
       "      <td>1</td>\n",
       "      <td>1</td>\n",
       "      <td>1</td>\n",
       "      <td>1</td>\n",
       "      <td>1</td>\n",
       "      <td>1</td>\n",
       "      <td>1</td>\n",
       "      <td>1</td>\n",
       "      <td>1</td>\n",
       "    </tr>\n",
       "    <tr>\n",
       "      <th>002d229ffb247009810828f648afc2ef593rb</th>\n",
       "      <td>1</td>\n",
       "      <td>1</td>\n",
       "      <td>1</td>\n",
       "      <td>2</td>\n",
       "      <td>2</td>\n",
       "      <td>1</td>\n",
       "      <td>1</td>\n",
       "      <td>1</td>\n",
       "      <td>1</td>\n",
       "      <td>1</td>\n",
       "      <td>2</td>\n",
       "    </tr>\n",
       "    <tr>\n",
       "      <th>0030a2dd87ad2733e0873062e4f83954mkj86</th>\n",
       "      <td>1</td>\n",
       "      <td>1</td>\n",
       "      <td>1</td>\n",
       "      <td>1</td>\n",
       "      <td>1</td>\n",
       "      <td>1</td>\n",
       "      <td>1</td>\n",
       "      <td>1</td>\n",
       "      <td>1</td>\n",
       "      <td>1</td>\n",
       "      <td>1</td>\n",
       "    </tr>\n",
       "    <tr>\n",
       "      <th>003180b29c6a5f8f1d84a6b7b6f7be57tjj1o</th>\n",
       "      <td>1</td>\n",
       "      <td>3</td>\n",
       "      <td>1</td>\n",
       "      <td>3</td>\n",
       "      <td>3</td>\n",
       "      <td>1</td>\n",
       "      <td>3</td>\n",
       "      <td>2</td>\n",
       "      <td>3</td>\n",
       "      <td>1</td>\n",
       "      <td>3</td>\n",
       "    </tr>\n",
       "    <tr>\n",
       "      <th>00486a11dff552c4bd7696265724ff81yeo9v</th>\n",
       "      <td>1</td>\n",
       "      <td>13</td>\n",
       "      <td>1</td>\n",
       "      <td>8</td>\n",
       "      <td>20</td>\n",
       "      <td>1</td>\n",
       "      <td>10</td>\n",
       "      <td>7</td>\n",
       "      <td>13</td>\n",
       "      <td>1</td>\n",
       "      <td>20</td>\n",
       "    </tr>\n",
       "  </tbody>\n",
       "</table>\n",
       "</div>"
      ],
      "text/plain": [
       "                                       bidder_id  auction  merchandise  \\\n",
       "bidder_id                                                                \n",
       "001068c415025a009fee375a12cff4fcnht8y          1        1            1   \n",
       "002d229ffb247009810828f648afc2ef593rb          1        1            1   \n",
       "0030a2dd87ad2733e0873062e4f83954mkj86          1        1            1   \n",
       "003180b29c6a5f8f1d84a6b7b6f7be57tjj1o          1        3            1   \n",
       "00486a11dff552c4bd7696265724ff81yeo9v          1       13            1   \n",
       "\n",
       "                                       device  time  country  ip  url  f_time  \\\n",
       "bidder_id                                                                       \n",
       "001068c415025a009fee375a12cff4fcnht8y       1     1        1   1    1       1   \n",
       "002d229ffb247009810828f648afc2ef593rb       2     2        1   1    1       1   \n",
       "0030a2dd87ad2733e0873062e4f83954mkj86       1     1        1   1    1       1   \n",
       "003180b29c6a5f8f1d84a6b7b6f7be57tjj1o       3     3        1   3    2       3   \n",
       "00486a11dff552c4bd7696265724ff81yeo9v       8    20        1  10    7      13   \n",
       "\n",
       "                                       short_time  diff_time  \n",
       "bidder_id                                                     \n",
       "001068c415025a009fee375a12cff4fcnht8y           1          1  \n",
       "002d229ffb247009810828f648afc2ef593rb           1          2  \n",
       "0030a2dd87ad2733e0873062e4f83954mkj86           1          1  \n",
       "003180b29c6a5f8f1d84a6b7b6f7be57tjj1o           1          3  \n",
       "00486a11dff552c4bd7696265724ff81yeo9v           1         20  "
      ]
     },
     "execution_count": 5,
     "metadata": {},
     "output_type": "execute_result"
    }
   ],
   "source": [
    "bids.groupby('bidder_id').nunique().head()"
   ]
  },
  {
   "cell_type": "code",
   "execution_count": 6,
   "metadata": {
    "collapsed": true
   },
   "outputs": [],
   "source": [
    "#function for showing hists and p-values between bots and humans\n",
    "def HistnP(s, bins):\n",
    "    '''str argument is the column value to be evaluated\n",
    "    bins sets the bis of the histograms'''\n",
    "    plt.subplot(211)\n",
    "    plt.title('Frequency of bidders using different {}s'.format(s))\n",
    "    plt.hist(bots[s], color='b', range=(0,bins), bins=100)\n",
    "    plt.legend('Bots')\n",
    "    plt.subplot(212)\n",
    "    plt.hist(humans[s], color='r', range=(0,bins), bins=100)\n",
    "    plt.legend('Humans')\n",
    "    plt.xlabel('Number of different {}s'.format(s))\n",
    "    plt.ylabel('Number of Bidders')\n",
    "    plt.show()\n",
    "    print ('p-value: ', stats.ttest_ind(bots[s], humans[s])[1])"
   ]
  },
  {
   "cell_type": "code",
   "execution_count": 41,
   "metadata": {},
   "outputs": [
    {
     "name": "stdout",
     "output_type": "stream",
     "text": [
      "p-value:  0.0\n"
     ]
    }
   ],
   "source": [
    "print ('p-value: ', stats.ttest_ind(mergedfirst.short_time[mergedfirst.outcome==1], mergedfirst.short_time[mergedfirst.outcome==0])[1])"
   ]
  },
  {
   "cell_type": "code",
   "execution_count": 10,
   "metadata": {},
   "outputs": [
    {
     "data": {
      "image/png": "[encoded data removed]",
      "text/plain": [
       "<matplotlib.figure.Figure at 0x18d933c85c0>"
      ]
     },
     "metadata": {},
     "output_type": "display_data"
    },
    {
     "name": "stdout",
     "output_type": "stream",
     "text": [
      "p-value:  Ttest_indResult(statistic=-68.279052388409468, pvalue=0.0)\n"
     ]
    }
   ],
   "source": [
    "bots= mergedfirst.short_time[mergedfirst.outcome==1]\n",
    "humans=mergedfirst.short_time[mergedfirst.outcome==0]\n",
    "plt.subplot(211)\n",
    "plt.title('Histogram of Shortest Time between bids')\n",
    "plt.hist(bots, color='b', bins=100, range=(100000000, 300000000))\n",
    "plt.legend('Bots')\n",
    "plt.subplot(212)\n",
    "plt.hist(humans, color='r', bins=100, range=(100000000, 300000000))\n",
    "plt.legend('Humans')\n",
    "plt.xlabel('Times between two bids')\n",
    "plt.ylabel('Number of Bidders')\n",
    "plt.show()\n",
    "print ('p-value: ', stats.ttest_ind(bots, humans))"
   ]
  },
  {
   "cell_type": "code",
   "execution_count": 13,
   "metadata": {},
   "outputs": [
    {
     "data": {
      "image/png": "[encoded data removed]",
      "text/plain": [
       "<matplotlib.figure.Figure at 0x18d9546c160>"
      ]
     },
     "metadata": {},
     "output_type": "display_data"
    },
    {
     "name": "stdout",
     "output_type": "stream",
     "text": [
      "p-value:  Ttest_indResult(statistic=-167.49716151659868, pvalue=0.0)\n"
     ]
    }
   ],
   "source": [
    "bots= mergedfirst.diff_time[mergedfirst.outcome==1]\n",
    "humans=mergedfirst.diff_time[mergedfirst.outcome==0]\n",
    "plt.subplot(211)\n",
    "plt.title('Histogram of Time between final bid and end of auction')\n",
    "plt.hist(bots, color='b', bins=100)\n",
    "plt.legend('Bots')\n",
    "plt.subplot(212)\n",
    "plt.hist(humans, color='r', bins=100)\n",
    "plt.legend('Humans')\n",
    "plt.xlabel('Times between two bids')\n",
    "plt.ylabel('Number of Bidders')\n",
    "plt.show()\n",
    "print ('p-value: ', stats.ttest_ind(bots, humans))"
   ]
  },
  {
   "cell_type": "code",
   "execution_count": 7,
   "metadata": {},
   "outputs": [
    {
     "data": {
      "image/png": "[encoded data removed]",
      "text/plain": [
       "<matplotlib.figure.Figure at 0x18d8497f6a0>"
      ]
     },
     "metadata": {},
     "output_type": "display_data"
    },
    {
     "name": "stdout",
     "output_type": "stream",
     "text": [
      "p-value:  0.0314330544983\n"
     ]
    }
   ],
   "source": [
    "HistnP('diff_time', 900)"
   ]
  },
  {
   "cell_type": "code",
   "execution_count": 165,
   "metadata": {},
   "outputs": [
    {
     "data": {
      "image/png": "[encoded data removed]",
      "text/plain": [
       "<matplotlib.figure.Figure at 0x27bb17b6828>"
      ]
     },
     "metadata": {},
     "output_type": "display_data"
    },
    {
     "name": "stdout",
     "output_type": "stream",
     "text": [
      "p-value:  4.70629817678e-09\n"
     ]
    }
   ],
   "source": [
    "HistnP('auction', 900)"
   ]
  },
  {
   "cell_type": "code",
   "execution_count": 259,
   "metadata": {},
   "outputs": [
    {
     "data": {
      "image/png": "[encoded data removed]",
      "text/plain": [
       "<matplotlib.figure.Figure at 0x27bc90c9518>"
      ]
     },
     "metadata": {},
     "output_type": "display_data"
    },
    {
     "name": "stdout",
     "output_type": "stream",
     "text": [
      "p-value:  0.0103626011864\n"
     ]
    }
   ],
   "source": [
    "HistnP('time', 2000)"
   ]
  },
  {
   "cell_type": "code",
   "execution_count": 257,
   "metadata": {},
   "outputs": [
    {
     "data": {
      "image/png": "[encoded data removed]",
      "text/plain": [
       "<matplotlib.figure.Figure at 0x27b9f5e5c18>"
      ]
     },
     "metadata": {},
     "output_type": "display_data"
    },
    {
     "name": "stdout",
     "output_type": "stream",
     "text": [
      "p-value:  0.43967854519\n"
     ]
    }
   ],
   "source": [
    "HistnP('url', 400)"
   ]
  },
  {
   "cell_type": "code",
   "execution_count": 256,
   "metadata": {},
   "outputs": [
    {
     "data": {
      "image/png": "[encoded data removed]",
      "text/plain": [
       "<matplotlib.figure.Figure at 0x27ba9f60e80>"
      ]
     },
     "metadata": {},
     "output_type": "display_data"
    },
    {
     "name": "stdout",
     "output_type": "stream",
     "text": [
      "p-value:  1.70803917591e-08\n"
     ]
    }
   ],
   "source": [
    "HistnP('bids_per_auction', 50)"
   ]
  },
  {
   "cell_type": "code",
   "execution_count": 240,
   "metadata": {
    "collapsed": true
   },
   "outputs": [],
   "source": [
    "country_hu_count = mergedfirst[mergedfirst.outcome == 0].groupby('country').count().bidder_id.sort_values(ascending=False)\n",
    "country_bot_count = mergedfirst[mergedfirst.outcome == 1].groupby('country').count().bidder_id.sort_values(ascending=False)\n",
    "total = country_bot_count.add(country_hu_count)\n",
    "percentage_country = (country_bot_count.divide(total)).sort_values(ascending=False)\n",
    "percentage_country = percentage_country.append(pd.Series([np.NaN], index=['NaN'])) #need to append a nan value to account for bidders with missing countries\n",
    "#set to zero to ignore"
   ]
  },
  {
   "cell_type": "code",
   "execution_count": 243,
   "metadata": {
    "collapsed": true,
    "scrolled": true
   },
   "outputs": [],
   "source": [
    "mergedfirst['percentage_bot_country'] = mergedfirst.country.map(percentage_country)"
   ]
  },
  {
   "cell_type": "code",
   "execution_count": 248,
   "metadata": {},
   "outputs": [
    {
     "data": {
      "text/html": [
       "<div>\n",
       "<style>\n",
       "    .dataframe thead tr:only-child th {\n",
       "        text-align: right;\n",
       "    }\n",
       "\n",
       "    .dataframe thead th {\n",
       "        text-align: left;\n",
       "    }\n",
       "\n",
       "    .dataframe tbody tr th {\n",
       "        vertical-align: top;\n",
       "    }\n",
       "</style>\n",
       "<table border=\"1\" class=\"dataframe\">\n",
       "  <thead>\n",
       "    <tr style=\"text-align: right;\">\n",
       "      <th></th>\n",
       "      <th>bidder_id</th>\n",
       "      <th>auction</th>\n",
       "      <th>merchandise</th>\n",
       "      <th>device</th>\n",
       "      <th>time</th>\n",
       "      <th>country</th>\n",
       "      <th>ip</th>\n",
       "      <th>url</th>\n",
       "      <th>f_time</th>\n",
       "      <th>diff_time</th>\n",
       "      <th>payment_account</th>\n",
       "      <th>address</th>\n",
       "      <th>outcome</th>\n",
       "      <th>percentage_bot_country</th>\n",
       "    </tr>\n",
       "    <tr>\n",
       "      <th>bid_id</th>\n",
       "      <th></th>\n",
       "      <th></th>\n",
       "      <th></th>\n",
       "      <th></th>\n",
       "      <th></th>\n",
       "      <th></th>\n",
       "      <th></th>\n",
       "      <th></th>\n",
       "      <th></th>\n",
       "      <th></th>\n",
       "      <th></th>\n",
       "      <th></th>\n",
       "      <th></th>\n",
       "      <th></th>\n",
       "    </tr>\n",
       "  </thead>\n",
       "  <tbody>\n",
       "    <tr>\n",
       "      <th>46</th>\n",
       "      <td>6c8ffec692e88d81e1b18d47818abb04v6llr</td>\n",
       "      <td>ewmzr</td>\n",
       "      <td>home goods</td>\n",
       "      <td>phone8</td>\n",
       "      <td>9759243368421052</td>\n",
       "      <td>us</td>\n",
       "      <td>160.9.191.22</td>\n",
       "      <td>lok9xfe6k6rtv8f</td>\n",
       "      <td>9772874210526315</td>\n",
       "      <td>13630842105263</td>\n",
       "      <td>a3d2de7675556553a5f08e4c88d2c228b0s7q</td>\n",
       "      <td>a3d2de7675556553a5f08e4c88d2c228dehmo</td>\n",
       "      <td>0.0</td>\n",
       "      <td>0.476018</td>\n",
       "    </tr>\n",
       "    <tr>\n",
       "      <th>542</th>\n",
       "      <td>6c8ffec692e88d81e1b18d47818abb04v6llr</td>\n",
       "      <td>ewmzr</td>\n",
       "      <td>home goods</td>\n",
       "      <td>phone220</td>\n",
       "      <td>9759246052631578</td>\n",
       "      <td>us</td>\n",
       "      <td>248.126.232.205</td>\n",
       "      <td>pvihxmekpkjv7qy</td>\n",
       "      <td>9772874210526315</td>\n",
       "      <td>13628157894737</td>\n",
       "      <td>a3d2de7675556553a5f08e4c88d2c228b0s7q</td>\n",
       "      <td>a3d2de7675556553a5f08e4c88d2c228dehmo</td>\n",
       "      <td>0.0</td>\n",
       "      <td>0.476018</td>\n",
       "    </tr>\n",
       "    <tr>\n",
       "      <th>21046</th>\n",
       "      <td>6c8ffec692e88d81e1b18d47818abb04v6llr</td>\n",
       "      <td>ewmzr</td>\n",
       "      <td>home goods</td>\n",
       "      <td>phone312</td>\n",
       "      <td>9759309000000000</td>\n",
       "      <td>us</td>\n",
       "      <td>122.168.6.174</td>\n",
       "      <td>1bltvi87id7pau1</td>\n",
       "      <td>9772874210526315</td>\n",
       "      <td>13565210526315</td>\n",
       "      <td>a3d2de7675556553a5f08e4c88d2c228b0s7q</td>\n",
       "      <td>a3d2de7675556553a5f08e4c88d2c228dehmo</td>\n",
       "      <td>0.0</td>\n",
       "      <td>0.476018</td>\n",
       "    </tr>\n",
       "    <tr>\n",
       "      <th>28545</th>\n",
       "      <td>6c8ffec692e88d81e1b18d47818abb04v6llr</td>\n",
       "      <td>ewmzr</td>\n",
       "      <td>home goods</td>\n",
       "      <td>phone220</td>\n",
       "      <td>9759329736842105</td>\n",
       "      <td>us</td>\n",
       "      <td>48.20.153.251</td>\n",
       "      <td>qt2a8tecr788rdh</td>\n",
       "      <td>9772874210526315</td>\n",
       "      <td>13544473684210</td>\n",
       "      <td>a3d2de7675556553a5f08e4c88d2c228b0s7q</td>\n",
       "      <td>a3d2de7675556553a5f08e4c88d2c228dehmo</td>\n",
       "      <td>0.0</td>\n",
       "      <td>0.476018</td>\n",
       "    </tr>\n",
       "    <tr>\n",
       "      <th>31959</th>\n",
       "      <td>6c8ffec692e88d81e1b18d47818abb04v6llr</td>\n",
       "      <td>ewmzr</td>\n",
       "      <td>home goods</td>\n",
       "      <td>phone23</td>\n",
       "      <td>9759339157894736</td>\n",
       "      <td>us</td>\n",
       "      <td>203.208.230.239</td>\n",
       "      <td>vasstdc27m7nks3</td>\n",
       "      <td>9772874210526315</td>\n",
       "      <td>13535052631579</td>\n",
       "      <td>a3d2de7675556553a5f08e4c88d2c228b0s7q</td>\n",
       "      <td>a3d2de7675556553a5f08e4c88d2c228dehmo</td>\n",
       "      <td>0.0</td>\n",
       "      <td>0.476018</td>\n",
       "    </tr>\n",
       "  </tbody>\n",
       "</table>\n",
       "</div>"
      ],
      "text/plain": [
       "                                    bidder_id auction merchandise    device  \\\n",
       "bid_id                                                                        \n",
       "46      6c8ffec692e88d81e1b18d47818abb04v6llr   ewmzr  home goods    phone8   \n",
       "542     6c8ffec692e88d81e1b18d47818abb04v6llr   ewmzr  home goods  phone220   \n",
       "21046   6c8ffec692e88d81e1b18d47818abb04v6llr   ewmzr  home goods  phone312   \n",
       "28545   6c8ffec692e88d81e1b18d47818abb04v6llr   ewmzr  home goods  phone220   \n",
       "31959   6c8ffec692e88d81e1b18d47818abb04v6llr   ewmzr  home goods   phone23   \n",
       "\n",
       "                    time country               ip              url  \\\n",
       "bid_id                                                               \n",
       "46      9759243368421052      us     160.9.191.22  lok9xfe6k6rtv8f   \n",
       "542     9759246052631578      us  248.126.232.205  pvihxmekpkjv7qy   \n",
       "21046   9759309000000000      us    122.168.6.174  1bltvi87id7pau1   \n",
       "28545   9759329736842105      us    48.20.153.251  qt2a8tecr788rdh   \n",
       "31959   9759339157894736      us  203.208.230.239  vasstdc27m7nks3   \n",
       "\n",
       "                  f_time       diff_time  \\\n",
       "bid_id                                     \n",
       "46      9772874210526315  13630842105263   \n",
       "542     9772874210526315  13628157894737   \n",
       "21046   9772874210526315  13565210526315   \n",
       "28545   9772874210526315  13544473684210   \n",
       "31959   9772874210526315  13535052631579   \n",
       "\n",
       "                              payment_account  \\\n",
       "bid_id                                          \n",
       "46      a3d2de7675556553a5f08e4c88d2c228b0s7q   \n",
       "542     a3d2de7675556553a5f08e4c88d2c228b0s7q   \n",
       "21046   a3d2de7675556553a5f08e4c88d2c228b0s7q   \n",
       "28545   a3d2de7675556553a5f08e4c88d2c228b0s7q   \n",
       "31959   a3d2de7675556553a5f08e4c88d2c228b0s7q   \n",
       "\n",
       "                                      address  outcome  percentage_bot_country  \n",
       "bid_id                                                                          \n",
       "46      a3d2de7675556553a5f08e4c88d2c228dehmo      0.0                0.476018  \n",
       "542     a3d2de7675556553a5f08e4c88d2c228dehmo      0.0                0.476018  \n",
       "21046   a3d2de7675556553a5f08e4c88d2c228dehmo      0.0                0.476018  \n",
       "28545   a3d2de7675556553a5f08e4c88d2c228dehmo      0.0                0.476018  \n",
       "31959   a3d2de7675556553a5f08e4c88d2c228dehmo      0.0                0.476018  "
      ]
     },
     "execution_count": 248,
     "metadata": {},
     "output_type": "execute_result"
    }
   ],
   "source": [
    "mergedfirst.head()"
   ]
  },
  {
   "cell_type": "code",
   "execution_count": 255,
   "metadata": {},
   "outputs": [
    {
     "data": {
      "text/plain": [
       "(array([  3.34380000e+04,   5.90000000e+03,   2.89800000e+04,\n",
       "          9.00000000e+00,   8.50000000e+01,   2.60000000e+01,\n",
       "          2.26000000e+02,   8.00000000e+00,   6.98300000e+03,\n",
       "          8.56200000e+03]),\n",
       " array([ 0.52678462,  0.57200826,  0.6172319 ,  0.66245553,  0.70767917,\n",
       "         0.7529028 ,  0.79812644,  0.84335007,  0.88857371,  0.93379734,\n",
       "         0.97902098]),\n",
       " <a list of 10 Patch objects>)"
      ]
     },
     "execution_count": 255,
     "metadata": {},
     "output_type": "execute_result"
    }
   ],
   "source": [
    "plt.hist(mergedfirst[mergedfirst.percentage_bot_country > 0.50].percentage_bot_country)"
   ]
  },
  {
   "cell_type": "code",
   "execution_count": 10,
   "metadata": {},
   "outputs": [
    {
     "data": {
      "image/png": "[encoded data removed]",
      "text/plain": [
       "<matplotlib.figure.Figure at 0x14581b886a0>"
      ]
     },
     "metadata": {},
     "output_type": "display_data"
    }
   ],
   "source": [
    "hu_count = mergedfirst[mergedfirst.outcome ==0].groupby('country').count().sort_index()\n",
    "bot_count = mergedfirst[mergedfirst.outcome ==1].groupby('country').count().sort_index()\n",
    "total = hu_count + bot_count\n",
    "hu_count = (hu_count/total).sort_values('bidder_id')\n",
    "bot_count = (bot_count/total).sort_values('bidder_id', ascending=False)\n",
    "inds = np.arange(len(hu_count))\n",
    "plt.title('')\n",
    "plt.xlabel('Countires')\n",
    "plt.ylabel('Percentage of bots per Countries')\n",
    "plt.bar(inds, bot_count.bidder_id)\n",
    "plt.bar(inds,hu_count.bidder_id, bottom=bot_count.bidder_id)\n",
    "plt.show()"
   ]
  },
  {
   "cell_type": "code",
   "execution_count": 13,
   "metadata": {},
   "outputs": [
    {
     "data": {
      "text/plain": [
       "country\n",
       "mo    0.020979\n",
       "jp    0.059152\n",
       "kr    0.090909\n",
       "fo    0.111111\n",
       "je    0.125000\n",
       "Name: bidder_id, dtype: float64"
      ]
     },
     "execution_count": 13,
     "metadata": {},
     "output_type": "execute_result"
    }
   ],
   "source": [
    "hu_count.bidder_id.dropna().head()"
   ]
  },
  {
   "cell_type": "code",
   "execution_count": 99,
   "metadata": {},
   "outputs": [
    {
     "name": "stdout",
     "output_type": "stream",
     "text": [
      "0.0 P-value of 0 means its lower than we can measure and that the null hypothesis is incorrect and we can say with confidence that countryand being a bot is related.\n"
     ]
    }
   ],
   "source": [
    "hu_count = mergedfirst[mergedfirst.outcome ==0].groupby('country').count().sort_index()\n",
    "bot_count = mergedfirst[mergedfirst.outcome ==1].groupby('country').count().sort_index()\n",
    "hu_count_list = hu_count.bidder_id.dropna().tolist()\n",
    "bot_count_list = bot_count.bidder_id.dropna().tolist()\n",
    "obs = np.array([hu_count_list, bot_count_list])\n",
    "chi2, p, dof, expected = stats.chi2_contingency(obs)\n",
    "print (p, 'P-value of 0 means its lower than we can measure and that the null hypothesis is incorrect and we can say with confidence that countryand being a bot is related.')"
   ]
  },
  {
   "cell_type": "code",
   "execution_count": 100,
   "metadata": {},
   "outputs": [
    {
     "data": {
      "text/plain": [
       "[10,\n",
       " 14330,\n",
       " 1963,\n",
       " 3,\n",
       " 2639,\n",
       " 470,\n",
       " 7076,\n",
       " 10792,\n",
       " 2445,\n",
       " 7756,\n",
       " 8630,\n",
       " 618,\n",
       " 43,\n",
       " 28754,\n",
       " 2844,\n",
       " 2638,\n",
       " 1586,\n",
       " 1040,\n",
       " 40,\n",
       " 980,\n",
       " 9,\n",
       " 12814,\n",
       " 1126,\n",
       " 26072,\n",
       " 2,\n",
       " 9,\n",
       " 4600,\n",
       " 616,\n",
       " 5,\n",
       " 7804,\n",
       " 898,\n",
       " 5,\n",
       " 97,\n",
       " 2832,\n",
       " 385,\n",
       " 2330,\n",
       " 5621,\n",
       " 6198,\n",
       " 495,\n",
       " 547,\n",
       " 347,\n",
       " 398,\n",
       " 4503,\n",
       " 10436,\n",
       " 1175,\n",
       " 5009,\n",
       " 4,\n",
       " 22,\n",
       " 4727,\n",
       " 1613,\n",
       " 333,\n",
       " 8267,\n",
       " 1,\n",
       " 9213,\n",
       " 29262,\n",
       " 5237,\n",
       " 1796,\n",
       " 71,\n",
       " 1,\n",
       " 9150,\n",
       " 597,\n",
       " 3,\n",
       " 1822,\n",
       " 118398,\n",
       " 21,\n",
       " 458,\n",
       " 1,\n",
       " 1544,\n",
       " 2843,\n",
       " 13643,\n",
       " 31,\n",
       " 86,\n",
       " 4781,\n",
       " 70,\n",
       " 3390,\n",
       " 258,\n",
       " 1949,\n",
       " 153733,\n",
       " 1604,\n",
       " 2397,\n",
       " 559245,\n",
       " 12223,\n",
       " 16076,\n",
       " 90,\n",
       " 10708,\n",
       " 1,\n",
       " 132,\n",
       " 12912,\n",
       " 498,\n",
       " 146322,\n",
       " 37,\n",
       " 522,\n",
       " 634,\n",
       " 7985,\n",
       " 84,\n",
       " 413,\n",
       " 2731,\n",
       " 6,\n",
       " 27589,\n",
       " 1027,\n",
       " 391,\n",
       " 2318,\n",
       " 267,\n",
       " 588,\n",
       " 2276,\n",
       " 9093,\n",
       " 581,\n",
       " 637,\n",
       " 399,\n",
       " 542,\n",
       " 1,\n",
       " 803,\n",
       " 1930,\n",
       " 250,\n",
       " 33,\n",
       " 3,\n",
       " 1,\n",
       " 2698,\n",
       " 153,\n",
       " 1783,\n",
       " 79,\n",
       " 3983,\n",
       " 46438,\n",
       " 77319,\n",
       " 1929,\n",
       " 3063,\n",
       " 1580,\n",
       " 345411,\n",
       " 334,\n",
       " 4559,\n",
       " 2253,\n",
       " 4477,\n",
       " 1265,\n",
       " 5159,\n",
       " 3926,\n",
       " 1082,\n",
       " 5,\n",
       " 289,\n",
       " 18616,\n",
       " 22059,\n",
       " 12382,\n",
       " 746,\n",
       " 19,\n",
       " 1287,\n",
       " 5909,\n",
       " 5490,\n",
       " 8,\n",
       " 18425,\n",
       " 20391,\n",
       " 42774,\n",
       " 2114,\n",
       " 26109,\n",
       " 17,\n",
       " 232,\n",
       " 4903,\n",
       " 2790,\n",
       " 6824,\n",
       " 1538,\n",
       " 1683,\n",
       " 849,\n",
       " 1623,\n",
       " 1039,\n",
       " 17,\n",
       " 5532,\n",
       " 316,\n",
       " 1243,\n",
       " 166,\n",
       " 1170,\n",
       " 67432,\n",
       " 96,\n",
       " 5,\n",
       " 10,\n",
       " 2183,\n",
       " 78220,\n",
       " 335,\n",
       " 1329,\n",
       " 7000,\n",
       " 20445,\n",
       " 2730,\n",
       " 44081,\n",
       " 73380,\n",
       " 85,\n",
       " 160,\n",
       " 3720,\n",
       " 83300,\n",
       " 5,\n",
       " 408,\n",
       " 141974,\n",
       " 15061,\n",
       " 14688,\n",
       " 3]"
      ]
     },
     "execution_count": 100,
     "metadata": {},
     "output_type": "execute_result"
    }
   ],
   "source": [
    "hu_count_list"
   ]
  },
  {
   "cell_type": "code",
   "execution_count": 81,
   "metadata": {},
   "outputs": [
    {
     "name": "stdout",
     "output_type": "stream",
     "text": [
      "183832\n",
      "0.0\n"
     ]
    }
   ],
   "source": [
    "thres = mergedfirst.groupby('ip').count() > 5000\n",
    "df = mergedfirst.merge(thres, left_on='ip', right_index=True)\n",
    "df = df[df.bidder_id_y == True]\n",
    "print (len(df))\n",
    "hu_count = df[df.outcome_x ==0].groupby('ip').count().sort_index()\n",
    "bot_count = df[df.outcome_x ==1].groupby('ip').count().sort_index()\n",
    "hu_count_list = hu_count.bidder_id_x.dropna().tolist()\n",
    "bot_count_list = bot_count.bidder_id_x.dropna().tolist()\n",
    "obs = np.array([hu_count_list, bot_count_list])\n",
    "chi2, p, dof, expected = stats.chi2_contingency(obs)\n",
    "print(p)"
   ]
  },
  {
   "cell_type": "code",
   "execution_count": 128,
   "metadata": {},
   "outputs": [
    {
     "name": "stdout",
     "output_type": "stream",
     "text": [
      "610031\n"
     ]
    },
    {
     "ename": "TypeError",
     "evalue": "'<' not supported between instances of 'list' and 'int'",
     "output_type": "error",
     "traceback": [
      "\u001b[1;31m---------------------------------------------------------------------------\u001b[0m",
      "\u001b[1;31mTypeError\u001b[0m                                 Traceback (most recent call last)",
      "\u001b[1;32m<ipython-input-128-a916e5aa1eb4>\u001b[0m in \u001b[0;36m<module>\u001b[1;34m()\u001b[0m\n\u001b[0;32m      7\u001b[0m \u001b[0mobs\u001b[0m \u001b[1;33m=\u001b[0m \u001b[0mnp\u001b[0m\u001b[1;33m.\u001b[0m\u001b[0marray\u001b[0m\u001b[1;33m(\u001b[0m\u001b[1;33m[\u001b[0m\u001b[0mhu_count_list\u001b[0m\u001b[1;33m,\u001b[0m \u001b[0mbot_count_list\u001b[0m\u001b[1;33m]\u001b[0m\u001b[1;33m)\u001b[0m\u001b[1;33m\u001b[0m\u001b[0m\n\u001b[0;32m      8\u001b[0m \u001b[0mprint\u001b[0m \u001b[1;33m(\u001b[0m\u001b[0mlen\u001b[0m\u001b[1;33m(\u001b[0m\u001b[0mhu_count\u001b[0m\u001b[1;33m)\u001b[0m\u001b[1;33m)\u001b[0m\u001b[1;33m\u001b[0m\u001b[0m\n\u001b[1;32m----> 9\u001b[1;33m \u001b[0mchi2\u001b[0m\u001b[1;33m,\u001b[0m \u001b[0mp\u001b[0m\u001b[1;33m,\u001b[0m \u001b[0mdof\u001b[0m\u001b[1;33m,\u001b[0m \u001b[0mexpected\u001b[0m \u001b[1;33m=\u001b[0m \u001b[0mstats\u001b[0m\u001b[1;33m.\u001b[0m\u001b[0mchi2_contingency\u001b[0m\u001b[1;33m(\u001b[0m\u001b[0mobs\u001b[0m\u001b[1;33m)\u001b[0m\u001b[1;33m\u001b[0m\u001b[0m\n\u001b[0m\u001b[0;32m     10\u001b[0m \u001b[0mprint\u001b[0m\u001b[1;33m(\u001b[0m\u001b[0mp\u001b[0m\u001b[1;33m)\u001b[0m\u001b[1;33m\u001b[0m\u001b[0m\n",
      "\u001b[1;32mD:\\Anaconda3\\lib\\site-packages\\scipy\\stats\\contingency.py\u001b[0m in \u001b[0;36mchi2_contingency\u001b[1;34m(observed, correction, lambda_)\u001b[0m\n\u001b[0;32m    240\u001b[0m     \"\"\"\n\u001b[0;32m    241\u001b[0m     \u001b[0mobserved\u001b[0m \u001b[1;33m=\u001b[0m \u001b[0mnp\u001b[0m\u001b[1;33m.\u001b[0m\u001b[0masarray\u001b[0m\u001b[1;33m(\u001b[0m\u001b[0mobserved\u001b[0m\u001b[1;33m)\u001b[0m\u001b[1;33m\u001b[0m\u001b[0m\n\u001b[1;32m--> 242\u001b[1;33m     \u001b[1;32mif\u001b[0m \u001b[0mnp\u001b[0m\u001b[1;33m.\u001b[0m\u001b[0many\u001b[0m\u001b[1;33m(\u001b[0m\u001b[0mobserved\u001b[0m \u001b[1;33m<\u001b[0m \u001b[1;36m0\u001b[0m\u001b[1;33m)\u001b[0m\u001b[1;33m:\u001b[0m\u001b[1;33m\u001b[0m\u001b[0m\n\u001b[0m\u001b[0;32m    243\u001b[0m         \u001b[1;32mraise\u001b[0m \u001b[0mValueError\u001b[0m\u001b[1;33m(\u001b[0m\u001b[1;34m\"All values in `observed` must be nonnegative.\"\u001b[0m\u001b[1;33m)\u001b[0m\u001b[1;33m\u001b[0m\u001b[0m\n\u001b[0;32m    244\u001b[0m     \u001b[1;32mif\u001b[0m \u001b[0mobserved\u001b[0m\u001b[1;33m.\u001b[0m\u001b[0msize\u001b[0m \u001b[1;33m==\u001b[0m \u001b[1;36m0\u001b[0m\u001b[1;33m:\u001b[0m\u001b[1;33m\u001b[0m\u001b[0m\n",
      "\u001b[1;31mTypeError\u001b[0m: '<' not supported between instances of 'list' and 'int'"
     ]
    }
   ],
   "source": [
    "thres = mergedfirst.groupby('url').count() > 150\n",
    "df = mergedfirst.merge(thres, left_on='url', right_index=True)\n",
    "hu_count = df[df.outcome_x ==0].groupby('url').count().sort_index()\n",
    "bot_count = df[df.outcome_x ==1].groupby('url').count().sort_index()\n",
    "hu_count_list = hu_count.bidder_id_x.dropna().tolist()\n",
    "bot_count_list = bot_count.bidder_id_x.dropna().tolist()\n",
    "obs = np.array([hu_count_list, bot_count_list])\n",
    "print (len(hu_count))\n",
    "chi2, p, dof, expected = stats.chi2_contingency(obs)\n",
    "print(p)"
   ]
  },
  {
   "cell_type": "code",
   "execution_count": 127,
   "metadata": {},
   "outputs": [
    {
     "name": "stdout",
     "output_type": "stream",
     "text": [
      "594\n"
     ]
    },
    {
     "data": {
      "image/png": "[encoded data removed]",
      "text/plain": [
       "<matplotlib.figure.Figure at 0x1f782230c88>"
      ]
     },
     "metadata": {},
     "output_type": "display_data"
    }
   ],
   "source": [
    "url_thres = mergedfirst.groupby('url').count() > 150\n",
    "url_df = mergedfirst.merge(url_thres, left_on='url', right_index=True)\n",
    "url_df = url_df[url_df.bidder_id_y == True]\n",
    "url_hu_count = url_df[url_df.outcome_x ==0].groupby('url').count().sort_index()\n",
    "print (len(url_hu_count))\n",
    "url_bot_count = url_df[url_df.outcome_x ==1].groupby('url').count().sort_index()\n",
    "total = url_hu_count + url_bot_count\n",
    "url_hu_count = (url_hu_count/total).sort_values('bidder_id_x')\n",
    "url_bot_count = (url_bot_count/total).sort_values('bidder_id_x', ascending=False)\n",
    "inds = np.arange(len(url_hu_count))\n",
    "plt.title('')\n",
    "plt.xlabel('URLs')\n",
    "plt.ylabel('Percentage of bots per URLs')\n",
    "plt.bar(inds, url_bot_count.bidder_id_x)\n",
    "plt.bar(inds,url_hu_count.bidder_id_x, bottom=url_bot_count.bidder_id_x)\n",
    "plt.show()"
   ]
  },
  {
   "cell_type": "code",
   "execution_count": 125,
   "metadata": {},
   "outputs": [
    {
     "name": "stdout",
     "output_type": "stream",
     "text": [
      "43.1631944543 0.895459378574 56\n"
     ]
    }
   ],
   "source": [
    "obs = np.array([url_hu_count.bidder_id_x.dropna().tolist(), url_bot_count.bidder_id_x.dropna().tolist()])\n",
    "chi2, p, dof, expected = stats.chi2_contingency(obs)\n",
    "print(chi2, p, dof)"
   ]
  },
  {
   "cell_type": "code",
   "execution_count": 118,
   "metadata": {},
   "outputs": [
    {
     "data": {
      "image/png": "[encoded data removed]",
      "text/plain": [
       "<matplotlib.figure.Figure at 0x1f79f8e1dd8>"
      ]
     },
     "metadata": {},
     "output_type": "display_data"
    }
   ],
   "source": [
    "thres = mergedfirst.groupby('ip').count() > 200\n",
    "df = mergedfirst.merge(thres, left_on='ip', right_index=True)\n",
    "df = df[df.bidder_id_y == True]\n",
    "hu_count = df[df.outcome_x ==0].groupby('ip').count().sort_index()\n",
    "bot_count = df[df.outcome_x ==1].groupby('ip').count().sort_index()\n",
    "total = hu_count + bot_count\n",
    "hu_count = (hu_count/total).sort_values('bidder_id_x')\n",
    "bot_count = (bot_count/total).sort_values('bidder_id_x', ascending=False)\n",
    "inds = np.arange(len(hu_count))\n",
    "plt.title('')\n",
    "plt.xlabel('IPs')\n",
    "plt.ylabel('Percentage of bots per IPs')\n",
    "plt.bar(inds, bot_count.bidder_id_x)\n",
    "plt.bar(inds,hu_count.bidder_id_x, bottom=bot_count.bidder_id_x)\n",
    "plt.show()"
   ]
  },
  {
   "cell_type": "code",
   "execution_count": 120,
   "metadata": {},
   "outputs": [
    {
     "name": "stdout",
     "output_type": "stream",
     "text": [
      "313.553655157 1.0 1153\n"
     ]
    }
   ],
   "source": [
    "obs = np.array([hu_count.bidder_id_x.dropna().tolist(), bot_count.bidder_id_x.dropna().tolist()])\n",
    "chi2, p, dof, expected = stats.chi2_contingency(obs)\n",
    "print(chi2, p, dof)"
   ]
  },
  {
   "cell_type": "code",
   "execution_count": null,
   "metadata": {
    "collapsed": true
   },
   "outputs": [],
   "source": []
  }
 ],
 "metadata": {
  "kernelspec": {
   "display_name": "Python 3",
   "language": "python",
   "name": "python3"
  },
  "language_info": {
   "codemirror_mode": {
    "name": "ipython",
    "version": 3
   },
   "file_extension": ".py",
   "mimetype": "text/x-python",
   "name": "python",
   "nbconvert_exporter": "python",
   "pygments_lexer": "ipython3",
   "version": "3.6.2"
  }
 },
 "nbformat": 4,
 "nbformat_minor": 2
}
