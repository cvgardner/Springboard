{
 "cells": [
  {
   "cell_type": "markdown",
   "metadata": {},
   "source": [
    "# Examining Racial Discrimination in the US Job Market\n",
    "\n",
    "### Background\n",
    "Racial discrimination continues to be pervasive in cultures throughout the world. Researchers examined the level of racial discrimination in the United States labor market by randomly assigning identical résumés to black-sounding or white-sounding names and observing the impact on requests for interviews from employers.\n",
    "\n",
    "### Data\n",
    "In the dataset provided, each row represents a resume. The 'race' column has two values, 'b' and 'w', indicating black-sounding and white-sounding. The column 'call' has two values, 1 and 0, indicating whether the resume received a call from employers or not.\n",
    "\n",
    "Note that the 'b' and 'w' values in race are assigned randomly to the resumes when presented to the employer."
   ]
  },
  {
   "cell_type": "markdown",
   "metadata": {},
   "source": [
    "### Exercises\n",
    "You will perform a statistical analysis to establish whether race has a significant impact on the rate of callbacks for resumes.\n",
    "\n",
    "Answer the following questions **in this notebook below and submit to your Github account**. \n",
    "\n",
    "   1. What test is appropriate for this problem? Does CLT apply?\n",
    "   2. What are the null and alternate hypotheses?\n",
    "   3. Compute margin of error, confidence interval, and p-value.\n",
    "   4. Write a story describing the statistical significance in the context or the original problem.\n",
    "   5. Does your analysis mean that race/name is the most important factor in callback success? Why or why not? If not, how would you amend your analysis?\n",
    "\n",
    "You can include written notes in notebook cells using Markdown: \n",
    "   - In the control panel at the top, choose Cell > Cell Type > Markdown\n",
    "   - Markdown syntax: http://nestacms.com/docs/creating-content/markdown-cheat-sheet\n",
    "\n",
    "\n",
    "#### Resources\n",
    "+ Experiment information and data source: http://www.povertyactionlab.org/evaluation/discrimination-job-market-united-states\n",
    "+ Scipy statistical methods: http://docs.scipy.org/doc/scipy/reference/stats.html \n",
    "+ Markdown syntax: http://nestacms.com/docs/creating-content/markdown-cheat-sheet\n",
    "****"
   ]
  },
  {
   "cell_type": "code",
   "execution_count": 2,
   "metadata": {
    "collapsed": true
   },
   "outputs": [],
   "source": [
    "import pandas as pd\n",
    "import numpy as np\n",
    "from scipy import stats"
   ]
  },
  {
   "cell_type": "markdown",
   "metadata": {},
   "source": [
    "data = pd.io.stata.read_stata('data/us_job_market_discrimination.dta')"
   ]
  },
  {
   "cell_type": "code",
   "execution_count": null,
   "metadata": {
    "collapsed": true
   },
   "outputs": [],
   "source": [
    "Answers, Work Below\n",
    "\n",
    "1. The correct test for this problem is a independent two sample z test. The t-test is used since we only have the sample standard deviation\n",
    "to work with. An independent test is used over the paired even though identical resumes are used they are being sent to different employers.\n",
    "CLT does apply in this problem because there are independent samples which are assigned randomly and the total \n",
    "data size of 4870 is less than 10% of the total population of the United States.\n",
    "\n",
    "2. The goal of this analysis is to find out if being associated with a black name or a white name impacts employer call back rates.\n",
    "as such the Null Hypothesis should be that the mean call back rate of employers is equal for both samples. The Alternative hypothesis \n",
    "will be that they are not equal. With these hypotheses if the p-value is low we know there are statistically significant results\n",
    "to support against the null hypothesis which would mean that name based racial discrimination does infact occur when considering \n",
    "employer call back rates.\n",
    "\n",
    "3. Margin of error: 0.0152552843854\n",
    "    P-value: 3.92587953657e-05\n",
    "    Confidence Interval Black Sounding: (0.049221381646604188, 0.079731389778643011)\n",
    "    Confidence Interval White Sounding: (0.081254236501664759, 0.11176424463370359)\n",
    "        \n",
    "4. Racial discrimination is a continually pervasive issue, to shed light on how racial discrimination affects job seekers we will\n",
    "analyze a dataset gathered from employer call back rates for resumes that had been randomly assigned a black sounding or white \n",
    "sounding name. If there is a statistically significant discrimination we will be able to find it. The Null hypothesis for this test\n",
    "is to assume that there is no difference in the mean employer call back rate between the black and white sample groups. An \n",
    "independent two sample t-test was used because each employer-resume-name data point is independent from eachother. After\n",
    "finding the confidence intervals and p-values as shown above we come to the conclusion that racial discrimination is in fact \n",
    "prevalent during a job search. The differences between white and black names is actually so large that the confidence intervals\n",
    "for white sounding and black sounding names employer call back rates do not even overlap.\n",
    "\n",
    "5. Even though the analysis clearly shows that racial discrimination occurs when considering employer call back rate many more \n",
    "factors for this may exist. This data sample specifically attempted to isolate race to test its important, but variables such as\n",
    "level of education, skills (computer and special), and military may all also have a large impact on employer call back rate and \n",
    "with the current analysis there is no way to compare them to tell which variable provides the largest impact. A possible way to amend\n",
    "this issue is by making the assignment of resumes less random or extend the analysis to by viewing only white or black names to be\n",
    "more focused on these other variables a two sample t-test could be performed on military represented as 0/1. It would also be\n",
    "interesting to redo the analysis using a paired t-test rather than an independent one. By pairing samples by employer we take \n",
    "a null hypothesis that the pair differences are zero. This represents the idea that an employer who calls back a black sounding \n",
    "high level resume would do the same to a white sounding one and vice versa.\n",
    "    "
   ]
  },
  {
   "cell_type": "code",
   "execution_count": 8,
   "metadata": {},
   "outputs": [
    {
     "name": "stdout",
     "output_type": "stream",
     "text": [
      "157.0 4870\n"
     ]
    }
   ],
   "source": [
    "# number of callbacks for black-sounding names\n",
    "print(sum(data[data.race=='b'].call), len(data))\n"
   ]
  },
  {
   "cell_type": "code",
   "execution_count": 41,
   "metadata": {},
   "outputs": [
    {
     "data": {
      "text/plain": [
       "2    0.0\n",
       "3    0.0\n",
       "7    0.0\n",
       "8    0.0\n",
       "9    0.0\n",
       "Name: call, dtype: float32"
      ]
     },
     "execution_count": 41,
     "metadata": {},
     "output_type": "execute_result"
    }
   ],
   "source": [
    "#separating dataframe into black and white and get call column\n",
    "black = data[data.race =='b'].call\n",
    "white = data[data.race == 'w'].call\n",
    "black.head()"
   ]
  },
  {
   "cell_type": "code",
   "execution_count": 56,
   "metadata": {},
   "outputs": [
    {
     "name": "stdout",
     "output_type": "stream",
     "text": [
      "-4.11558342208 0.0152552843854 3.92587953657e-05 (0.049221381646604188, 0.079731389778643011) (0.081254236501664759, 0.11176424463370359)\n"
     ]
    }
   ],
   "source": [
    "#compute sample mean and margin of error\n",
    "std_black, std_white = np.std(black), np.std(white)\n",
    "mean_black, mean_white = np.mean(black), np.mean(white)\n",
    "std_pooled = np.sqrt(((len(black)-1)*std_black**2 + (len(white)-1)*std_white**2)/(len(black)+len(white)-2))\n",
    "sempooled = np.sqrt(std_pooled**2*(1/len(black) + 1/len(white)))\n",
    "t = (mean_black - mean_white)/sempooled \n",
    "error_margin = 1.96*sempooled\n",
    "p = stats.t.cdf(t, df=(len(black)+len(white)-2))*2\n",
    "conf_int_black =stats.norm.interval(0.95, loc=mean_black, scale=sempooled)\n",
    "conf_int_white =stats.norm.interval(0.95, loc=mean_white, scale=sempooled)\n",
    "print (t, error_margin, p, conf_int_black, conf_int_white)"
   ]
  },
  {
   "cell_type": "code",
   "execution_count": 57,
   "metadata": {},
   "outputs": [
    {
     "data": {
      "text/plain": [
       "Index(['id', 'ad', 'education', 'ofjobs', 'yearsexp', 'honors', 'volunteer',\n",
       "       'military', 'empholes', 'occupspecific', 'occupbroad', 'workinschool',\n",
       "       'email', 'computerskills', 'specialskills', 'firstname', 'sex', 'race',\n",
       "       'h', 'l', 'call', 'city', 'kind', 'adid', 'fracblack', 'fracwhite',\n",
       "       'lmedhhinc', 'fracdropout', 'fraccolp', 'linc', 'col', 'expminreq',\n",
       "       'schoolreq', 'eoe', 'parent_sales', 'parent_emp', 'branch_sales',\n",
       "       'branch_emp', 'fed', 'fracblack_empzip', 'fracwhite_empzip',\n",
       "       'lmedhhinc_empzip', 'fracdropout_empzip', 'fraccolp_empzip',\n",
       "       'linc_empzip', 'manager', 'supervisor', 'secretary', 'offsupport',\n",
       "       'salesrep', 'retailsales', 'req', 'expreq', 'comreq', 'educreq',\n",
       "       'compreq', 'orgreq', 'manuf', 'transcom', 'bankreal', 'trade',\n",
       "       'busservice', 'othservice', 'missind', 'ownership'],\n",
       "      dtype='object')"
      ]
     },
     "execution_count": 57,
     "metadata": {},
     "output_type": "execute_result"
    }
   ],
   "source": [
    "data.columns"
   ]
  },
  {
   "cell_type": "code",
   "execution_count": 51,
   "metadata": {},
   "outputs": [
    {
     "data": {
      "text/plain": [
       "array([0, 1], dtype=int64)"
      ]
     },
     "execution_count": 51,
     "metadata": {},
     "output_type": "execute_result"
    }
   ],
   "source": [
    "data.military.unique()"
   ]
  },
  {
   "cell_type": "code",
   "execution_count": null,
   "metadata": {
    "collapsed": true
   },
   "outputs": [],
   "source": []
  }
 ],
 "metadata": {
  "kernelspec": {
   "display_name": "Python 3",
   "language": "python",
   "name": "python3"
  },
  "language_info": {
   "codemirror_mode": {
    "name": "ipython",
    "version": 3
   },
   "file_extension": ".py",
   "mimetype": "text/x-python",
   "name": "python",
   "nbconvert_exporter": "python",
   "pygments_lexer": "ipython3",
   "version": "3.6.2"
  }
 },
 "nbformat": 4,
 "nbformat_minor": 1
}
