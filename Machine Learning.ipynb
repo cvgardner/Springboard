{
 "cells": [
  {
   "cell_type": "code",
   "execution_count": 84,
   "metadata": {
    "collapsed": true
   },
   "outputs": [],
   "source": [
    "#Importing and uploading data\n",
    "import numpy as np\n",
    "import pandas as pd\n",
    "import matplotlib.pyplot as plt\n",
    "from scipy import stats\n",
    "\n",
    "bids = pd.DataFrame.from_csv('C:/Users/Christopher Gardner/Documents/Python Scripts/bids.csv')\n",
    "train = pd.DataFrame.from_csv('C:/Users/Christopher Gardner/Documents/Python Scripts/train.csv')\n",
    "\n",
    "#adding final time features created by subtracting bid time from the last time in the auction. \n",
    "test_df = pd.DataFrame.from_csv('C:/Users/Christopher Gardner/Documents/Python Scripts/final_times.csv')\n",
    "test_df.columns = ['f_time']\n",
    "bids = bids.merge(test_df, left_on='auction', right_index=True)\n",
    "test_df = pd.DataFrame.from_csv('C:/Users/Christopher Gardner/Documents/Python Scripts/short_times.csv')\n",
    "test_df.columns = ['short_time']\n",
    "bids = bids.merge(test_df, left_on='bidder_id', right_index=True)\n",
    "bids['diff_time'] = bids.f_time - bids.time\n",
    "#create proper merge\n",
    "groupfirst = bids.groupby(bids.bidder_id).nunique().sort_index()\n",
    "mergedsecond = groupfirst.merge(train.sort_index(), left_index=True, right_index=True)\n",
    "\n",
    "#now sort by desired values, update ranking and then split into bots and humans for plotting\n",
    "mergedsecond = mergedsecond.sort_values(by=['auction'])\n",
    "mergedsecond['ranking'] = np.arange(len(mergedsecond))\n",
    "mergedsecond['bids_per_auction'] = mergedsecond.time/mergedsecond.auction\n",
    "bots = mergedsecond[mergedsecond.outcome==1]\n",
    "humans = mergedsecond[mergedsecond.outcome==0]\n",
    "\n",
    "\n",
    "#mergefirst\n",
    "mergedfirst = bids.merge(train, left_on='bidder_id', right_index=True)\n",
    "groupedsecond = mergedfirst.groupby('bidder_id').nunique()"
   ]
  },
  {
   "cell_type": "code",
   "execution_count": 85,
   "metadata": {
    "collapsed": true
   },
   "outputs": [],
   "source": [
    "#Creating Train Test splits and pipeline\n",
    "from sklearn.model_selection import train_test_split\n",
    "from imblearn.over_sampling import RandomOverSampler\n",
    "from imblearn.under_sampling import RandomUnderSampler\n",
    "from imblearn.over_sampling import SMOTE\n",
    "from sklearn.metrics import classification_report, roc_auc_score, roc_curve\n",
    "\n",
    "#X and y \n",
    "X = mergedsecond.drop(['outcome', 'payment_account', 'address', 'diff_time'], axis=1)\n",
    "y = mergedsecond.outcome\n",
    "\n",
    "#train test split\n",
    "X_train, X_test, y_train, y_test = train_test_split(X, y, test_size=0.3, random_state=42)\n",
    "\n",
    "#oversampled set\n",
    "ros = RandomOverSampler(random_state=42)\n",
    "X_ros, y_ros = ros.fit_sample(X_train, y_train)\n",
    "#undersampled set\n",
    "rus = RandomUnderSampler(random_state=42)\n",
    "X_rus, y_rus = rus.fit_sample(X_train, y_train)\n",
    "\n",
    "\n",
    "smote = SMOTE(random_state = 42)\n",
    "X_smote, y_smote = smote.fit_sample(X_train, y_train)"
   ]
  },
  {
   "cell_type": "code",
   "execution_count": 86,
   "metadata": {},
   "outputs": [
    {
     "data": {
      "text/plain": [
       "(1388, 75)"
      ]
     },
     "execution_count": 86,
     "metadata": {},
     "output_type": "execute_result"
    }
   ],
   "source": [
    "len(X_train), len(y_train[y_train==1])"
   ]
  },
  {
   "cell_type": "code",
   "execution_count": 141,
   "metadata": {},
   "outputs": [],
   "source": [
    "def roc_report(model_title, model, x_test, y_test):\n",
    "    '''\n",
    "    fit and plot different sampling techniques of a model against each other\n",
    "    '''\n",
    "    print(\"Classification report and ROC curves for model type: \" + model_title)\n",
    "    model.fit(X_ros, y_ros)\n",
    "    y_pred = model.predict_proba(x_test)\n",
    "    L = [x[1] for x in y_pred]\n",
    "    report_ros = classification_report(y_test, model.predict(X_test))\n",
    "    auc_ros  = roc_auc_score(y_test, L)\n",
    "    fpr_ros = dict()\n",
    "    tpr_ros = dict()\n",
    "    roc_auc = dict()\n",
    "    for i in range(2):\n",
    "        fpr_ros[i], tpr_ros[i], _ = roc_curve(y_test, y_pred[:, i])\n",
    "    \n",
    "    \n",
    "    model.fit(X_rus, y_rus)\n",
    "    y_pred = model.predict_proba(x_test)\n",
    "    L = [x[1] for x in y_pred]\n",
    "    report_rus = classification_report(y_test, model.predict(X_test))\n",
    "    auc_rus  = roc_auc_score(y_test, L)\n",
    "    fpr_rus = dict()\n",
    "    tpr_rus = dict()\n",
    "    roc_auc = dict()\n",
    "    for i in range(2):\n",
    "        fpr_rus[i], tpr_rus[i], _ = roc_curve(y_test, y_pred[:, i])\n",
    "        \n",
    "        \n",
    "    model.fit(X_smote, y_smote)\n",
    "    y_pred = model.predict_proba(x_test)\n",
    "    L = [x[1] for x in y_pred]\n",
    "    report_smote = classification_report(y_test, model.predict(X_test))\n",
    "    auc_smote  = roc_auc_score(y_test, L)\n",
    "    fpr_smote = dict()\n",
    "    tpr_smote = dict()\n",
    "    roc_smote = dict()\n",
    "    for i in range(2):\n",
    "        fpr_smote[i], tpr_smote[i], _ = roc_curve(y_test, y_pred[:, i])\n",
    "        \n",
    "    f, (ax1, ax2, ax3) = plt.subplots(1,3, sharey=True)\n",
    "    ax1.plot(fpr_ros[1],tpr_ros[1])\n",
    "    ax1.set_title(\"Oversampled\")\n",
    "    ax2.plot(fpr_rus[1],tpr_rus[1])\n",
    "    ax2.set_title(\"Undersampled\")\n",
    "    ax3.plot(fpr_smote[1],tpr_smote[1])\n",
    "    ax3.set_title(\"SMOTE\")\n",
    "    plt.show()\n",
    "    \n",
    "    print(\"Oversampled AUC score: \"+ str(auc_ros))\n",
    "    print(report_ros)\n",
    "    print(\"Undersampled AUC score: \"+ str(auc_rus))\n",
    "    print(report_rus)\n",
    "    print(\"SMOTE AUC score: \"+ str(auc_smote))\n",
    "    print(report_smote)"
   ]
  },
  {
   "cell_type": "code",
   "execution_count": 142,
   "metadata": {},
   "outputs": [
    {
     "name": "stdout",
     "output_type": "stream",
     "text": [
      "Classification report and ROC curves for model type: Logistic Regression\n"
     ]
    },
    {
     "data": {
      "image/png": "[encoded data removed]",
      "text/plain": [
       "<matplotlib.figure.Figure at 0x25e0daafda0>"
      ]
     },
     "metadata": {},
     "output_type": "display_data"
    },
    {
     "name": "stdout",
     "output_type": "stream",
     "text": [
      "Oversampled AUC score: 0.85041498994\n",
      "             precision    recall  f1-score   support\n",
      "\n",
      "        0.0       0.99      0.77      0.87       568\n",
      "        1.0       0.16      0.86      0.27        28\n",
      "\n",
      "avg / total       0.95      0.78      0.84       596\n",
      "\n",
      "Undersampled AUC score: 0.878961267606\n",
      "             precision    recall  f1-score   support\n",
      "\n",
      "        0.0       0.99      0.86      0.92       568\n",
      "        1.0       0.21      0.79      0.34        28\n",
      "\n",
      "avg / total       0.95      0.85      0.89       596\n",
      "\n",
      "SMOTE AUC score: 0.836141851107\n",
      "             precision    recall  f1-score   support\n",
      "\n",
      "        0.0       0.99      0.78      0.87       568\n",
      "        1.0       0.15      0.82      0.26        28\n",
      "\n",
      "avg / total       0.95      0.78      0.84       596\n",
      "\n"
     ]
    }
   ],
   "source": [
    "from sklearn.linear_model import LogisticRegression\n",
    "logreg = LogisticRegression()\n",
    "roc_report(\"Logistic Regression\", logreg, X_test, y_test)\n"
   ]
  },
  {
   "cell_type": "code",
   "execution_count": 143,
   "metadata": {},
   "outputs": [
    {
     "name": "stdout",
     "output_type": "stream",
     "text": [
      "Classification report and ROC curves for model type: Logistic Regression post gridsearch\n"
     ]
    },
    {
     "data": {
      "image/png": "[encoded data removed]",
      "text/plain": [
       "<matplotlib.figure.Figure at 0x25dacb16198>"
      ]
     },
     "metadata": {},
     "output_type": "display_data"
    },
    {
     "name": "stdout",
     "output_type": "stream",
     "text": [
      "Oversampled AUC score: 0.848214285714\n",
      "             precision    recall  f1-score   support\n",
      "\n",
      "        0.0       0.99      0.77      0.87       568\n",
      "        1.0       0.16      0.86      0.27        28\n",
      "\n",
      "avg / total       0.95      0.78      0.84       596\n",
      "\n",
      "Undersampled AUC score: 0.880030181087\n",
      "             precision    recall  f1-score   support\n",
      "\n",
      "        0.0       0.99      0.85      0.92       568\n",
      "        1.0       0.22      0.86      0.35        28\n",
      "\n",
      "avg / total       0.96      0.85      0.89       596\n",
      "\n",
      "SMOTE AUC score: 0.835261569416\n",
      "             precision    recall  f1-score   support\n",
      "\n",
      "        0.0       0.99      0.78      0.87       568\n",
      "        1.0       0.15      0.82      0.26        28\n",
      "\n",
      "avg / total       0.95      0.78      0.84       596\n",
      "\n"
     ]
    }
   ],
   "source": [
    "from sklearn.model_selection import GridSearchCV\n",
    "param_grid = {'C': [0.001, 0.01, 0.1, 1, 10, 100, 1000], 'intercept_scaling': [0.001, 0.01, 0.1, 1 , 10] }\n",
    "log_cv = GridSearchCV(logreg, param_grid)\n",
    "roc_report(\"Logistic Regression post gridsearch\", log_cv, X_test, y_test)"
   ]
  },
  {
   "cell_type": "code",
   "execution_count": 146,
   "metadata": {},
   "outputs": [
    {
     "name": "stdout",
     "output_type": "stream",
     "text": [
      "Classification report and ROC curves for model type: Random Forest\n"
     ]
    },
    {
     "data": {
      "image/png": "[encoded data removed]",
      "text/plain": [
       "<matplotlib.figure.Figure at 0x25db40a69e8>"
      ]
     },
     "metadata": {},
     "output_type": "display_data"
    },
    {
     "name": "stdout",
     "output_type": "stream",
     "text": [
      "Oversampled AUC score: 0.902225855131\n",
      "             precision    recall  f1-score   support\n",
      "\n",
      "        0.0       1.00      0.78      0.87       568\n",
      "        1.0       0.17      0.93      0.29        28\n",
      "\n",
      "avg / total       0.96      0.79      0.85       596\n",
      "\n",
      "Undersampled AUC score: 0.913135060362\n",
      "             precision    recall  f1-score   support\n",
      "\n",
      "        0.0       0.99      0.81      0.89       568\n",
      "        1.0       0.19      0.89      0.31        28\n",
      "\n",
      "avg / total       0.96      0.81      0.86       596\n",
      "\n",
      "SMOTE AUC score: 0.913229376258\n",
      "             precision    recall  f1-score   support\n",
      "\n",
      "        0.0       0.99      0.80      0.88       568\n",
      "        1.0       0.18      0.89      0.30        28\n",
      "\n",
      "avg / total       0.96      0.80      0.86       596\n",
      "\n"
     ]
    }
   ],
   "source": [
    "from sklearn.ensemble import RandomForestClassifier\n",
    "forest = RandomForestClassifier(n_estimators=10, max_depth=2, random_state=42)\n",
    "roc_report(\"Random Forest\", forest, X_test, y_test)"
   ]
  },
  {
   "cell_type": "code",
   "execution_count": 145,
   "metadata": {},
   "outputs": [
    {
     "name": "stdout",
     "output_type": "stream",
     "text": [
      "Classification report and ROC curves for model type: Random Forest post gridsearch\n"
     ]
    },
    {
     "data": {
      "image/png": "[encoded data removed]",
      "text/plain": [
       "<matplotlib.figure.Figure at 0x25de30c5a58>"
      ]
     },
     "metadata": {},
     "output_type": "display_data"
    },
    {
     "name": "stdout",
     "output_type": "stream",
     "text": [
      "Oversampled AUC score: 0.902225855131\n",
      "             precision    recall  f1-score   support\n",
      "\n",
      "        0.0       1.00      0.78      0.87       568\n",
      "        1.0       0.17      0.93      0.29        28\n",
      "\n",
      "avg / total       0.96      0.79      0.85       596\n",
      "\n",
      "Undersampled AUC score: 0.895089285714\n",
      "             precision    recall  f1-score   support\n",
      "\n",
      "        0.0       1.00      0.74      0.85       568\n",
      "        1.0       0.16      0.96      0.27        28\n",
      "\n",
      "avg / total       0.96      0.76      0.83       596\n",
      "\n",
      "SMOTE AUC score: 0.913229376258\n",
      "             precision    recall  f1-score   support\n",
      "\n",
      "        0.0       0.99      0.80      0.88       568\n",
      "        1.0       0.18      0.89      0.30        28\n",
      "\n",
      "avg / total       0.96      0.80      0.86       596\n",
      "\n"
     ]
    }
   ],
   "source": [
    "param_grid = {'n_estimators': [1,2,3,4,5,6,7,8,9,10]}#, 'max_depth': [1,2,3,4,5] }\n",
    "cv_forest = GridSearchCV(forest, param_grid)\n",
    "roc_report(\"Random Forest post gridsearch\", cv_forest, X_test, y_test)"
   ]
  },
  {
   "cell_type": "code",
   "execution_count": 147,
   "metadata": {},
   "outputs": [
    {
     "name": "stdout",
     "output_type": "stream",
     "text": [
      "Classification report and ROC curves for model type: Support Vectors\n"
     ]
    },
    {
     "data": {
      "image/png": "[encoded data removed]",
      "text/plain": [
       "<matplotlib.figure.Figure at 0x25e0dc94dd8>"
      ]
     },
     "metadata": {},
     "output_type": "display_data"
    },
    {
     "name": "stdout",
     "output_type": "stream",
     "text": [
      "Oversampled AUC score: 0.770089285714\n",
      "             precision    recall  f1-score   support\n",
      "\n",
      "        0.0       0.95      0.98      0.97       568\n",
      "        1.0       0.00      0.00      0.00        28\n",
      "\n",
      "avg / total       0.91      0.94      0.92       596\n",
      "\n",
      "Undersampled AUC score: 0.470762072435\n",
      "             precision    recall  f1-score   support\n",
      "\n",
      "        0.0       0.99      0.17      0.29       568\n",
      "        1.0       0.05      0.96      0.10        28\n",
      "\n",
      "avg / total       0.95      0.21      0.28       596\n",
      "\n",
      "SMOTE AUC score: 0.772447183099\n",
      "             precision    recall  f1-score   support\n",
      "\n",
      "        0.0       1.00      0.42      0.59       568\n",
      "        1.0       0.08      0.96      0.14        28\n",
      "\n",
      "avg / total       0.95      0.45      0.57       596\n",
      "\n"
     ]
    }
   ],
   "source": [
    "from sklearn.svm import SVC\n",
    "svc = SVC(probability=True)\n",
    "roc_report(\"Support Vectors\", svc, X_test, y_test)"
   ]
  },
  {
   "cell_type": "code",
   "execution_count": 155,
   "metadata": {},
   "outputs": [
    {
     "name": "stdout",
     "output_type": "stream",
     "text": [
      "Classification report and ROC curves for model type: Support Vectors post Gridsearch\n"
     ]
    },
    {
     "data": {
      "image/png": "[encoded data removed]",
      "text/plain": [
       "<matplotlib.figure.Figure at 0x25dd9785710>"
      ]
     },
     "metadata": {},
     "output_type": "display_data"
    },
    {
     "name": "stdout",
     "output_type": "stream",
     "text": [
      "Oversampled AUC score: 0.775245221328\n",
      "             precision    recall  f1-score   support\n",
      "\n",
      "        0.0       0.95      0.98      0.97       568\n",
      "        1.0       0.00      0.00      0.00        28\n",
      "\n",
      "avg / total       0.91      0.93      0.92       596\n",
      "\n",
      "Undersampled AUC score: 0.659299547284\n",
      "             precision    recall  f1-score   support\n",
      "\n",
      "        0.0       0.99      0.18      0.31       568\n",
      "        1.0       0.05      0.96      0.10        28\n",
      "\n",
      "avg / total       0.95      0.22      0.30       596\n",
      "\n",
      "SMOTE AUC score: 0.749622736419\n",
      "             precision    recall  f1-score   support\n",
      "\n",
      "        0.0       1.00      0.42      0.59       568\n",
      "        1.0       0.08      0.96      0.14        28\n",
      "\n",
      "avg / total       0.95      0.44      0.57       596\n",
      "\n"
     ]
    }
   ],
   "source": [
    "param_grid = {'C': [0.001, 0.01, 0.1, 1, 10]}#, 'degree': [1,2,3,4,5] }\n",
    "cv_svc= GridSearchCV(svc, param_grid)\n",
    "roc_report(\"Support Vectors post Gridsearch\", cv_svc, X_test, y_test)"
   ]
  },
  {
   "cell_type": "code",
   "execution_count": 165,
   "metadata": {},
   "outputs": [
    {
     "data": {
      "image/png": "[encoded data removed]",
      "text/plain": [
       "<matplotlib.figure.Figure at 0x25db9e99da0>"
      ]
     },
     "metadata": {},
     "output_type": "display_data"
    }
   ],
   "source": [
    "cv_svc.fit(X_rus, y_rus)\n",
    "y_pred = cv_svc.predict_proba(X_test)\n",
    "L = [x[1] for x in y_pred]\n",
    "report_rus = classification_report(y_test, cv_svc.predict(X_test))\n",
    "auc_rus  = roc_auc_score(y_test, L)\n",
    "fpr_rus = dict()\n",
    "tpr_rus = dict()\n",
    "roc_auc = dict()\n",
    "for i in range(2):\n",
    "    fpr_rus[i], tpr_rus[i], _ = roc_curve(y_test, y_pred[:, i])\n",
    "        \n",
    "plt.plot(fpr_rus[1],tpr_rus[1], color='C0')\n",
    "plt.title(\"ROC Curve for support vectors w/ Undersampling\")\n",
    "plt.show()"
   ]
  },
  {
   "cell_type": "code",
   "execution_count": 149,
   "metadata": {},
   "outputs": [
    {
     "name": "stdout",
     "output_type": "stream",
     "text": [
      "Classification report and ROC curves for model type: KNN Post Gridsearch\n"
     ]
    },
    {
     "data": {
      "image/png": "[encoded data removed]",
      "text/plain": [
       "<matplotlib.figure.Figure at 0x25db4f7d898>"
      ]
     },
     "metadata": {},
     "output_type": "display_data"
    },
    {
     "name": "stdout",
     "output_type": "stream",
     "text": [
      "Oversampled AUC score: 0.619969818913\n",
      "             precision    recall  f1-score   support\n",
      "\n",
      "        0.0       0.96      0.95      0.96       568\n",
      "        1.0       0.24      0.29      0.26        28\n",
      "\n",
      "avg / total       0.93      0.92      0.93       596\n",
      "\n",
      "Undersampled AUC score: 0.832180583501\n",
      "             precision    recall  f1-score   support\n",
      "\n",
      "        0.0       0.98      0.79      0.88       568\n",
      "        1.0       0.15      0.75      0.25        28\n",
      "\n",
      "avg / total       0.95      0.79      0.85       596\n",
      "\n",
      "SMOTE AUC score: 0.785399899396\n",
      "             precision    recall  f1-score   support\n",
      "\n",
      "        0.0       0.98      0.90      0.94       568\n",
      "        1.0       0.24      0.64      0.35        28\n",
      "\n",
      "avg / total       0.95      0.89      0.91       596\n",
      "\n"
     ]
    }
   ],
   "source": [
    "from sklearn.neighbors import KNeighborsClassifier\n",
    "knn = KNeighborsClassifier()\n",
    "param_grid = {'n_neighbors': [1,2,3,4,5,6,7,8,9,10] }\n",
    "cv_knn= GridSearchCV(knn, param_grid)\n",
    "roc_report(\"KNN Post Gridsearch\", cv_knn, X_test, y_test)"
   ]
  },
  {
   "cell_type": "code",
   "execution_count": null,
   "metadata": {
    "collapsed": true
   },
   "outputs": [],
   "source": []
  },
  {
   "cell_type": "code",
   "execution_count": null,
   "metadata": {
    "collapsed": true
   },
   "outputs": [],
   "source": []
  },
  {
   "cell_type": "code",
   "execution_count": null,
   "metadata": {
    "collapsed": true
   },
   "outputs": [],
   "source": []
  },
  {
   "cell_type": "code",
   "execution_count": null,
   "metadata": {
    "collapsed": true
   },
   "outputs": [],
   "source": []
  },
  {
   "cell_type": "code",
   "execution_count": null,
   "metadata": {
    "collapsed": true
   },
   "outputs": [],
   "source": []
  },
  {
   "cell_type": "code",
   "execution_count": null,
   "metadata": {
    "collapsed": true
   },
   "outputs": [],
   "source": []
  }
 ],
 "metadata": {
  "kernelspec": {
   "display_name": "Python 3",
   "language": "python",
   "name": "python3"
  },
  "language_info": {
   "codemirror_mode": {
    "name": "ipython",
    "version": 3
   },
   "file_extension": ".py",
   "mimetype": "text/x-python",
   "name": "python",
   "nbconvert_exporter": "python",
   "pygments_lexer": "ipython3",
   "version": "3.6.2"
  }
 },
 "nbformat": 4,
 "nbformat_minor": 2
}
