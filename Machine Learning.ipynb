{
 "cells": [
  {
   "cell_type": "code",
   "execution_count": 1,
   "metadata": {
    "collapsed": true
   },
   "outputs": [],
   "source": [
    "#Importing and uploading data\n",
    "import numpy as np\n",
    "import pandas as pd\n",
    "import matplotlib.pyplot as plt\n",
    "from scipy import stats\n",
    "\n",
    "bids = pd.DataFrame.from_csv('C:/Users/Christopher Gardner/Documents/Python Scripts/bids.csv')\n",
    "train = pd.DataFrame.from_csv('C:/Users/Christopher Gardner/Documents/Python Scripts/train.csv')\n",
    "\n",
    "#adding final time features created by subtracting bid time from the last time in the auction. \n",
    "test_df = pd.DataFrame.from_csv('C:/Users/Christopher Gardner/Documents/Python Scripts/final_times.csv')\n",
    "test_df.columns = ['f_time']\n",
    "bids = bids.merge(test_df, left_on='auction', right_index=True)\n",
    "test_df = pd.DataFrame.from_csv('C:/Users/Christopher Gardner/Documents/Python Scripts/short_times.csv')\n",
    "test_df.columns = ['short_time']\n",
    "bids = bids.merge(test_df, left_on='bidder_id', right_index=True)\n",
    "bids['diff_time'] = bids.f_time - bids.time\n",
    "#create proper merge\n",
    "groupfirst = bids.groupby(bids.bidder_id).nunique().sort_index()\n",
    "mergedsecond = groupfirst.merge(train.sort_index(), left_index=True, right_index=True)\n",
    "\n",
    "#now sort by desired values, update ranking and then split into bots and humans for plotting\n",
    "mergedsecond = mergedsecond.sort_values(by=['auction'])\n",
    "mergedsecond['ranking'] = np.arange(len(mergedsecond))\n",
    "mergedsecond['bids_per_auction'] = mergedsecond.time/mergedsecond.auction\n",
    "bots = mergedsecond[mergedsecond.outcome==1]\n",
    "humans = mergedsecond[mergedsecond.outcome==0]\n",
    "\n",
    "\n",
    "#mergefirst\n",
    "mergedfirst = bids.merge(train, left_on='bidder_id', right_index=True)\n",
    "groupedsecond = mergedfirst.groupby('bidder_id').nunique()"
   ]
  },
  {
   "cell_type": "code",
   "execution_count": 92,
   "metadata": {},
   "outputs": [],
   "source": [
    "#Creating Train Test splits and pipeline\n",
    "from sklearn.model_selection import train_test_split\n",
    "\n",
    "#X and y \n",
    "X = mergedsecond.drop(['outcome', 'payment_account', 'address', 'short_time', 'diff_time'], axis=1)\n",
    "y = mergedsecond.outcome\n",
    "\n",
    "#train test split\n",
    "X_train, X_test, y_train, y_test = train_test_split(X, y, test_size=0.3, random_state=42)"
   ]
  },
  {
   "cell_type": "code",
   "execution_count": 45,
   "metadata": {
    "scrolled": true
   },
   "outputs": [
    {
     "data": {
      "text/html": [
       "<div>\n",
       "<style>\n",
       "    .dataframe thead tr:only-child th {\n",
       "        text-align: right;\n",
       "    }\n",
       "\n",
       "    .dataframe thead th {\n",
       "        text-align: left;\n",
       "    }\n",
       "\n",
       "    .dataframe tbody tr th {\n",
       "        vertical-align: top;\n",
       "    }\n",
       "</style>\n",
       "<table border=\"1\" class=\"dataframe\">\n",
       "  <thead>\n",
       "    <tr style=\"text-align: right;\">\n",
       "      <th></th>\n",
       "      <th>bidder_id</th>\n",
       "      <th>auction</th>\n",
       "      <th>merchandise</th>\n",
       "      <th>device</th>\n",
       "      <th>time</th>\n",
       "      <th>country</th>\n",
       "      <th>ip</th>\n",
       "      <th>url</th>\n",
       "      <th>f_time</th>\n",
       "      <th>short_time</th>\n",
       "      <th>diff_time</th>\n",
       "      <th>ranking</th>\n",
       "      <th>bids_per_auction</th>\n",
       "    </tr>\n",
       "    <tr>\n",
       "      <th>bidder_id</th>\n",
       "      <th></th>\n",
       "      <th></th>\n",
       "      <th></th>\n",
       "      <th></th>\n",
       "      <th></th>\n",
       "      <th></th>\n",
       "      <th></th>\n",
       "      <th></th>\n",
       "      <th></th>\n",
       "      <th></th>\n",
       "      <th></th>\n",
       "      <th></th>\n",
       "      <th></th>\n",
       "    </tr>\n",
       "  </thead>\n",
       "  <tbody>\n",
       "    <tr>\n",
       "      <th>001068c415025a009fee375a12cff4fcnht8y</th>\n",
       "      <td>1</td>\n",
       "      <td>1</td>\n",
       "      <td>1</td>\n",
       "      <td>1</td>\n",
       "      <td>1</td>\n",
       "      <td>1</td>\n",
       "      <td>1</td>\n",
       "      <td>1</td>\n",
       "      <td>1</td>\n",
       "      <td>1</td>\n",
       "      <td>1</td>\n",
       "      <td>0</td>\n",
       "      <td>1.0</td>\n",
       "    </tr>\n",
       "    <tr>\n",
       "      <th>6394edfbd35aab54801518835e33ed50hcr5f</th>\n",
       "      <td>1</td>\n",
       "      <td>1</td>\n",
       "      <td>1</td>\n",
       "      <td>1</td>\n",
       "      <td>1</td>\n",
       "      <td>1</td>\n",
       "      <td>1</td>\n",
       "      <td>1</td>\n",
       "      <td>1</td>\n",
       "      <td>1</td>\n",
       "      <td>1</td>\n",
       "      <td>1</td>\n",
       "      <td>1.0</td>\n",
       "    </tr>\n",
       "    <tr>\n",
       "      <th>640f41f27c03aca0c45775eb918b666cnjsqv</th>\n",
       "      <td>1</td>\n",
       "      <td>1</td>\n",
       "      <td>1</td>\n",
       "      <td>1</td>\n",
       "      <td>1</td>\n",
       "      <td>1</td>\n",
       "      <td>1</td>\n",
       "      <td>1</td>\n",
       "      <td>1</td>\n",
       "      <td>1</td>\n",
       "      <td>1</td>\n",
       "      <td>2</td>\n",
       "      <td>1.0</td>\n",
       "    </tr>\n",
       "    <tr>\n",
       "      <th>64f6b099082e4fb2e8da7ba4ae9abdead2cej</th>\n",
       "      <td>1</td>\n",
       "      <td>1</td>\n",
       "      <td>1</td>\n",
       "      <td>2</td>\n",
       "      <td>2</td>\n",
       "      <td>1</td>\n",
       "      <td>2</td>\n",
       "      <td>1</td>\n",
       "      <td>1</td>\n",
       "      <td>1</td>\n",
       "      <td>2</td>\n",
       "      <td>3</td>\n",
       "      <td>2.0</td>\n",
       "    </tr>\n",
       "    <tr>\n",
       "      <th>6531bde8d4decd9708ff4407ef95e887a26yi</th>\n",
       "      <td>1</td>\n",
       "      <td>1</td>\n",
       "      <td>1</td>\n",
       "      <td>1</td>\n",
       "      <td>1</td>\n",
       "      <td>1</td>\n",
       "      <td>1</td>\n",
       "      <td>1</td>\n",
       "      <td>1</td>\n",
       "      <td>1</td>\n",
       "      <td>1</td>\n",
       "      <td>4</td>\n",
       "      <td>1.0</td>\n",
       "    </tr>\n",
       "  </tbody>\n",
       "</table>\n",
       "</div>"
      ],
      "text/plain": [
       "                                       bidder_id  auction  merchandise  \\\n",
       "bidder_id                                                                \n",
       "001068c415025a009fee375a12cff4fcnht8y          1        1            1   \n",
       "6394edfbd35aab54801518835e33ed50hcr5f          1        1            1   \n",
       "640f41f27c03aca0c45775eb918b666cnjsqv          1        1            1   \n",
       "64f6b099082e4fb2e8da7ba4ae9abdead2cej          1        1            1   \n",
       "6531bde8d4decd9708ff4407ef95e887a26yi          1        1            1   \n",
       "\n",
       "                                       device  time  country  ip  url  f_time  \\\n",
       "bidder_id                                                                       \n",
       "001068c415025a009fee375a12cff4fcnht8y       1     1        1   1    1       1   \n",
       "6394edfbd35aab54801518835e33ed50hcr5f       1     1        1   1    1       1   \n",
       "640f41f27c03aca0c45775eb918b666cnjsqv       1     1        1   1    1       1   \n",
       "64f6b099082e4fb2e8da7ba4ae9abdead2cej       2     2        1   2    1       1   \n",
       "6531bde8d4decd9708ff4407ef95e887a26yi       1     1        1   1    1       1   \n",
       "\n",
       "                                       short_time  diff_time  ranking  \\\n",
       "bidder_id                                                               \n",
       "001068c415025a009fee375a12cff4fcnht8y           1          1        0   \n",
       "6394edfbd35aab54801518835e33ed50hcr5f           1          1        1   \n",
       "640f41f27c03aca0c45775eb918b666cnjsqv           1          1        2   \n",
       "64f6b099082e4fb2e8da7ba4ae9abdead2cej           1          2        3   \n",
       "6531bde8d4decd9708ff4407ef95e887a26yi           1          1        4   \n",
       "\n",
       "                                       bids_per_auction  \n",
       "bidder_id                                                \n",
       "001068c415025a009fee375a12cff4fcnht8y               1.0  \n",
       "6394edfbd35aab54801518835e33ed50hcr5f               1.0  \n",
       "640f41f27c03aca0c45775eb918b666cnjsqv               1.0  \n",
       "64f6b099082e4fb2e8da7ba4ae9abdead2cej               2.0  \n",
       "6531bde8d4decd9708ff4407ef95e887a26yi               1.0  "
      ]
     },
     "execution_count": 45,
     "metadata": {},
     "output_type": "execute_result"
    }
   ],
   "source": [
    "X.head()"
   ]
  },
  {
   "cell_type": "code",
   "execution_count": 81,
   "metadata": {},
   "outputs": [
    {
     "data": {
      "text/plain": [
       "bidder_id\n",
       "001068c415025a009fee375a12cff4fcnht8y    0.0\n",
       "6394edfbd35aab54801518835e33ed50hcr5f    0.0\n",
       "640f41f27c03aca0c45775eb918b666cnjsqv    0.0\n",
       "64f6b099082e4fb2e8da7ba4ae9abdead2cej    0.0\n",
       "6531bde8d4decd9708ff4407ef95e887a26yi    0.0\n",
       "Name: outcome, dtype: float64"
      ]
     },
     "execution_count": 81,
     "metadata": {},
     "output_type": "execute_result"
    }
   ],
   "source": [
    "y.head()"
   ]
  },
  {
   "cell_type": "code",
   "execution_count": 93,
   "metadata": {},
   "outputs": [],
   "source": [
    "#Creating Pipeline\n",
    "from sklearn.pipeline import Pipeline\n",
    "from sklearn.linear_model import LogisticRegression\n",
    "from sklearn.metrics import roc_curve, f1_score, roc_auc_score, auc\n",
    "\n",
    "logreg = LogisticRegression()\n",
    "logreg.fit(X_train, y_train)\n",
    "y_pred = logreg.predict_proba(X_test)"
   ]
  },
  {
   "cell_type": "code",
   "execution_count": 87,
   "metadata": {},
   "outputs": [
    {
     "data": {
      "text/plain": [
       "array([[ 0.93749839,  0.06250161],\n",
       "       [ 0.93936983,  0.06063017],\n",
       "       [ 0.94682388,  0.05317612],\n",
       "       ..., \n",
       "       [ 0.94974471,  0.05025529],\n",
       "       [ 0.39360956,  0.60639044],\n",
       "       [ 0.9302469 ,  0.0697531 ]])"
      ]
     },
     "execution_count": 87,
     "metadata": {},
     "output_type": "execute_result"
    }
   ],
   "source": [
    "y_pred"
   ]
  },
  {
   "cell_type": "code",
   "execution_count": 94,
   "metadata": {},
   "outputs": [],
   "source": [
    "l = [x[1] for x in y_pred]"
   ]
  },
  {
   "cell_type": "code",
   "execution_count": 97,
   "metadata": {},
   "outputs": [
    {
     "data": {
      "text/plain": [
       "0.0"
      ]
     },
     "execution_count": 97,
     "metadata": {},
     "output_type": "execute_result"
    }
   ],
   "source": [
    "f1_score(y_test, logreg.predict(X_test))"
   ]
  },
  {
   "cell_type": "code",
   "execution_count": 89,
   "metadata": {},
   "outputs": [],
   "source": [
    "fpr, tpr, _ = roc_curve(y_test, l)"
   ]
  },
  {
   "cell_type": "code",
   "execution_count": 98,
   "metadata": {},
   "outputs": [
    {
     "data": {
      "text/plain": [
       "0.80992203219315895"
      ]
     },
     "execution_count": 98,
     "metadata": {},
     "output_type": "execute_result"
    }
   ],
   "source": [
    "roc_auc_score(y_test, l)"
   ]
  },
  {
   "cell_type": "code",
   "execution_count": 95,
   "metadata": {},
   "outputs": [],
   "source": [
    "fpr = dict()\n",
    "tpr = dict()\n",
    "roc_auc = dict()\n",
    "for i in range(2):\n",
    "    fpr[i], tpr[i], _ = roc_curve(y_test, y_pred[:, i])"
   ]
  },
  {
   "cell_type": "code",
   "execution_count": 83,
   "metadata": {},
   "outputs": [
    {
     "ename": "IndexError",
     "evalue": "too many indices for array",
     "output_type": "error",
     "traceback": [
      "\u001b[1;31m---------------------------------------------------------------------------\u001b[0m",
      "\u001b[1;31mIndexError\u001b[0m                                Traceback (most recent call last)",
      "\u001b[1;32m<ipython-input-83-32cb02d7a99f>\u001b[0m in \u001b[0;36m<module>\u001b[1;34m()\u001b[0m\n\u001b[0;32m      3\u001b[0m \u001b[0my_true\u001b[0m \u001b[1;33m=\u001b[0m \u001b[0my_test\u001b[0m \u001b[1;31m# ground truth labels\u001b[0m\u001b[1;33m\u001b[0m\u001b[0m\n\u001b[0;32m      4\u001b[0m \u001b[0my_probas\u001b[0m \u001b[1;33m=\u001b[0m \u001b[0ml\u001b[0m\u001b[1;31m# predicted probabilities generated by sklearn classifier\u001b[0m\u001b[1;33m\u001b[0m\u001b[0m\n\u001b[1;32m----> 5\u001b[1;33m \u001b[0mskplt\u001b[0m\u001b[1;33m.\u001b[0m\u001b[0mmetrics\u001b[0m\u001b[1;33m.\u001b[0m\u001b[0mplot_roc_curve\u001b[0m\u001b[1;33m(\u001b[0m\u001b[0my_true\u001b[0m\u001b[1;33m,\u001b[0m \u001b[0my_probas\u001b[0m\u001b[1;33m)\u001b[0m\u001b[1;33m\u001b[0m\u001b[0m\n\u001b[0m\u001b[0;32m      6\u001b[0m \u001b[0mplt\u001b[0m\u001b[1;33m.\u001b[0m\u001b[0mshow\u001b[0m\u001b[1;33m(\u001b[0m\u001b[1;33m)\u001b[0m\u001b[1;33m\u001b[0m\u001b[0m\n",
      "\u001b[1;32mD:\\Anaconda3\\lib\\site-packages\\scikitplot\\metrics.py\u001b[0m in \u001b[0;36mplot_roc_curve\u001b[1;34m(y_true, y_probas, title, curves, ax, figsize, cmap, title_fontsize, text_fontsize)\u001b[0m\n\u001b[0;32m    247\u001b[0m     \u001b[0mroc_auc\u001b[0m \u001b[1;33m=\u001b[0m \u001b[0mdict\u001b[0m\u001b[1;33m(\u001b[0m\u001b[1;33m)\u001b[0m\u001b[1;33m\u001b[0m\u001b[0m\n\u001b[0;32m    248\u001b[0m     \u001b[1;32mfor\u001b[0m \u001b[0mi\u001b[0m \u001b[1;32min\u001b[0m \u001b[0mrange\u001b[0m\u001b[1;33m(\u001b[0m\u001b[0mlen\u001b[0m\u001b[1;33m(\u001b[0m\u001b[0mclasses\u001b[0m\u001b[1;33m)\u001b[0m\u001b[1;33m)\u001b[0m\u001b[1;33m:\u001b[0m\u001b[1;33m\u001b[0m\u001b[0m\n\u001b[1;32m--> 249\u001b[1;33m         fpr[i], tpr[i], _ = roc_curve(y_true, probas[:, i],\n\u001b[0m\u001b[0;32m    250\u001b[0m                                       pos_label=classes[i])\n\u001b[0;32m    251\u001b[0m         \u001b[0mroc_auc\u001b[0m\u001b[1;33m[\u001b[0m\u001b[0mi\u001b[0m\u001b[1;33m]\u001b[0m \u001b[1;33m=\u001b[0m \u001b[0mauc\u001b[0m\u001b[1;33m(\u001b[0m\u001b[0mfpr\u001b[0m\u001b[1;33m[\u001b[0m\u001b[0mi\u001b[0m\u001b[1;33m]\u001b[0m\u001b[1;33m,\u001b[0m \u001b[0mtpr\u001b[0m\u001b[1;33m[\u001b[0m\u001b[0mi\u001b[0m\u001b[1;33m]\u001b[0m\u001b[1;33m)\u001b[0m\u001b[1;33m\u001b[0m\u001b[0m\n",
      "\u001b[1;31mIndexError\u001b[0m: too many indices for array"
     ]
    }
   ],
   "source": [
    "import scikitplot as skplt\n",
    "\n",
    "y_true = y_test # ground truth labels\n",
    "y_probas = l# predicted probabilities generated by sklearn classifier\n",
    "skplt.metrics.plot_roc_curve(y_true, y_probas)\n",
    "plt.show()"
   ]
  },
  {
   "cell_type": "code",
   "execution_count": 96,
   "metadata": {},
   "outputs": [
    {
     "data": {
      "image/png": "[encoded data removed]",
      "text/plain": [
       "<matplotlib.figure.Figure at 0x2eaf8a5b3c8>"
      ]
     },
     "metadata": {},
     "output_type": "display_data"
    }
   ],
   "source": [
    "plt.plot(fpr[1],tpr[1])\n",
    "plt.show()"
   ]
  },
  {
   "cell_type": "code",
   "execution_count": 62,
   "metadata": {},
   "outputs": [
    {
     "data": {
      "text/plain": [
       "array([ 0.        ,  0.00176056,  0.00528169,  0.00528169,  0.01056338,\n",
       "        0.01056338,  0.02816901,  0.02816901,  0.21478873,  0.21478873,\n",
       "        0.32042254,  0.32042254,  0.40140845,  0.40140845,  0.43485915,\n",
       "        0.43485915,  0.55985915,  0.55985915,  0.6056338 ,  0.6056338 ,\n",
       "        0.63028169,  0.63028169,  0.63908451,  0.63908451,  0.64788732,\n",
       "        0.64788732,  0.70422535,  0.70422535,  0.74647887,  0.74647887,\n",
       "        0.75      ,  0.75      ,  0.76056338,  0.76056338,  0.77816901,\n",
       "        0.77816901,  0.78521127,  0.78521127,  0.79401408,  0.79401408,\n",
       "        0.79577465,  0.79577465,  0.85211268,  0.85211268,  0.86619718,\n",
       "        0.86619718,  0.97359155,  0.97359155,  0.97535211,  0.97535211,\n",
       "        0.98591549,  0.98591549,  1.        ])"
      ]
     },
     "execution_count": 62,
     "metadata": {},
     "output_type": "execute_result"
    }
   ],
   "source": [
    "fpr "
   ]
  },
  {
   "cell_type": "code",
   "execution_count": 63,
   "metadata": {},
   "outputs": [
    {
     "data": {
      "text/plain": [
       "array([ 0.        ,  0.        ,  0.        ,  0.03571429,  0.03571429,\n",
       "        0.07142857,  0.07142857,  0.10714286,  0.10714286,  0.14285714,\n",
       "        0.14285714,  0.17857143,  0.17857143,  0.21428571,  0.21428571,\n",
       "        0.25      ,  0.25      ,  0.28571429,  0.28571429,  0.32142857,\n",
       "        0.32142857,  0.35714286,  0.35714286,  0.39285714,  0.39285714,\n",
       "        0.5       ,  0.5       ,  0.53571429,  0.53571429,  0.57142857,\n",
       "        0.57142857,  0.60714286,  0.60714286,  0.64285714,  0.64285714,\n",
       "        0.67857143,  0.67857143,  0.71428571,  0.71428571,  0.75      ,\n",
       "        0.75      ,  0.78571429,  0.78571429,  0.85714286,  0.85714286,\n",
       "        0.89285714,  0.89285714,  0.92857143,  0.92857143,  0.96428571,\n",
       "        0.96428571,  1.        ,  1.        ])"
      ]
     },
     "execution_count": 63,
     "metadata": {},
     "output_type": "execute_result"
    }
   ],
   "source": [
    "tpr"
   ]
  },
  {
   "cell_type": "code",
   "execution_count": 43,
   "metadata": {},
   "outputs": [
    {
     "data": {
      "text/plain": [
       "0.94596541786743515"
      ]
     },
     "execution_count": 43,
     "metadata": {},
     "output_type": "execute_result"
    }
   ],
   "source": [
    "logreg.score(X_train,y_train)"
   ]
  },
  {
   "cell_type": "code",
   "execution_count": 44,
   "metadata": {},
   "outputs": [
    {
     "data": {
      "text/plain": [
       "0.95134228187919467"
      ]
     },
     "execution_count": 44,
     "metadata": {},
     "output_type": "execute_result"
    }
   ],
   "source": [
    "logreg.score(X_test, y_test)"
   ]
  },
  {
   "cell_type": "code",
   "execution_count": null,
   "metadata": {
    "collapsed": true
   },
   "outputs": [],
   "source": [
    "#looks like this model is simply predicting no bots. "
   ]
  }
 ],
 "metadata": {
  "kernelspec": {
   "display_name": "Python 3",
   "language": "python",
   "name": "python3"
  },
  "language_info": {
   "codemirror_mode": {
    "name": "ipython",
    "version": 3
   },
   "file_extension": ".py",
   "mimetype": "text/x-python",
   "name": "python",
   "nbconvert_exporter": "python",
   "pygments_lexer": "ipython3",
   "version": "3.6.2"
  }
 },
 "nbformat": 4,
 "nbformat_minor": 2
}
