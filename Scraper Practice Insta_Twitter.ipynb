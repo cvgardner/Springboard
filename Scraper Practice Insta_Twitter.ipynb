{
 "cells": [
  {
   "cell_type": "code",
   "execution_count": 1,
   "metadata": {
    "collapsed": true
   },
   "outputs": [],
   "source": [
    "import twitter\n",
    "#import python-instagram"
   ]
  },
  {
   "cell_type": "code",
   "execution_count": 2,
   "metadata": {
    "collapsed": true
   },
   "outputs": [],
   "source": [
    "twitter_api = twitter.Api(consumer_key = 'YGmn0ooqwTQO5WjHniXLu78Ud',\n",
    "                      consumer_secret='vljpSvvPZ7yx8k5H6rJLdrYP73G0ejlhtjQviDlJHkZ2MN6ljZ',\n",
    "                      access_token_key='863233291943419904-NvE6XjwI0n7e6hBGFpM3kp3FfHrMnrD',\n",
    "                      access_token_secret='i1HLbpaLNqxmqwHgI3DozVUsyLkyyln1E8Scx9tyybIWF')"
   ]
  },
  {
   "cell_type": "code",
   "execution_count": 4,
   "metadata": {},
   "outputs": [
    {
     "name": "stdout",
     "output_type": "stream",
     "text": [
      "{\"created_at\": \"Sat May 13 03:23:49 +0000 2017\", \"default_profile\": true, \"description\": \"Cardfight!! Vanguard Content Creator, trying to help players learn or get better at the game.\", \"favourites_count\": 214, \"followers_count\": 22, \"friends_count\": 66, \"id\": 863233291943419904, \"lang\": \"en\", \"name\": \"Vanguarderbilt\", \"profile_background_color\": \"F5F8FA\", \"profile_image_url\": \"http://pbs.twimg.com/profile_images/863234243467460608/heQt-cAP_normal.jpg\", \"profile_link_color\": \"1DA1F2\", \"profile_sidebar_fill_color\": \"DDEEF6\", \"profile_text_color\": \"333333\", \"screen_name\": \"vanguarderbilt\", \"status\": {\"created_at\": \"Wed Sep 27 18:58:13 +0000 2017\", \"favorite_count\": 2, \"id\": 913115579464040448, \"id_str\": \"913115579464040448\", \"in_reply_to_screen_name\": \"DifferentFight\", \"in_reply_to_user_id\": 31671425, \"lang\": \"en\", \"source\": \"<a href=\\\"http://twitter.com/download/iphone\\\" rel=\\\"nofollow\\\">Twitter for iPhone</a>\", \"text\": \"@DifferentFight Great Job with Cardfighter's Spotlight. I'm glad you found a way to get rid of the parts of Comp. Wrap. you didn't like :)\"}, \"statuses_count\": 133, \"url\": \"https://t.co/7hGNsZQj5U\"}\n"
     ]
    }
   ],
   "source": [
    "print (twitter_api.VerifyCredentials())"
   ]
  },
  {
   "cell_type": "code",
   "execution_count": null,
   "metadata": {},
   "outputs": [],
   "source": [
    "statuses = twitter_api.GetUserTimeline(screen_name='Vanguarderbilt')\n",
    "print([s.text for s in statuses])"
   ]
  },
  {
   "cell_type": "code",
   "execution_count": 9,
   "metadata": {},
   "outputs": [
    {
     "name": "stdout",
     "output_type": "stream",
     "text": [
      "872355304071204864\n"
     ]
    }
   ],
   "source": [
    "sample = twitter_api.GetLists(screen_name='Vanguarderbilt')\n",
    "print(sample[0])"
   ]
  },
  {
   "cell_type": "code",
   "execution_count": 104,
   "metadata": {},
   "outputs": [
    {
     "ename": "TypeError",
     "evalue": "object of type 'generator' has no len()",
     "output_type": "error",
     "traceback": [
      "\u001b[1;31m---------------------------------------------------------------------------\u001b[0m",
      "\u001b[1;31mTypeError\u001b[0m                                 Traceback (most recent call last)",
      "\u001b[1;32m<ipython-input-104-1e8e821a8567>\u001b[0m in \u001b[0;36m<module>\u001b[1;34m()\u001b[0m\n\u001b[1;32m----> 1\u001b[1;33m \u001b[0mlen\u001b[0m\u001b[1;33m(\u001b[0m\u001b[0msample\u001b[0m\u001b[1;33m)\u001b[0m\u001b[1;33m\u001b[0m\u001b[0m\n\u001b[0m",
      "\u001b[1;31mTypeError\u001b[0m: object of type 'generator' has no len()"
     ]
    }
   ],
   "source": [
    "len(sample)"
   ]
  },
  {
   "cell_type": "code",
   "execution_count": 105,
   "metadata": {},
   "outputs": [
    {
     "data": {
      "text/plain": [
       "{'contributors': None,\n",
       " 'coordinates': None,\n",
       " 'created_at': 'Sun Sep 24 17:56:10 +0000 2017',\n",
       " 'entities': {'hashtags': [], 'symbols': [], 'urls': [], 'user_mentions': []},\n",
       " 'favorite_count': 0,\n",
       " 'favorited': False,\n",
       " 'filter_level': 'low',\n",
       " 'geo': None,\n",
       " 'id': 912012800456667136,\n",
       " 'id_str': '912012800456667136',\n",
       " 'in_reply_to_screen_name': None,\n",
       " 'in_reply_to_status_id': None,\n",
       " 'in_reply_to_status_id_str': None,\n",
       " 'in_reply_to_user_id': None,\n",
       " 'in_reply_to_user_id_str': None,\n",
       " 'is_quote_status': False,\n",
       " 'lang': 'ko',\n",
       " 'place': None,\n",
       " 'quote_count': 0,\n",
       " 'reply_count': 0,\n",
       " 'retweet_count': 0,\n",
       " 'retweeted': False,\n",
       " 'source': '<a href=\"http://d.hatena.ne.jp/ABS104a/\" rel=\"nofollow\">Biyon Lite</a>',\n",
       " 'text': '근데 진짜 누가 나랑 썸타줄사람',\n",
       " 'timestamp_ms': '1506275770664',\n",
       " 'truncated': False,\n",
       " 'user': {'contributors_enabled': False,\n",
       "  'created_at': 'Sat Mar 23 08:48:47 +0000 2013',\n",
       "  'default_profile': False,\n",
       "  'default_profile_image': False,\n",
       "  'description': '성인  / 1차 위주  / 코오.쿠리. 꾜오.꾜코.코꾜.자요. / 팔로확인 느려요 DM주세요',\n",
       "  'favourites_count': 6640,\n",
       "  'follow_request_sent': None,\n",
       "  'followers_count': 384,\n",
       "  'following': None,\n",
       "  'friends_count': 439,\n",
       "  'geo_enabled': False,\n",
       "  'id': 1290892375,\n",
       "  'id_str': '1290892375',\n",
       "  'is_translator': False,\n",
       "  'lang': 'ko',\n",
       "  'listed_count': 2,\n",
       "  'location': '프사 람님 / 헤더 슈카님♥',\n",
       "  'name': '메케 코꾜오코오',\n",
       "  'notifications': None,\n",
       "  'profile_background_color': 'C0DEED',\n",
       "  'profile_background_image_url': 'http://abs.twimg.com/images/themes/theme1/bg.png',\n",
       "  'profile_background_image_url_https': 'https://abs.twimg.com/images/themes/theme1/bg.png',\n",
       "  'profile_background_tile': False,\n",
       "  'profile_banner_url': 'https://pbs.twimg.com/profile_banners/1290892375/1480749503',\n",
       "  'profile_image_url': 'http://pbs.twimg.com/profile_images/903599140340285440/5RDT65F8_normal.jpg',\n",
       "  'profile_image_url_https': 'https://pbs.twimg.com/profile_images/903599140340285440/5RDT65F8_normal.jpg',\n",
       "  'profile_link_color': 'F5ABB5',\n",
       "  'profile_sidebar_border_color': 'C0DEED',\n",
       "  'profile_sidebar_fill_color': 'DDEEF6',\n",
       "  'profile_text_color': '333333',\n",
       "  'profile_use_background_image': True,\n",
       "  'protected': False,\n",
       "  'screen_name': 'co_o_c',\n",
       "  'statuses_count': 645,\n",
       "  'time_zone': 'Seoul',\n",
       "  'translator_type': 'none',\n",
       "  'url': 'https://docs.google.com/forms/d/1M1oev07o2cvvU2IJ-anOpZ18qN1ZQ9wnRS0tkG1XtTI/edit',\n",
       "  'utc_offset': 32400,\n",
       "  'verified': False}}"
      ]
     },
     "execution_count": 105,
     "metadata": {},
     "output_type": "execute_result"
    }
   ],
   "source": [
    "next(sample)"
   ]
  },
  {
   "cell_type": "code",
   "execution_count": 91,
   "metadata": {},
   "outputs": [
    {
     "name": "stdout",
     "output_type": "stream",
     "text": [
      "Help on InstagramAPI in module instagram.client object:\n",
      "\n",
      "class InstagramAPI(instagram.oauth2.OAuth2API)\n",
      " |  Method resolution order:\n",
      " |      InstagramAPI\n",
      " |      instagram.oauth2.OAuth2API\n",
      " |      builtins.object\n",
      " |  \n",
      " |  Methods defined here:\n",
      " |  \n",
      " |  __init__(self, *args, **kwargs)\n",
      " |      Initialize self.  See help(type(self)) for accurate signature.\n",
      " |  \n",
      " |  approve_user_request = _inner(self, *args, **kwargs)\n",
      " |  \n",
      " |  block_user = _inner(self, *args, **kwargs)\n",
      " |  \n",
      " |  change_user_relationship = _call(api, *args, **kwargs)\n",
      " |  \n",
      " |  create_media_comment = _call(api, *args, **kwargs)\n",
      " |  \n",
      " |  create_subscription = _call(api, *args, **kwargs)\n",
      " |  \n",
      " |  delete_comment = _call(api, *args, **kwargs)\n",
      " |  \n",
      " |  delete_subscriptions = _call(api, *args, **kwargs)\n",
      " |  \n",
      " |  follow_user = _inner(self, *args, **kwargs)\n",
      " |  \n",
      " |  geography_recent_media = _call(api, *args, **kwargs)\n",
      " |  \n",
      " |  ignore_user_request = _inner(self, *args, **kwargs)\n",
      " |  \n",
      " |  like_media = _call(api, *args, **kwargs)\n",
      " |  \n",
      " |  list_subscriptions = _call(api, *args, **kwargs)\n",
      " |  \n",
      " |  location = _call(api, *args, **kwargs)\n",
      " |  \n",
      " |  location_recent_media = _call(api, *args, **kwargs)\n",
      " |  \n",
      " |  location_search = _call(api, *args, **kwargs)\n",
      " |  \n",
      " |  media = _call(api, *args, **kwargs)\n",
      " |  \n",
      " |  media_comments = _call(api, *args, **kwargs)\n",
      " |  \n",
      " |  media_likes = _call(api, *args, **kwargs)\n",
      " |  \n",
      " |  media_popular = _call(api, *args, **kwargs)\n",
      " |  \n",
      " |  media_search = _call(api, *args, **kwargs)\n",
      " |  \n",
      " |  media_shortcode = _call(api, *args, **kwargs)\n",
      " |  \n",
      " |  tag = _call(api, *args, **kwargs)\n",
      " |  \n",
      " |  tag_recent_media = _call(api, *args, **kwargs)\n",
      " |  \n",
      " |  tag_search = _call(api, *args, **kwargs)\n",
      " |  \n",
      " |  unblock_user = _inner(self, *args, **kwargs)\n",
      " |  \n",
      " |  unfollow_user = _inner(self, *args, **kwargs)\n",
      " |  \n",
      " |  unlike_media = _call(api, *args, **kwargs)\n",
      " |  \n",
      " |  user = _call(api, *args, **kwargs)\n",
      " |  \n",
      " |  user_followed_by = _call(api, *args, **kwargs)\n",
      " |  \n",
      " |  user_follows = _call(api, *args, **kwargs)\n",
      " |  \n",
      " |  user_incoming_requests = _call(api, *args, **kwargs)\n",
      " |  \n",
      " |  user_liked_media = _call(api, *args, **kwargs)\n",
      " |  \n",
      " |  user_media_feed = _call(api, *args, **kwargs)\n",
      " |  \n",
      " |  user_recent_media = _call(api, *args, **kwargs)\n",
      " |  \n",
      " |  user_relationship = _call(api, *args, **kwargs)\n",
      " |  \n",
      " |  user_search = _call(api, *args, **kwargs)\n",
      " |  \n",
      " |  ----------------------------------------------------------------------\n",
      " |  Data and other attributes defined here:\n",
      " |  \n",
      " |  access_token_field = 'access_token'\n",
      " |  \n",
      " |  access_token_url = 'https://api.instagram.com/oauth/access_token'\n",
      " |  \n",
      " |  api_name = 'Instagram'\n",
      " |  \n",
      " |  authorize_url = 'https://api.instagram.com/oauth/authorize'\n",
      " |  \n",
      " |  base_path = '/v1'\n",
      " |  \n",
      " |  host = 'api.instagram.com'\n",
      " |  \n",
      " |  protocol = 'https'\n",
      " |  \n",
      " |  x_ratelimit = None\n",
      " |  \n",
      " |  x_ratelimit_remaining = None\n",
      " |  \n",
      " |  ----------------------------------------------------------------------\n",
      " |  Methods inherited from instagram.oauth2.OAuth2API:\n",
      " |  \n",
      " |  exchange_code_for_access_token(self, code)\n",
      " |  \n",
      " |  exchange_user_id_for_access_token(self, user_id)\n",
      " |  \n",
      " |  exchange_xauth_login_for_access_token(self, username, password, scope=None)\n",
      " |      scope should be a tuple or list of requested scope access levels\n",
      " |  \n",
      " |  get_authorize_login_url(self, scope=None)\n",
      " |      scope should be a tuple or list of requested scope access levels\n",
      " |  \n",
      " |  get_authorize_url(self, scope=None)\n",
      " |  \n",
      " |  ----------------------------------------------------------------------\n",
      " |  Data descriptors inherited from instagram.oauth2.OAuth2API:\n",
      " |  \n",
      " |  __dict__\n",
      " |      dictionary for instance variables (if defined)\n",
      " |  \n",
      " |  __weakref__\n",
      " |      list of weak references to the object (if defined)\n",
      " |  \n",
      " |  ----------------------------------------------------------------------\n",
      " |  Data and other attributes inherited from instagram.oauth2.OAuth2API:\n",
      " |  \n",
      " |  redirect_uri = None\n",
      "\n"
     ]
    }
   ],
   "source": [
    "from instagram.client import InstagramAPI\n",
    "\n",
    "access_token = \"5323301270.da0f83e.cfdb9773202c425c9f3e9d9d670b77ca\"\n",
    "client_secret = \"86db5230a743448dac5f451a81d6244a\"\n",
    "api = InstagramAPI(access_token=access_token, client_secret=client_secret)\n",
    "help(api)"
   ]
  },
  {
   "cell_type": "code",
   "execution_count": 71,
   "metadata": {},
   "outputs": [
    {
     "ename": "InstagramClientError",
     "evalue": "(404) Unable to parse response, not valid JSON.",
     "output_type": "error",
     "traceback": [
      "\u001b[1;31m---------------------------------------------------------------------------\u001b[0m",
      "\u001b[1;31mJSONDecodeError\u001b[0m                           Traceback (most recent call last)",
      "\u001b[1;32mC:\\Users\\Christopher\\Anaconda3\\lib\\site-packages\\instagram\\bind.py\u001b[0m in \u001b[0;36m_do_api_request\u001b[1;34m(self, url, method, body, headers)\u001b[0m\n\u001b[0;32m    128\u001b[0m             \u001b[1;32mtry\u001b[0m\u001b[1;33m:\u001b[0m\u001b[1;33m\u001b[0m\u001b[0m\n\u001b[1;32m--> 129\u001b[1;33m                 \u001b[0mcontent_obj\u001b[0m \u001b[1;33m=\u001b[0m \u001b[0msimplejson\u001b[0m\u001b[1;33m.\u001b[0m\u001b[0mloads\u001b[0m\u001b[1;33m(\u001b[0m\u001b[0mcontent\u001b[0m\u001b[1;33m)\u001b[0m\u001b[1;33m\u001b[0m\u001b[0m\n\u001b[0m\u001b[0;32m    130\u001b[0m             \u001b[1;32mexcept\u001b[0m \u001b[0mValueError\u001b[0m\u001b[1;33m:\u001b[0m\u001b[1;33m\u001b[0m\u001b[0m\n",
      "\u001b[1;32mC:\\Users\\Christopher\\Anaconda3\\lib\\site-packages\\simplejson\\__init__.py\u001b[0m in \u001b[0;36mloads\u001b[1;34m(s, encoding, cls, object_hook, parse_float, parse_int, parse_constant, object_pairs_hook, use_decimal, **kw)\u001b[0m\n\u001b[0;32m    515\u001b[0m             and not use_decimal and not kw):\n\u001b[1;32m--> 516\u001b[1;33m         \u001b[1;32mreturn\u001b[0m \u001b[0m_default_decoder\u001b[0m\u001b[1;33m.\u001b[0m\u001b[0mdecode\u001b[0m\u001b[1;33m(\u001b[0m\u001b[0ms\u001b[0m\u001b[1;33m)\u001b[0m\u001b[1;33m\u001b[0m\u001b[0m\n\u001b[0m\u001b[0;32m    517\u001b[0m     \u001b[1;32mif\u001b[0m \u001b[0mcls\u001b[0m \u001b[1;32mis\u001b[0m \u001b[1;32mNone\u001b[0m\u001b[1;33m:\u001b[0m\u001b[1;33m\u001b[0m\u001b[0m\n",
      "\u001b[1;32mC:\\Users\\Christopher\\Anaconda3\\lib\\site-packages\\simplejson\\decoder.py\u001b[0m in \u001b[0;36mdecode\u001b[1;34m(self, s, _w, _PY3)\u001b[0m\n\u001b[0;32m    369\u001b[0m             \u001b[0ms\u001b[0m \u001b[1;33m=\u001b[0m \u001b[0ms\u001b[0m\u001b[1;33m.\u001b[0m\u001b[0mdecode\u001b[0m\u001b[1;33m(\u001b[0m\u001b[0mself\u001b[0m\u001b[1;33m.\u001b[0m\u001b[0mencoding\u001b[0m\u001b[1;33m)\u001b[0m\u001b[1;33m\u001b[0m\u001b[0m\n\u001b[1;32m--> 370\u001b[1;33m         \u001b[0mobj\u001b[0m\u001b[1;33m,\u001b[0m \u001b[0mend\u001b[0m \u001b[1;33m=\u001b[0m \u001b[0mself\u001b[0m\u001b[1;33m.\u001b[0m\u001b[0mraw_decode\u001b[0m\u001b[1;33m(\u001b[0m\u001b[0ms\u001b[0m\u001b[1;33m)\u001b[0m\u001b[1;33m\u001b[0m\u001b[0m\n\u001b[0m\u001b[0;32m    371\u001b[0m         \u001b[0mend\u001b[0m \u001b[1;33m=\u001b[0m \u001b[0m_w\u001b[0m\u001b[1;33m(\u001b[0m\u001b[0ms\u001b[0m\u001b[1;33m,\u001b[0m \u001b[0mend\u001b[0m\u001b[1;33m)\u001b[0m\u001b[1;33m.\u001b[0m\u001b[0mend\u001b[0m\u001b[1;33m(\u001b[0m\u001b[1;33m)\u001b[0m\u001b[1;33m\u001b[0m\u001b[0m\n",
      "\u001b[1;32mC:\\Users\\Christopher\\Anaconda3\\lib\\site-packages\\simplejson\\decoder.py\u001b[0m in \u001b[0;36mraw_decode\u001b[1;34m(self, s, idx, _w, _PY3)\u001b[0m\n\u001b[0;32m    399\u001b[0m                 \u001b[0midx\u001b[0m \u001b[1;33m+=\u001b[0m \u001b[1;36m3\u001b[0m\u001b[1;33m\u001b[0m\u001b[0m\n\u001b[1;32m--> 400\u001b[1;33m         \u001b[1;32mreturn\u001b[0m \u001b[0mself\u001b[0m\u001b[1;33m.\u001b[0m\u001b[0mscan_once\u001b[0m\u001b[1;33m(\u001b[0m\u001b[0ms\u001b[0m\u001b[1;33m,\u001b[0m \u001b[0midx\u001b[0m\u001b[1;33m=\u001b[0m\u001b[0m_w\u001b[0m\u001b[1;33m(\u001b[0m\u001b[0ms\u001b[0m\u001b[1;33m,\u001b[0m \u001b[0midx\u001b[0m\u001b[1;33m)\u001b[0m\u001b[1;33m.\u001b[0m\u001b[0mend\u001b[0m\u001b[1;33m(\u001b[0m\u001b[1;33m)\u001b[0m\u001b[1;33m)\u001b[0m\u001b[1;33m\u001b[0m\u001b[0m\n\u001b[0m",
      "\u001b[1;31mJSONDecodeError\u001b[0m: Expecting value: line 1 column 1 (char 0)",
      "\nDuring handling of the above exception, another exception occurred:\n",
      "\u001b[1;31mInstagramClientError\u001b[0m                      Traceback (most recent call last)",
      "\u001b[1;32m<ipython-input-71-fb8b6d764bd6>\u001b[0m in \u001b[0;36m<module>\u001b[1;34m()\u001b[0m\n\u001b[1;32m----> 1\u001b[1;33m \u001b[0mapi\u001b[0m\u001b[1;33m.\u001b[0m\u001b[0muser_media_feed\u001b[0m\u001b[1;33m(\u001b[0m\u001b[1;33m)\u001b[0m\u001b[1;33m\u001b[0m\u001b[0m\n\u001b[0m",
      "\u001b[1;32mC:\\Users\\Christopher\\Anaconda3\\lib\\site-packages\\instagram\\bind.py\u001b[0m in \u001b[0;36m_call\u001b[1;34m(api, *args, **kwargs)\u001b[0m\n\u001b[0;32m    195\u001b[0m     \u001b[1;32mdef\u001b[0m \u001b[0m_call\u001b[0m\u001b[1;33m(\u001b[0m\u001b[0mapi\u001b[0m\u001b[1;33m,\u001b[0m \u001b[1;33m*\u001b[0m\u001b[0margs\u001b[0m\u001b[1;33m,\u001b[0m \u001b[1;33m**\u001b[0m\u001b[0mkwargs\u001b[0m\u001b[1;33m)\u001b[0m\u001b[1;33m:\u001b[0m\u001b[1;33m\u001b[0m\u001b[0m\n\u001b[0;32m    196\u001b[0m         \u001b[0mmethod\u001b[0m \u001b[1;33m=\u001b[0m \u001b[0mInstagramAPIMethod\u001b[0m\u001b[1;33m(\u001b[0m\u001b[0mapi\u001b[0m\u001b[1;33m,\u001b[0m \u001b[1;33m*\u001b[0m\u001b[0margs\u001b[0m\u001b[1;33m,\u001b[0m \u001b[1;33m**\u001b[0m\u001b[0mkwargs\u001b[0m\u001b[1;33m)\u001b[0m\u001b[1;33m\u001b[0m\u001b[0m\n\u001b[1;32m--> 197\u001b[1;33m         \u001b[1;32mreturn\u001b[0m \u001b[0mmethod\u001b[0m\u001b[1;33m.\u001b[0m\u001b[0mexecute\u001b[0m\u001b[1;33m(\u001b[0m\u001b[1;33m)\u001b[0m\u001b[1;33m\u001b[0m\u001b[0m\n\u001b[0m\u001b[0;32m    198\u001b[0m \u001b[1;33m\u001b[0m\u001b[0m\n\u001b[0;32m    199\u001b[0m     \u001b[1;32mreturn\u001b[0m \u001b[0m_call\u001b[0m\u001b[1;33m\u001b[0m\u001b[0m\n",
      "\u001b[1;32mC:\\Users\\Christopher\\Anaconda3\\lib\\site-packages\\instagram\\bind.py\u001b[0m in \u001b[0;36mexecute\u001b[1;34m(self)\u001b[0m\n\u001b[0;32m    187\u001b[0m                 \u001b[1;32mreturn\u001b[0m \u001b[0mself\u001b[0m\u001b[1;33m.\u001b[0m\u001b[0m_paginator_with_url\u001b[0m\u001b[1;33m(\u001b[0m\u001b[0murl\u001b[0m\u001b[1;33m,\u001b[0m \u001b[0mmethod\u001b[0m\u001b[1;33m,\u001b[0m \u001b[0mbody\u001b[0m\u001b[1;33m,\u001b[0m \u001b[0mheaders\u001b[0m\u001b[1;33m)\u001b[0m\u001b[1;33m\u001b[0m\u001b[0m\n\u001b[0;32m    188\u001b[0m             \u001b[1;32melse\u001b[0m\u001b[1;33m:\u001b[0m\u001b[1;33m\u001b[0m\u001b[0m\n\u001b[1;32m--> 189\u001b[1;33m                 \u001b[0mcontent\u001b[0m\u001b[1;33m,\u001b[0m \u001b[0mnext\u001b[0m \u001b[1;33m=\u001b[0m \u001b[0mself\u001b[0m\u001b[1;33m.\u001b[0m\u001b[0m_do_api_request\u001b[0m\u001b[1;33m(\u001b[0m\u001b[0murl\u001b[0m\u001b[1;33m,\u001b[0m \u001b[0mmethod\u001b[0m\u001b[1;33m,\u001b[0m \u001b[0mbody\u001b[0m\u001b[1;33m,\u001b[0m \u001b[0mheaders\u001b[0m\u001b[1;33m)\u001b[0m\u001b[1;33m\u001b[0m\u001b[0m\n\u001b[0m\u001b[0;32m    190\u001b[0m             \u001b[1;32mif\u001b[0m \u001b[0mself\u001b[0m\u001b[1;33m.\u001b[0m\u001b[0mpaginates\u001b[0m\u001b[1;33m:\u001b[0m\u001b[1;33m\u001b[0m\u001b[0m\n\u001b[0;32m    191\u001b[0m                 \u001b[1;32mreturn\u001b[0m \u001b[0mcontent\u001b[0m\u001b[1;33m,\u001b[0m \u001b[0mnext\u001b[0m\u001b[1;33m\u001b[0m\u001b[0m\n",
      "\u001b[1;32mC:\\Users\\Christopher\\Anaconda3\\lib\\site-packages\\instagram\\bind.py\u001b[0m in \u001b[0;36m_do_api_request\u001b[1;34m(self, url, method, body, headers)\u001b[0m\n\u001b[0;32m    129\u001b[0m                 \u001b[0mcontent_obj\u001b[0m \u001b[1;33m=\u001b[0m \u001b[0msimplejson\u001b[0m\u001b[1;33m.\u001b[0m\u001b[0mloads\u001b[0m\u001b[1;33m(\u001b[0m\u001b[0mcontent\u001b[0m\u001b[1;33m)\u001b[0m\u001b[1;33m\u001b[0m\u001b[0m\n\u001b[0;32m    130\u001b[0m             \u001b[1;32mexcept\u001b[0m \u001b[0mValueError\u001b[0m\u001b[1;33m:\u001b[0m\u001b[1;33m\u001b[0m\u001b[0m\n\u001b[1;32m--> 131\u001b[1;33m                 \u001b[1;32mraise\u001b[0m \u001b[0mInstagramClientError\u001b[0m\u001b[1;33m(\u001b[0m\u001b[1;34m'Unable to parse response, not valid JSON.'\u001b[0m\u001b[1;33m,\u001b[0m \u001b[0mstatus_code\u001b[0m\u001b[1;33m=\u001b[0m\u001b[0mresponse\u001b[0m\u001b[1;33m[\u001b[0m\u001b[1;34m'status'\u001b[0m\u001b[1;33m]\u001b[0m\u001b[1;33m)\u001b[0m\u001b[1;33m\u001b[0m\u001b[0m\n\u001b[0m\u001b[0;32m    132\u001b[0m             \u001b[1;31m# Handle OAuthRateLimitExceeded from Instagram's Nginx which uses different format to documented api responses\u001b[0m\u001b[1;33m\u001b[0m\u001b[1;33m\u001b[0m\u001b[0m\n\u001b[0;32m    133\u001b[0m             \u001b[1;32mif\u001b[0m \u001b[1;34m'meta'\u001b[0m \u001b[1;32mnot\u001b[0m \u001b[1;32min\u001b[0m \u001b[0mcontent_obj\u001b[0m\u001b[1;33m:\u001b[0m\u001b[1;33m\u001b[0m\u001b[0m\n",
      "\u001b[1;31mInstagramClientError\u001b[0m: (404) Unable to parse response, not valid JSON."
     ]
    }
   ],
   "source": [
    "api.user_media_feed()"
   ]
  },
  {
   "cell_type": "code",
   "execution_count": 72,
   "metadata": {},
   "outputs": [
    {
     "ename": "ModuleNotFoundError",
     "evalue": "No module named 'InstagramAPI'",
     "output_type": "error",
     "traceback": [
      "\u001b[1;31m---------------------------------------------------------------------------\u001b[0m",
      "\u001b[1;31mModuleNotFoundError\u001b[0m                       Traceback (most recent call last)",
      "\u001b[1;32m<ipython-input-72-4ab5b5bfe358>\u001b[0m in \u001b[0;36m<module>\u001b[1;34m()\u001b[0m\n\u001b[1;32m----> 1\u001b[1;33m \u001b[1;32mfrom\u001b[0m \u001b[0mInstagramAPI\u001b[0m \u001b[1;32mimport\u001b[0m \u001b[0mInstagramAPI\u001b[0m\u001b[1;33m\u001b[0m\u001b[0m\n\u001b[0m",
      "\u001b[1;31mModuleNotFoundError\u001b[0m: No module named 'InstagramAPI'"
     ]
    }
   ],
   "source": [
    "from InstagramAPI import InstagramAPI"
   ]
  },
  {
   "cell_type": "code",
   "execution_count": null,
   "metadata": {
    "collapsed": true
   },
   "outputs": [],
   "source": []
  },
  {
   "cell_type": "code",
   "execution_count": null,
   "metadata": {
    "collapsed": true
   },
   "outputs": [],
   "source": []
  }
 ],
 "metadata": {
  "kernelspec": {
   "display_name": "Python 3",
   "language": "python",
   "name": "python3"
  },
  "language_info": {
   "codemirror_mode": {
    "name": "ipython",
    "version": 3
   },
   "file_extension": ".py",
   "mimetype": "text/x-python",
   "name": "python",
   "nbconvert_exporter": "python",
   "pygments_lexer": "ipython3",
   "version": "3.6.1"
  }
 },
 "nbformat": 4,
 "nbformat_minor": 2
}
