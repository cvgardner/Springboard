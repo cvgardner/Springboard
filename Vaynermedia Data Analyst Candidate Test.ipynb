{
 "cells": [
  {
   "cell_type": "code",
   "execution_count": 110,
   "metadata": {
    "collapsed": true
   },
   "outputs": [],
   "source": [
    "import numpy as np\n",
    "import pandas as pd\n",
    "import matplotlib.pyplot as plt"
   ]
  },
  {
   "cell_type": "code",
   "execution_count": 93,
   "metadata": {},
   "outputs": [],
   "source": [
    "VaynerData = pd.DataFrame.from_csv('Analyst_Candidate_Dataset_cvgardner.xlsx - Facebook Data.csv')\n",
    "site_data = pd.DataFrame.from_csv('Analyst_Candidate_Dataset_cvgardner.xlsx - Site Data.csv')\n",
    "writer = pd.ExcelWriter('Analyst_Candidate_Dataset_cvgardner_Final.xlsx') #create a writer to output to the final excel file"
   ]
  },
  {
   "cell_type": "code",
   "execution_count": 92,
   "metadata": {},
   "outputs": [
    {
     "data": {
      "text/html": [
       "<div>\n",
       "<style>\n",
       "    .dataframe thead tr:only-child th {\n",
       "        text-align: right;\n",
       "    }\n",
       "\n",
       "    .dataframe thead th {\n",
       "        text-align: left;\n",
       "    }\n",
       "\n",
       "    .dataframe tbody tr th {\n",
       "        vertical-align: top;\n",
       "    }\n",
       "</style>\n",
       "<table border=\"1\" class=\"dataframe\">\n",
       "  <thead>\n",
       "    <tr style=\"text-align: right;\">\n",
       "      <th></th>\n",
       "      <th>Placement ID</th>\n",
       "      <th>Date</th>\n",
       "      <th>Campaign</th>\n",
       "      <th>Audience</th>\n",
       "      <th>Excluded Audience</th>\n",
       "      <th>Audience Type</th>\n",
       "      <th>Creative</th>\n",
       "      <th>Post Type</th>\n",
       "      <th>Gender</th>\n",
       "      <th>Optimization Event</th>\n",
       "      <th>...</th>\n",
       "      <th>Video Views to 50%</th>\n",
       "      <th>Video Views to 75%</th>\n",
       "      <th>Video Views to 95%</th>\n",
       "      <th>Video Views to 100%</th>\n",
       "      <th>CPM</th>\n",
       "      <th>CTR</th>\n",
       "      <th>CPC</th>\n",
       "      <th>Work</th>\n",
       "      <th>CTM Confirm</th>\n",
       "      <th>CPC Confirm</th>\n",
       "    </tr>\n",
       "    <tr>\n",
       "      <th>AD ID</th>\n",
       "      <th></th>\n",
       "      <th></th>\n",
       "      <th></th>\n",
       "      <th></th>\n",
       "      <th></th>\n",
       "      <th></th>\n",
       "      <th></th>\n",
       "      <th></th>\n",
       "      <th></th>\n",
       "      <th></th>\n",
       "      <th></th>\n",
       "      <th></th>\n",
       "      <th></th>\n",
       "      <th></th>\n",
       "      <th></th>\n",
       "      <th></th>\n",
       "      <th></th>\n",
       "      <th></th>\n",
       "      <th></th>\n",
       "      <th></th>\n",
       "      <th></th>\n",
       "    </tr>\n",
       "  </thead>\n",
       "  <tbody>\n",
       "    <tr>\n",
       "      <th>1000281165</th>\n",
       "      <td>2000200268</td>\n",
       "      <td>1-Feb</td>\n",
       "      <td>Evergreen</td>\n",
       "      <td>Shopping Cart Page</td>\n",
       "      <td>Purchases</td>\n",
       "      <td>Website Custom Audience</td>\n",
       "      <td>Brand Logo + Generic CTA</td>\n",
       "      <td>Photo</td>\n",
       "      <td>F</td>\n",
       "      <td>Conversion</td>\n",
       "      <td>...</td>\n",
       "      <td>NaN</td>\n",
       "      <td>NaN</td>\n",
       "      <td>NaN</td>\n",
       "      <td>NaN</td>\n",
       "      <td>19.72</td>\n",
       "      <td>0.015345</td>\n",
       "      <td>1.27</td>\n",
       "      <td>NaN</td>\n",
       "      <td>15.26</td>\n",
       "      <td>15.26</td>\n",
       "    </tr>\n",
       "    <tr>\n",
       "      <th>1000141830</th>\n",
       "      <td>2000200714</td>\n",
       "      <td>1-Feb</td>\n",
       "      <td>Evergreen</td>\n",
       "      <td>Product Page</td>\n",
       "      <td>Purchasers, Shopping Cart</td>\n",
       "      <td>Website Custom Audience</td>\n",
       "      <td>Brand Logo + Generic CTA</td>\n",
       "      <td>Photo</td>\n",
       "      <td>F</td>\n",
       "      <td>Conversion</td>\n",
       "      <td>...</td>\n",
       "      <td>NaN</td>\n",
       "      <td>NaN</td>\n",
       "      <td>NaN</td>\n",
       "      <td>NaN</td>\n",
       "      <td>16.74</td>\n",
       "      <td>0.012474</td>\n",
       "      <td>1.33</td>\n",
       "      <td>NaN</td>\n",
       "      <td>49.12</td>\n",
       "      <td>49.12</td>\n",
       "    </tr>\n",
       "    <tr>\n",
       "      <th>1000659879</th>\n",
       "      <td>2000200882</td>\n",
       "      <td>1-Feb</td>\n",
       "      <td>Evergreen</td>\n",
       "      <td>Home Page</td>\n",
       "      <td>Product Page, Shopping Cart, Purchasers</td>\n",
       "      <td>Website Custom Audience</td>\n",
       "      <td>Brand Logo + Generic CTA</td>\n",
       "      <td>Photo</td>\n",
       "      <td>F</td>\n",
       "      <td>Conversion</td>\n",
       "      <td>...</td>\n",
       "      <td>NaN</td>\n",
       "      <td>NaN</td>\n",
       "      <td>NaN</td>\n",
       "      <td>NaN</td>\n",
       "      <td>13.16</td>\n",
       "      <td>0.010494</td>\n",
       "      <td>1.25</td>\n",
       "      <td>NaN</td>\n",
       "      <td>81.37</td>\n",
       "      <td>81.37</td>\n",
       "    </tr>\n",
       "    <tr>\n",
       "      <th>1000599036</th>\n",
       "      <td>2000201316</td>\n",
       "      <td>1-Feb</td>\n",
       "      <td>Evergreen</td>\n",
       "      <td>Top Purchasers Lookalike 1%</td>\n",
       "      <td>All Site Visitors</td>\n",
       "      <td>Lookalike</td>\n",
       "      <td>Brand Logo + Generic CTA</td>\n",
       "      <td>Photo</td>\n",
       "      <td>F</td>\n",
       "      <td>Conversion</td>\n",
       "      <td>...</td>\n",
       "      <td>NaN</td>\n",
       "      <td>NaN</td>\n",
       "      <td>NaN</td>\n",
       "      <td>NaN</td>\n",
       "      <td>11.92</td>\n",
       "      <td>0.008910</td>\n",
       "      <td>1.36</td>\n",
       "      <td>NaN</td>\n",
       "      <td>32.65</td>\n",
       "      <td>32.65</td>\n",
       "    </tr>\n",
       "    <tr>\n",
       "      <th>1000512589</th>\n",
       "      <td>2000202452</td>\n",
       "      <td>1-Feb</td>\n",
       "      <td>Evergreen</td>\n",
       "      <td>Top Purchasers Lookalike 2%</td>\n",
       "      <td>All Site Visitors</td>\n",
       "      <td>Lookalike</td>\n",
       "      <td>Brand Logo + Generic CTA</td>\n",
       "      <td>Photo</td>\n",
       "      <td>F</td>\n",
       "      <td>Conversion</td>\n",
       "      <td>...</td>\n",
       "      <td>NaN</td>\n",
       "      <td>NaN</td>\n",
       "      <td>NaN</td>\n",
       "      <td>NaN</td>\n",
       "      <td>10.81</td>\n",
       "      <td>0.008712</td>\n",
       "      <td>1.24</td>\n",
       "      <td>NaN</td>\n",
       "      <td>14.86</td>\n",
       "      <td>14.86</td>\n",
       "    </tr>\n",
       "  </tbody>\n",
       "</table>\n",
       "<p>5 rows × 28 columns</p>\n",
       "</div>"
      ],
      "text/plain": [
       "            Placement ID   Date   Campaign                     Audience  \\\n",
       "AD ID                                                                     \n",
       "1000281165    2000200268  1-Feb  Evergreen           Shopping Cart Page   \n",
       "1000141830    2000200714  1-Feb  Evergreen                 Product Page   \n",
       "1000659879    2000200882  1-Feb  Evergreen                    Home Page   \n",
       "1000599036    2000201316  1-Feb  Evergreen  Top Purchasers Lookalike 1%   \n",
       "1000512589    2000202452  1-Feb  Evergreen  Top Purchasers Lookalike 2%   \n",
       "\n",
       "                                  Excluded Audience            Audience Type  \\\n",
       "AD ID                                                                          \n",
       "1000281165                                Purchases  Website Custom Audience   \n",
       "1000141830                Purchasers, Shopping Cart  Website Custom Audience   \n",
       "1000659879  Product Page, Shopping Cart, Purchasers  Website Custom Audience   \n",
       "1000599036                        All Site Visitors                Lookalike   \n",
       "1000512589                        All Site Visitors                Lookalike   \n",
       "\n",
       "                            Creative Post Type Gender Optimization Event  \\\n",
       "AD ID                                                                      \n",
       "1000281165  Brand Logo + Generic CTA     Photo      F         Conversion   \n",
       "1000141830  Brand Logo + Generic CTA     Photo      F         Conversion   \n",
       "1000659879  Brand Logo + Generic CTA     Photo      F         Conversion   \n",
       "1000599036  Brand Logo + Generic CTA     Photo      F         Conversion   \n",
       "1000512589  Brand Logo + Generic CTA     Photo      F         Conversion   \n",
       "\n",
       "               ...       Video Views to 50%  Video Views to 75%  \\\n",
       "AD ID          ...                                                \n",
       "1000281165     ...                      NaN                 NaN   \n",
       "1000141830     ...                      NaN                 NaN   \n",
       "1000659879     ...                      NaN                 NaN   \n",
       "1000599036     ...                      NaN                 NaN   \n",
       "1000512589     ...                      NaN                 NaN   \n",
       "\n",
       "            Video Views to 95%  Video Views to 100%  CPM        CTR        \\\n",
       "AD ID                                                                       \n",
       "1000281165                 NaN                  NaN      19.72   0.015345   \n",
       "1000141830                 NaN                  NaN      16.74   0.012474   \n",
       "1000659879                 NaN                  NaN      13.16   0.010494   \n",
       "1000599036                 NaN                  NaN      11.92   0.008910   \n",
       "1000512589                 NaN                  NaN      10.81   0.008712   \n",
       "\n",
       "            CPC        Work  CTM Confirm  CPC Confirm  \n",
       "AD ID                                                  \n",
       "1000281165       1.27   NaN        15.26        15.26  \n",
       "1000141830       1.33   NaN        49.12        49.12  \n",
       "1000659879       1.25   NaN        81.37        81.37  \n",
       "1000599036       1.36   NaN        32.65        32.65  \n",
       "1000512589       1.24   NaN        14.86        14.86  \n",
       "\n",
       "[5 rows x 28 columns]"
      ]
     },
     "execution_count": 92,
     "metadata": {},
     "output_type": "execute_result"
    }
   ],
   "source": [
    "VaynerData.head()"
   ]
  },
  {
   "cell_type": "markdown",
   "metadata": {},
   "source": [
    "**Explanation:**\n",
    "\n",
    "Since I do not have access to Excel I had attempted a few of the problems using Google Sheets since it is similar to Excel however I am not familiar with the commands used to parse through Excel/Google Sheets quickly. Instead I've decided to tackle this takehome challenge using Python and a few useful models like Numpy and Pandas. I have also decided to use this method because should I be accepted for the position this is how I would intend to process and analyze data on the job and if I am disqualified for not using Excel that is fine. Please continue scrolling to find all my answers and work.\n",
    "    \n",
    "To tackle the take home challenge in Python I've changed some of the columns that were in currency and percentage values (CPM, CTR and CPC) into pure numerical values and saved it as a Comma-separated values (.csv) file. This is because I won't have to do string parsing to convert them into int values manually. My brief analysis in Google Sheets showed me that the CPM and CPC columns are the same as (Media Spend)/(The relevant feature). Since Media Spend is not based on some algorithm similar to (# of clicks)*(CPC) + (# of impressions)*(CPM)/1000 I will assume that any questions that ask me to calculate a similar value will follow the same formula.\n",
    "\n",
    "Once I have completed the take home challenge and answered the questions here I will export the final DataFrame back into an Excel file to submit along with this report and a link to it on my github incase you do not have Jupyter Notebooks installed on your computer."
   ]
  },
  {
   "cell_type": "markdown",
   "metadata": {},
   "source": [
    "**Question 1**\n",
    "\n",
    "What is the total spend for each campaign\n",
    "\n",
    "A: Seen below I first confirm that there are no missing values in the Campaign column and see there are three different campaigns Evergreen, Valentine's Day Gift Offer and Free Shipping. Then I do a groupby call using Campaing which essentially breaks up the dataframe by the different campaign values. After that I restrict the groupby to the Media Spend column and call sum which gives me the sum of all the values in the Media Spend column for each distinct value in the Campaign column. \n",
    "\n",
    "Total Spend for each campaign\n",
    "\n",
    "        - Evergreen = $113244.01\n",
    "    - Free Shipping = $22750.46\n",
    "        - Valentine's Day = $52372.40"
   ]
  },
  {
   "cell_type": "code",
   "execution_count": 33,
   "metadata": {},
   "outputs": [
    {
     "data": {
      "text/plain": [
       "array(['Evergreen', \"Valentine's Day Gift Offer\", 'Free Shipping'], dtype=object)"
      ]
     },
     "execution_count": 33,
     "metadata": {},
     "output_type": "execute_result"
    }
   ],
   "source": [
    "VaynerData.Campaign.unique() "
   ]
  },
  {
   "cell_type": "code",
   "execution_count": 47,
   "metadata": {},
   "outputs": [
    {
     "data": {
      "text/plain": [
       "Campaign\n",
       "Evergreen                     113244.01\n",
       "Free Shipping                  22750.46\n",
       "Valentine's Day Gift Offer     52372.40\n",
       "Name: Media Spend, dtype: float64"
      ]
     },
     "execution_count": 47,
     "metadata": {},
     "output_type": "execute_result"
    }
   ],
   "source": [
    "VaynerData.groupby('Campaign')['Media Spend'].sum()"
   ]
  },
  {
   "cell_type": "markdown",
   "metadata": {},
   "source": [
    "**Question 2**\n",
    "\n",
    "Which was the Cost Per Video View and Cost Per Completion for each Creative? (Please Filter by Video Post Type)\n",
    "\n",
    "A: Like before I want to confirm that there are not missing data types in the Creative column, but this time I also add columns for CPV and CPCompletion by dividing the Media Spend by the relevant column. Then exclude all the non-Video Posty Types and look at the first 3 rows to quickly sanity check my CPV and CPCompletion calculations. After that I used a groupby and mean this time instead of sum. This gives us the following results with CPV and CPCompletion in Dollar Values.\n",
    "\n",
    "Creative | CPV | CPCompletion\n",
    "--- | --- | ---\n",
    "Brand Logo + Free Shipping CTA | 0.0569 | 0.422\n",
    "Brand Logo + Generic CTA | 0.0387 | 0.287\n",
    "Brand Logo + Save Now CTA | 0.0386 | 0.289\n",
    "Brand Logo + Valentine's Day CTA | 0.0403 | 0.296\n",
    "Free Shipping + Free Shipping CTA | 0.0595 | 0.453  \n",
    "Valentine's Day + Generic CTA | 0.0409 | 0.308\n",
    "Valentine's Day + Valentine's Day CTA | 0.0649 | 0.432\n",
    "\n",
    "\n"
   ]
  },
  {
   "cell_type": "code",
   "execution_count": 54,
   "metadata": {},
   "outputs": [
    {
     "data": {
      "text/plain": [
       "array(['Brand Logo + Generic CTA', 'Brand Logo + Save Now CTA',\n",
       "       \"Brand Logo + Valentine's Day Messaging CTA\",\n",
       "       \"Valentine's Day + Generic CTA\",\n",
       "       \"Valentine's Day + Valentine's Day CTA\",\n",
       "       'Free Shipping + Free Shipping CTA',\n",
       "       'Brand Logo + Free Shipping CTA'], dtype=object)"
      ]
     },
     "execution_count": 54,
     "metadata": {},
     "output_type": "execute_result"
    }
   ],
   "source": [
    "VaynerData['CPV'] = VaynerData['Media Spend']/VaynerData['Video Views']\n",
    "VaynerData['CPCompletion'] = VaynerData['Media Spend']/VaynerData['Video Views to 95%']\n",
    "VaynerData['Creative'].unique()"
   ]
  },
  {
   "cell_type": "code",
   "execution_count": 70,
   "metadata": {},
   "outputs": [
    {
     "data": {
      "text/html": [
       "<div>\n",
       "<style>\n",
       "    .dataframe thead tr:only-child th {\n",
       "        text-align: right;\n",
       "    }\n",
       "\n",
       "    .dataframe thead th {\n",
       "        text-align: left;\n",
       "    }\n",
       "\n",
       "    .dataframe tbody tr th {\n",
       "        vertical-align: top;\n",
       "    }\n",
       "</style>\n",
       "<table border=\"1\" class=\"dataframe\">\n",
       "  <thead>\n",
       "    <tr style=\"text-align: right;\">\n",
       "      <th></th>\n",
       "      <th>Placement ID</th>\n",
       "      <th>Date</th>\n",
       "      <th>Campaign</th>\n",
       "      <th>Audience</th>\n",
       "      <th>Excluded Audience</th>\n",
       "      <th>Audience Type</th>\n",
       "      <th>Creative</th>\n",
       "      <th>Post Type</th>\n",
       "      <th>Gender</th>\n",
       "      <th>Optimization Event</th>\n",
       "      <th>...</th>\n",
       "      <th>Video Views to 95%</th>\n",
       "      <th>Video Views to 100%</th>\n",
       "      <th>CPM</th>\n",
       "      <th>CTR</th>\n",
       "      <th>CPC</th>\n",
       "      <th>Work</th>\n",
       "      <th>CTM Confirm</th>\n",
       "      <th>CPC Confirm</th>\n",
       "      <th>CPV</th>\n",
       "      <th>CPCompletion</th>\n",
       "    </tr>\n",
       "    <tr>\n",
       "      <th>AD ID</th>\n",
       "      <th></th>\n",
       "      <th></th>\n",
       "      <th></th>\n",
       "      <th></th>\n",
       "      <th></th>\n",
       "      <th></th>\n",
       "      <th></th>\n",
       "      <th></th>\n",
       "      <th></th>\n",
       "      <th></th>\n",
       "      <th></th>\n",
       "      <th></th>\n",
       "      <th></th>\n",
       "      <th></th>\n",
       "      <th></th>\n",
       "      <th></th>\n",
       "      <th></th>\n",
       "      <th></th>\n",
       "      <th></th>\n",
       "      <th></th>\n",
       "      <th></th>\n",
       "    </tr>\n",
       "  </thead>\n",
       "  <tbody>\n",
       "    <tr>\n",
       "      <th>1000688749</th>\n",
       "      <td>2000207076</td>\n",
       "      <td>1-Feb</td>\n",
       "      <td>Evergreen</td>\n",
       "      <td>Shopping Cart Page</td>\n",
       "      <td>Purchases</td>\n",
       "      <td>Website Custom Audience</td>\n",
       "      <td>Brand Logo + Generic CTA</td>\n",
       "      <td>Video</td>\n",
       "      <td>F</td>\n",
       "      <td>Conversion</td>\n",
       "      <td>...</td>\n",
       "      <td>34.0</td>\n",
       "      <td>32.0</td>\n",
       "      <td>19.48</td>\n",
       "      <td>0.012816</td>\n",
       "      <td>1.52</td>\n",
       "      <td>NaN</td>\n",
       "      <td>28.91</td>\n",
       "      <td>28.91</td>\n",
       "      <td>0.092364</td>\n",
       "      <td>0.850294</td>\n",
       "    </tr>\n",
       "    <tr>\n",
       "      <th>1000500780</th>\n",
       "      <td>2000207820</td>\n",
       "      <td>1-Feb</td>\n",
       "      <td>Evergreen</td>\n",
       "      <td>Product Page</td>\n",
       "      <td>Purchasers, Shopping Cart</td>\n",
       "      <td>Website Custom Audience</td>\n",
       "      <td>Brand Logo + Generic CTA</td>\n",
       "      <td>Video</td>\n",
       "      <td>F</td>\n",
       "      <td>Conversion</td>\n",
       "      <td>...</td>\n",
       "      <td>105.0</td>\n",
       "      <td>90.0</td>\n",
       "      <td>16.61</td>\n",
       "      <td>0.009648</td>\n",
       "      <td>1.74</td>\n",
       "      <td>NaN</td>\n",
       "      <td>59.11</td>\n",
       "      <td>59.11</td>\n",
       "      <td>0.098353</td>\n",
       "      <td>0.562952</td>\n",
       "    </tr>\n",
       "    <tr>\n",
       "      <th>1000813554</th>\n",
       "      <td>2000207994</td>\n",
       "      <td>1-Feb</td>\n",
       "      <td>Evergreen</td>\n",
       "      <td>Home Page</td>\n",
       "      <td>Product Page, Shopping Cart, Purchasers</td>\n",
       "      <td>Website Custom Audience</td>\n",
       "      <td>Brand Logo + Generic CTA</td>\n",
       "      <td>Video</td>\n",
       "      <td>F</td>\n",
       "      <td>Conversion</td>\n",
       "      <td>...</td>\n",
       "      <td>201.0</td>\n",
       "      <td>172.0</td>\n",
       "      <td>13.46</td>\n",
       "      <td>0.007344</td>\n",
       "      <td>1.84</td>\n",
       "      <td>NaN</td>\n",
       "      <td>84.56</td>\n",
       "      <td>84.55</td>\n",
       "      <td>0.045901</td>\n",
       "      <td>0.420647</td>\n",
       "    </tr>\n",
       "  </tbody>\n",
       "</table>\n",
       "<p>3 rows × 30 columns</p>\n",
       "</div>"
      ],
      "text/plain": [
       "            Placement ID   Date   Campaign            Audience  \\\n",
       "AD ID                                                            \n",
       "1000688749    2000207076  1-Feb  Evergreen  Shopping Cart Page   \n",
       "1000500780    2000207820  1-Feb  Evergreen        Product Page   \n",
       "1000813554    2000207994  1-Feb  Evergreen           Home Page   \n",
       "\n",
       "                                  Excluded Audience            Audience Type  \\\n",
       "AD ID                                                                          \n",
       "1000688749                                Purchases  Website Custom Audience   \n",
       "1000500780                Purchasers, Shopping Cart  Website Custom Audience   \n",
       "1000813554  Product Page, Shopping Cart, Purchasers  Website Custom Audience   \n",
       "\n",
       "                            Creative Post Type Gender Optimization Event  \\\n",
       "AD ID                                                                      \n",
       "1000688749  Brand Logo + Generic CTA     Video      F         Conversion   \n",
       "1000500780  Brand Logo + Generic CTA     Video      F         Conversion   \n",
       "1000813554  Brand Logo + Generic CTA     Video      F         Conversion   \n",
       "\n",
       "                ...       Video Views to 95%  Video Views to 100%  CPM        \\\n",
       "AD ID           ...                                                            \n",
       "1000688749      ...                     34.0                 32.0      19.48   \n",
       "1000500780      ...                    105.0                 90.0      16.61   \n",
       "1000813554      ...                    201.0                172.0      13.46   \n",
       "\n",
       "            CTR        CPC        Work  CTM Confirm  CPC Confirm       CPV  \\\n",
       "AD ID                                                                        \n",
       "1000688749   0.012816       1.52   NaN        28.91        28.91  0.092364   \n",
       "1000500780   0.009648       1.74   NaN        59.11        59.11  0.098353   \n",
       "1000813554   0.007344       1.84   NaN        84.56        84.55  0.045901   \n",
       "\n",
       "            CPCompletion  \n",
       "AD ID                     \n",
       "1000688749      0.850294  \n",
       "1000500780      0.562952  \n",
       "1000813554      0.420647  \n",
       "\n",
       "[3 rows x 30 columns]"
      ]
     },
     "execution_count": 70,
     "metadata": {},
     "output_type": "execute_result"
    }
   ],
   "source": [
    "VaynerData[VaynerData['Post Type']=='Video'].head(3)"
   ]
  },
  {
   "cell_type": "code",
   "execution_count": 71,
   "metadata": {},
   "outputs": [
    {
     "data": {
      "text/plain": [
       "Creative\n",
       "Brand Logo + Free Shipping CTA                0.056942\n",
       "Brand Logo + Generic CTA                      0.038709\n",
       "Brand Logo + Save Now CTA                     0.038649\n",
       "Brand Logo + Valentine's Day Messaging CTA    0.040292\n",
       "Free Shipping + Free Shipping CTA             0.059527\n",
       "Valentine's Day + Generic CTA                 0.040889\n",
       "Valentine's Day + Valentine's Day CTA         0.064897\n",
       "Name: CPV, dtype: float64"
      ]
     },
     "execution_count": 71,
     "metadata": {},
     "output_type": "execute_result"
    }
   ],
   "source": [
    "VaynerData[VaynerData['Post Type']=='Video'].groupby('Creative')['CPV'].mean()"
   ]
  },
  {
   "cell_type": "code",
   "execution_count": 72,
   "metadata": {},
   "outputs": [
    {
     "data": {
      "text/plain": [
       "Creative\n",
       "Brand Logo + Free Shipping CTA                0.422254\n",
       "Brand Logo + Generic CTA                      0.287473\n",
       "Brand Logo + Save Now CTA                     0.288599\n",
       "Brand Logo + Valentine's Day Messaging CTA    0.295812\n",
       "Free Shipping + Free Shipping CTA             0.453453\n",
       "Valentine's Day + Generic CTA                 0.307511\n",
       "Valentine's Day + Valentine's Day CTA         0.432432\n",
       "Name: CPCompletion, dtype: float64"
      ]
     },
     "execution_count": 72,
     "metadata": {},
     "output_type": "execute_result"
    }
   ],
   "source": [
    "VaynerData[VaynerData['Post Type']=='Video'].groupby('Creative')['CPCompletion'].mean()"
   ]
  },
  {
   "cell_type": "markdown",
   "metadata": {},
   "source": [
    "**Question 3**\n",
    "\n",
    "Create a Table that shows Spend, CPM, CTR and CPC for each Creative\n",
    "\n",
    "A: See Table Below. I gathered the total Media Spend and combined it with the average CPM, CTR and CPC for each creative and put them together in a table."
   ]
  },
  {
   "cell_type": "code",
   "execution_count": 81,
   "metadata": {},
   "outputs": [],
   "source": [
    "spend = VaynerData.groupby('Creative')['Media Spend'].sum()"
   ]
  },
  {
   "cell_type": "code",
   "execution_count": 85,
   "metadata": {},
   "outputs": [],
   "source": [
    "others = VaynerData.groupby('Creative')['CPM      ', 'CTR      ', 'CPC      '].mean()"
   ]
  },
  {
   "cell_type": "code",
   "execution_count": 90,
   "metadata": {},
   "outputs": [
    {
     "data": {
      "text/html": [
       "<div>\n",
       "<style>\n",
       "    .dataframe thead tr:only-child th {\n",
       "        text-align: right;\n",
       "    }\n",
       "\n",
       "    .dataframe thead th {\n",
       "        text-align: left;\n",
       "    }\n",
       "\n",
       "    .dataframe tbody tr th {\n",
       "        vertical-align: top;\n",
       "    }\n",
       "</style>\n",
       "<table border=\"1\" class=\"dataframe\">\n",
       "  <thead>\n",
       "    <tr style=\"text-align: right;\">\n",
       "      <th></th>\n",
       "      <th>Media Spend</th>\n",
       "      <th>CPM</th>\n",
       "      <th>CTR</th>\n",
       "      <th>CPC</th>\n",
       "    </tr>\n",
       "    <tr>\n",
       "      <th>Creative</th>\n",
       "      <th></th>\n",
       "      <th></th>\n",
       "      <th></th>\n",
       "      <th></th>\n",
       "    </tr>\n",
       "  </thead>\n",
       "  <tbody>\n",
       "    <tr>\n",
       "      <th>Brand Logo + Free Shipping CTA</th>\n",
       "      <td>9349.39</td>\n",
       "      <td>13.143214</td>\n",
       "      <td>0.013068</td>\n",
       "      <td>1.023929</td>\n",
       "    </tr>\n",
       "    <tr>\n",
       "      <th>Brand Logo + Generic CTA</th>\n",
       "      <td>54924.38</td>\n",
       "      <td>8.849893</td>\n",
       "      <td>0.009094</td>\n",
       "      <td>1.028627</td>\n",
       "    </tr>\n",
       "    <tr>\n",
       "      <th>Brand Logo + Save Now CTA</th>\n",
       "      <td>58319.63</td>\n",
       "      <td>8.890589</td>\n",
       "      <td>0.009951</td>\n",
       "      <td>0.949216</td>\n",
       "    </tr>\n",
       "    <tr>\n",
       "      <th>Brand Logo + Valentine's Day Messaging CTA</th>\n",
       "      <td>23331.03</td>\n",
       "      <td>9.296656</td>\n",
       "      <td>0.012357</td>\n",
       "      <td>0.819437</td>\n",
       "    </tr>\n",
       "    <tr>\n",
       "      <th>Free Shipping + Free Shipping CTA</th>\n",
       "      <td>13401.07</td>\n",
       "      <td>13.140893</td>\n",
       "      <td>0.013248</td>\n",
       "      <td>1.012679</td>\n",
       "    </tr>\n",
       "    <tr>\n",
       "      <th>Valentine's Day + Generic CTA</th>\n",
       "      <td>27204.47</td>\n",
       "      <td>9.445762</td>\n",
       "      <td>0.011470</td>\n",
       "      <td>0.893232</td>\n",
       "    </tr>\n",
       "    <tr>\n",
       "      <th>Valentine's Day + Valentine's Day CTA</th>\n",
       "      <td>1836.90</td>\n",
       "      <td>16.120833</td>\n",
       "      <td>0.019791</td>\n",
       "      <td>0.869167</td>\n",
       "    </tr>\n",
       "  </tbody>\n",
       "</table>\n",
       "</div>"
      ],
      "text/plain": [
       "                                            Media Spend  CPM        CTR        \\\n",
       "Creative                                                                        \n",
       "Brand Logo + Free Shipping CTA                  9349.39  13.143214   0.013068   \n",
       "Brand Logo + Generic CTA                       54924.38   8.849893   0.009094   \n",
       "Brand Logo + Save Now CTA                      58319.63   8.890589   0.009951   \n",
       "Brand Logo + Valentine's Day Messaging CTA     23331.03   9.296656   0.012357   \n",
       "Free Shipping + Free Shipping CTA              13401.07  13.140893   0.013248   \n",
       "Valentine's Day + Generic CTA                  27204.47   9.445762   0.011470   \n",
       "Valentine's Day + Valentine's Day CTA           1836.90  16.120833   0.019791   \n",
       "\n",
       "                                            CPC        \n",
       "Creative                                               \n",
       "Brand Logo + Free Shipping CTA               1.023929  \n",
       "Brand Logo + Generic CTA                     1.028627  \n",
       "Brand Logo + Save Now CTA                    0.949216  \n",
       "Brand Logo + Valentine's Day Messaging CTA   0.819437  \n",
       "Free Shipping + Free Shipping CTA            1.012679  \n",
       "Valentine's Day + Generic CTA                0.893232  \n",
       "Valentine's Day + Valentine's Day CTA        0.869167  "
      ]
     },
     "execution_count": 90,
     "metadata": {},
     "output_type": "execute_result"
    }
   ],
   "source": [
    "new_table = pd.DataFrame(spend).merge(others, left_index=True, right_index=True)\n",
    "new_table.to_excel(writer, 'Q3 - Table')\n",
    "new_table"
   ]
  },
  {
   "cell_type": "markdown",
   "metadata": {},
   "source": [
    "**Question 4**\n",
    "\n",
    "Please join the DCM data to the Facebook Data. What is the ROAS of each Audience Type?\n",
    "\n",
    "A: First I merged the data sets and you can see an example of that below. Then I took the sum of the Media spend and Total revenue values for each Audience group and divided Total Revenue by Media Spend to obtain an ROAS value. \n",
    "\n",
    "Audience | ROAS\n",
    "---|---\n",
    "Frequent In-Store Purchasers | 4.350430\n",
    "Home Page | 4.456042\n",
    "Interested In: Competitors | 0.662357\n",
    "Interested In: High-End Retail | 1.288538\n",
    "Interested In: Shopping and Fashion | 2.350567\n",
    "Lapsed Purchasers | 3.112948\n",
    "Product Page | 5.756612\n",
    "Shopping Cart Page | 7.572003\n",
    "Top Purchasers Lookalike 1% | 2.643213\n",
    "Top Purchasers Lookalike 2% | 3.019180"
   ]
  },
  {
   "cell_type": "code",
   "execution_count": 97,
   "metadata": {},
   "outputs": [
    {
     "data": {
      "text/html": [
       "<div>\n",
       "<style>\n",
       "    .dataframe thead tr:only-child th {\n",
       "        text-align: right;\n",
       "    }\n",
       "\n",
       "    .dataframe thead th {\n",
       "        text-align: left;\n",
       "    }\n",
       "\n",
       "    .dataframe tbody tr th {\n",
       "        vertical-align: top;\n",
       "    }\n",
       "</style>\n",
       "<table border=\"1\" class=\"dataframe\">\n",
       "  <thead>\n",
       "    <tr style=\"text-align: right;\">\n",
       "      <th></th>\n",
       "      <th>Placement ID</th>\n",
       "      <th>Date</th>\n",
       "      <th>Campaign</th>\n",
       "      <th>Audience</th>\n",
       "      <th>Excluded Audience</th>\n",
       "      <th>Audience Type</th>\n",
       "      <th>Creative</th>\n",
       "      <th>Post Type</th>\n",
       "      <th>Gender</th>\n",
       "      <th>Optimization Event</th>\n",
       "      <th>...</th>\n",
       "      <th>Video Views to 95%</th>\n",
       "      <th>Video Views to 100%</th>\n",
       "      <th>CPM</th>\n",
       "      <th>CTR</th>\n",
       "      <th>CPC</th>\n",
       "      <th>Work</th>\n",
       "      <th>CTM Confirm</th>\n",
       "      <th>CPC Confirm</th>\n",
       "      <th>Purchases</th>\n",
       "      <th>Total Revenue</th>\n",
       "    </tr>\n",
       "    <tr>\n",
       "      <th>AD ID</th>\n",
       "      <th></th>\n",
       "      <th></th>\n",
       "      <th></th>\n",
       "      <th></th>\n",
       "      <th></th>\n",
       "      <th></th>\n",
       "      <th></th>\n",
       "      <th></th>\n",
       "      <th></th>\n",
       "      <th></th>\n",
       "      <th></th>\n",
       "      <th></th>\n",
       "      <th></th>\n",
       "      <th></th>\n",
       "      <th></th>\n",
       "      <th></th>\n",
       "      <th></th>\n",
       "      <th></th>\n",
       "      <th></th>\n",
       "      <th></th>\n",
       "      <th></th>\n",
       "    </tr>\n",
       "  </thead>\n",
       "  <tbody>\n",
       "    <tr>\n",
       "      <th>1000281165</th>\n",
       "      <td>2000200268</td>\n",
       "      <td>1-Feb</td>\n",
       "      <td>Evergreen</td>\n",
       "      <td>Shopping Cart Page</td>\n",
       "      <td>Purchases</td>\n",
       "      <td>Website Custom Audience</td>\n",
       "      <td>Brand Logo + Generic CTA</td>\n",
       "      <td>Photo</td>\n",
       "      <td>F</td>\n",
       "      <td>Conversion</td>\n",
       "      <td>...</td>\n",
       "      <td>NaN</td>\n",
       "      <td>NaN</td>\n",
       "      <td>19.72</td>\n",
       "      <td>0.015345</td>\n",
       "      <td>1.27</td>\n",
       "      <td>NaN</td>\n",
       "      <td>15.26</td>\n",
       "      <td>15.26</td>\n",
       "      <td>1</td>\n",
       "      <td>97</td>\n",
       "    </tr>\n",
       "    <tr>\n",
       "      <th>1000141830</th>\n",
       "      <td>2000200714</td>\n",
       "      <td>1-Feb</td>\n",
       "      <td>Evergreen</td>\n",
       "      <td>Product Page</td>\n",
       "      <td>Purchasers, Shopping Cart</td>\n",
       "      <td>Website Custom Audience</td>\n",
       "      <td>Brand Logo + Generic CTA</td>\n",
       "      <td>Photo</td>\n",
       "      <td>F</td>\n",
       "      <td>Conversion</td>\n",
       "      <td>...</td>\n",
       "      <td>NaN</td>\n",
       "      <td>NaN</td>\n",
       "      <td>16.74</td>\n",
       "      <td>0.012474</td>\n",
       "      <td>1.33</td>\n",
       "      <td>NaN</td>\n",
       "      <td>49.12</td>\n",
       "      <td>49.12</td>\n",
       "      <td>3</td>\n",
       "      <td>399</td>\n",
       "    </tr>\n",
       "    <tr>\n",
       "      <th>1000659879</th>\n",
       "      <td>2000200882</td>\n",
       "      <td>1-Feb</td>\n",
       "      <td>Evergreen</td>\n",
       "      <td>Home Page</td>\n",
       "      <td>Product Page, Shopping Cart, Purchasers</td>\n",
       "      <td>Website Custom Audience</td>\n",
       "      <td>Brand Logo + Generic CTA</td>\n",
       "      <td>Photo</td>\n",
       "      <td>F</td>\n",
       "      <td>Conversion</td>\n",
       "      <td>...</td>\n",
       "      <td>NaN</td>\n",
       "      <td>NaN</td>\n",
       "      <td>13.16</td>\n",
       "      <td>0.010494</td>\n",
       "      <td>1.25</td>\n",
       "      <td>NaN</td>\n",
       "      <td>81.37</td>\n",
       "      <td>81.37</td>\n",
       "      <td>3</td>\n",
       "      <td>261</td>\n",
       "    </tr>\n",
       "  </tbody>\n",
       "</table>\n",
       "<p>3 rows × 30 columns</p>\n",
       "</div>"
      ],
      "text/plain": [
       "            Placement ID   Date   Campaign            Audience  \\\n",
       "AD ID                                                            \n",
       "1000281165    2000200268  1-Feb  Evergreen  Shopping Cart Page   \n",
       "1000141830    2000200714  1-Feb  Evergreen        Product Page   \n",
       "1000659879    2000200882  1-Feb  Evergreen           Home Page   \n",
       "\n",
       "                                  Excluded Audience            Audience Type  \\\n",
       "AD ID                                                                          \n",
       "1000281165                                Purchases  Website Custom Audience   \n",
       "1000141830                Purchasers, Shopping Cart  Website Custom Audience   \n",
       "1000659879  Product Page, Shopping Cart, Purchasers  Website Custom Audience   \n",
       "\n",
       "                            Creative Post Type Gender Optimization Event  \\\n",
       "AD ID                                                                      \n",
       "1000281165  Brand Logo + Generic CTA     Photo      F         Conversion   \n",
       "1000141830  Brand Logo + Generic CTA     Photo      F         Conversion   \n",
       "1000659879  Brand Logo + Generic CTA     Photo      F         Conversion   \n",
       "\n",
       "                ...        Video Views to 95%  Video Views to 100%  CPM        \\\n",
       "AD ID           ...                                                             \n",
       "1000281165      ...                       NaN                  NaN      19.72   \n",
       "1000141830      ...                       NaN                  NaN      16.74   \n",
       "1000659879      ...                       NaN                  NaN      13.16   \n",
       "\n",
       "            CTR        CPC        Work  CTM Confirm  CPC Confirm  Purchases  \\\n",
       "AD ID                                                                         \n",
       "1000281165   0.015345       1.27   NaN        15.26        15.26          1   \n",
       "1000141830   0.012474       1.33   NaN        49.12        49.12          3   \n",
       "1000659879   0.010494       1.25   NaN        81.37        81.37          3   \n",
       "\n",
       "            Total Revenue  \n",
       "AD ID                      \n",
       "1000281165             97  \n",
       "1000141830            399  \n",
       "1000659879            261  \n",
       "\n",
       "[3 rows x 30 columns]"
      ]
     },
     "execution_count": 97,
     "metadata": {},
     "output_type": "execute_result"
    }
   ],
   "source": [
    "facebook_site_data = VaynerData.merge(site_data, left_on='Placement ID', right_index=True)\n",
    "facebook_site_data.head(3)"
   ]
  },
  {
   "cell_type": "code",
   "execution_count": 98,
   "metadata": {},
   "outputs": [
    {
     "data": {
      "text/plain": [
       "Audience\n",
       "Frequent In-Store Purchasers           4.350430\n",
       "Home Page                              4.456042\n",
       "Interested In: Competitors             0.662357\n",
       "Interested In: High-End Retail         1.288538\n",
       "Interested In: Shopping and Fashion    2.350567\n",
       "Lapsed Purchasers                      3.112948\n",
       "Product Page                           5.756612\n",
       "Shopping Cart Page                     7.572003\n",
       "Top Purchasers Lookalike 1%            2.643213\n",
       "Top Purchasers Lookalike 2%            3.019180\n",
       "dtype: float64"
      ]
     },
     "execution_count": 98,
     "metadata": {},
     "output_type": "execute_result"
    }
   ],
   "source": [
    "total_spending = facebook_site_data.groupby('Audience')['Media Spend'].sum()\n",
    "total_revenue = facebook_site_data.groupby('Audience')['Total Revenue'].sum()\n",
    "total_revenue/total_spending"
   ]
  },
  {
   "cell_type": "markdown",
   "metadata": {},
   "source": [
    "**Question 5**\n",
    "\n",
    "Research the following Custom Audience, Website Custom Audiences, & Lookalikes. Explain how each audience is created and how it performed relative to other audiences. \n",
    "\n",
    "A:  \n",
    "Custom Audiences are created from a custom list of customers that you provide, it seems very basic and looks as though you will need to grow such a list manually. The Frequent and Lapsed Purchasers are custom audience built from a list that the buisines would have built up over time.\n",
    "\n",
    "Website Custom Audiences are created by scraping actions on your website using Facebook Pixel and facebook will automatically update this audience. All the website data is being scraped using the facebook pixel and thus created different audiences based on users who went to the home page, product page and shopping cart page.\n",
    "\n",
    "Lastly we have look-alikes which are created using a facebook algorithm to find people not in your list that be have similarly to the source audience you provide. Our lookalikes were created from sampling a customer list of the top purchasers.\n",
    "\n",
    "Audience | Creation\n",
    "---|---\n",
    "Frequent In-Store Purchasers | Custom Audience\n",
    "Home Page | Website Custom Audience\n",
    "Interested In: Competitors | FB Core Audience\n",
    "Interested In: High-End Retail | FB Core Audience\n",
    "Interested In: Shopping and Fashion | FB Core Audience\n",
    "Lapsed Purchasers | Custom Audience\n",
    "Product Page | Website Custom Audience\n",
    "Shopping Cart Page | Website Custom Audience\n",
    "Top Purchasers Lookalike 1% | Lookalike\n",
    "Top Purchasers Lookalike 2% | Lookalike\n",
    "\n",
    "The FB Core audiences which are all the ones names \"Interested In\" perform very poorly. This is most likely because these groups are so generic that finding users who are interested in the product is not as likely as some of the other audiences. The best performing audience is the Website Custom Audience, Home Page, Product Page, and Shopping Cart Page are all top performers. However this could be misleading data as an audience who already is clicking on your website is much more likely to going to be buying product anyway. There is a possibility this value is inflated. This inflation of value may also be occuring with the custom audiences, Frequent Purchasers and Lasped Purchasers since they are known to buy product and thus there is a possibility especially with Frequent Purchasers that they may have returned to buy product even without seeing the add. The most interesting group to me would be the lookalikes because these people behave similar to your current audiences but are not associated with them. While the ROAS is not as strong as the custom audiences this audience seems most likely to make new customers."
   ]
  },
  {
   "cell_type": "markdown",
   "metadata": {},
   "source": [
    "**Question 6**\n",
    "\n",
    "Create a Chart to show Daily ROAS performance.\n",
    "\n",
    "A: For this question since there is not specified Audience or grouping I will use total ROAS over all the data in each day. See the plot below."
   ]
  },
  {
   "cell_type": "code",
   "execution_count": 116,
   "metadata": {},
   "outputs": [
    {
     "data": {
      "image/png": "[encoded data removed]",
      "text/plain": [
       "<matplotlib.figure.Figure at 0x1c76d2f7048>"
      ]
     },
     "metadata": {},
     "output_type": "display_data"
    }
   ],
   "source": [
    "num_days = len(facebook_site_data['Date'].unique())\n",
    "roas = facebook_site_data.groupby('Date')['Total Revenue'].sum()/facebook_site_data.groupby('Date')['Media Spend'].sum()\n",
    "roas_daily = []\n",
    "for date in facebook_site_data['Date'].unique():\n",
    "    roas_daily.append(roas[date])\n",
    "plt.plot(range(num_days), roas_daily)\n",
    "plt.title(\"ROAS performance per day\")\n",
    "plt.xlabel('Day')\n",
    "plt.ylabel('ROAS')\n",
    "plt.show()"
   ]
  },
  {
   "cell_type": "markdown",
   "metadata": {},
   "source": [
    "**Question 7**\n",
    "\n",
    "Create a chart that shows CPC and CTR performance by Audience\n",
    "\n",
    "A: See Chart Below."
   ]
  },
  {
   "cell_type": "code",
   "execution_count": 164,
   "metadata": {},
   "outputs": [
    {
     "data": {
      "image/png": "[encoded data removed]",
      "text/plain": [
       "<matplotlib.figure.Figure at 0x1c76d280390>"
      ]
     },
     "metadata": {},
     "output_type": "display_data"
    }
   ],
   "source": [
    "CPC = facebook_site_data.groupby('Audience')['CPC      '].mean()\n",
    "CTR = facebook_site_data.groupby('Audience')['CTR      '].mean()*100\n",
    "audiences = list(facebook_site_data['Audience'].unique())\n",
    "width=0.3\n",
    "inds = np.arange(len(audiences))\n",
    "cpc = plt.barh(inds, list(CPC), width, color='blue')\n",
    "ctr = plt.barh(inds+width, list(CTR), width, color='red')\n",
    "plt.yticks(inds + width/2, audiences)\n",
    "plt.legend([cpc, ctr], ['CPC in Dollars', 'CTR in percent'])\n",
    "plt.show()"
   ]
  },
  {
   "cell_type": "markdown",
   "metadata": {},
   "source": [
    "** Question 8**\n",
    "\n",
    "Does amount of Daily Spend correlate to ROAS generated? Using a scatterplot and trendline, show the correlation between the two - is there a strong correlation? Explain why or why not.\n",
    "\n",
    "A: Chart will be below. There is not trend between the Daily Spend and the ROAS generated. The scatter plot has a few groups of ponts but shows no overall trends. There seems to be a downward trend at the bottom left portion of the plot but unless the other points can be proven to be outliers we can only say there is no correlation."
   ]
  },
  {
   "cell_type": "code",
   "execution_count": 174,
   "metadata": {},
   "outputs": [],
   "source": [
    "daily_spend = []\n",
    "spend = facebook_site_data.groupby('Date')['Media Spend'].sum()\n",
    "for date in facebook_site_data['Date'].unique():\n",
    "        daily_spend.append(spend[date])"
   ]
  },
  {
   "cell_type": "code",
   "execution_count": 198,
   "metadata": {},
   "outputs": [
    {
     "data": {
      "image/png": "[encoded data removed]",
      "text/plain": [
       "<matplotlib.figure.Figure at 0x1c76d50edd8>"
      ]
     },
     "metadata": {},
     "output_type": "display_data"
    }
   ],
   "source": [
    "plt.scatter(roas_daily, daily_spend, color='Blue', marker='o')\n",
    "z = np.polyfit(roas_daily, daily_spend, 1)\n",
    "trendline = np.poly1d(z)\n",
    "plt.plot(roas_daily, trendline(roas_daily), color='black')\n",
    "plt.title('Scatter plot of Daily spend versus Daily ROAS')\n",
    "plt.xlabel('ROAS')\n",
    "plt.ylabel('Daily Spend')\n",
    "plt.show()"
   ]
  },
  {
   "cell_type": "markdown",
   "metadata": {},
   "source": [
    "**Question 9**\n",
    "\n",
    "Which Metric in the chart from question 3 would you use to determine which creative performed best and why? Which creative performed best by this metric.\n",
    "\n",
    "A: I've remade the chart from question 3 below for reference. The Best metric from this chart is the CPC, this is because CPC is inherently robust against the main factors which signify a bad ad campaign. Two easy examples of bad ad campaigns are a great ad with low reach and a poor ad with great reach. In the first case we would see a great click through rate but high CPM since there was not a lot of impressions and CPC will be high because it is a poor campaign. In the second case the CTR will be very poor but the CPM will be low. A low CPM might make you think that the ad performed well but it didn't get many clicks and so CPC will also be high in this case. Thus CPC being robust is the best choice. I did not consider Media Spend because judging the success of an ad campaign based on how much you spent on it is ridiculous. \n",
    "\n",
    "Now that we have determined that the best metric is CPC we see that the lowest CPC value and thus the highest click efficieny add was the **Brand Logo + Valentine's Day CTA**. \n",
    "\n",
    "\n",
    "Media | Spend | CPM | CTR |\tCPC\n",
    "---|---|---|---\t\t\t\t\n",
    "Brand Logo + Free Shipping CTA | 9349.39 | 13.143214 | 0.013068 | 1.023929\n",
    "Brand Logo + Generic CTA | 54924.38 | 8.849893 | 0.009094 | 1.028627\n",
    "Brand Logo + Save Now CTA | 58319.63 | 8.890589 | 0.009951 | 0.949216\n",
    "Brand Logo + Valentine's Day Messaging CTA | 23331.03 | 9.296656 | 0.012357 | 0.819437\n",
    "Free Shipping + Free Shipping CTA | 13401.07 | 13.140893 | 0.013248 | 1.012679\n",
    "Valentine's Day + Generic CTA | 27204.47 | 9.445762 | 0.011470 | 0.893232\n",
    "Valentine's Day + Valentine's Day CTA | 1836.90 | 16.120833 | 0.019791 | 0.869167\n"
   ]
  },
  {
   "cell_type": "markdown",
   "metadata": {},
   "source": [
    "**Question 10**\n",
    "\n",
    "What other factors would you consider (outside of question 9's metric) in analysing the most effective creative tactic? How could you control for this moving forward?\n",
    "\n",
    "A:\n",
    "Apart from the CPC metric I would also be interested in Cost Per Video Completion and ROAS as ways to analyze the most effective creative tactic. This is because Cost Per Video Completion would let you evaluate how effectively the ad campaign is engaging the consumer, this factor does not fall for the pitfall of CTR because if the add is not viewed enough then even if the engagement is high the Cost will still be high. However if many people are clicking through the the end this data will be skewed. Another factor I would want to include is ROAS. this is because like Cost per Video Completion and Cost per Click it takes into account both the cost and the return of the ad campaign. ROAS is a factor that is robust to high reach because it accounts for the amount of money being spent. It also does not fall into the pit trap of a high engagement low reach because the total revenue will be low in that model. To help control for these effective performance indicators we would want to make sure that future ads are judged off not only their costs but also their engagement. The last factor that I would be interested in looking at to determing the effectiveness is comment-to-like ratio or possibly comment-to-share ratio. These ideas continue with the idea that engagement should be maximized but reach should not suffer. A comment-to-like(or share) ratio gives us an engagement factor (comment) as well as a reach factor(likes/shares). One issue with this factor is that there is no good threshold. Low engagement high reach produces a small value while high engagement low reach moves you towards 1. \n",
    "\n",
    "I see two main strategies moving forward. The first is essentiall A/B testing, running multiple low engagement ads to find the most effective creative before pushing to large scale. The second would be to run all ad campaigns at a large scale to avoid any analysis issues that arise from weighting engagement per view too heavily. \n"
   ]
  },
  {
   "cell_type": "markdown",
   "metadata": {},
   "source": [
    "**Question 11**\n",
    "\n",
    "What would you have done to optimize this campaign?\n",
    "\n",
    "A: There are a lot of factors to consider when optimizine this campaign. You have to understand how each variable change affects the factors which represent effective performance. I will minimize CPC as a metric for optimizing this campaign though if more time permits more factors should be used and potentially algorithms implemented to determine which combination of factors predicts success the best.\n",
    "\n",
    "Below I have compared different variables by there effect on the mean CPC of the campaign. Since we are minimizing CPC only for simplicity we will choose the minimums for CPC to base our campaign strategies around. \n",
    "\n",
    "Variable | Optimization\n",
    "---|---\n",
    "Gender | Choosing M/F while not the minimum is the best choice since we do not limit the reach of the ad and see a minimal increase in CPC\n",
    "Audience | The highest value group when minimizing for CPC are those Interested in: Shopping and Fashion this should be the main target audience, but we have seen success with the lookalikes which may be relevant for if multiple campaigns are run.\n",
    "Post Type | The clear choice here is photo. It provides a significant decrease in CPC\n",
    "Excluded Audience | Excluding all users who visit the businesses website because they are already likely customers and are less likely to click and ad for a brand they use/buy from.\n",
    "Creative | the best pick here is Brand Logo + Valentines day. Not only does this minimize our CPC it also promotes the brand which is a good move in the long run. \n",
    "\n",
    "Even though this ad campaign may do well for CPC optimizing a campaign or anything solely on one trait leaves it open to a lot of vulerabilities. It is simply possible that in the case of Photos vs. Video that a Photo is cheaper to produce and thus lowers CPC without providing benefit to the add campaign. A simple sanity check shows us that videos out perform photos in both engagement(Comments and clicks) and Reach(Likes, shares, impressions).\n",
    "\n",
    "Impressions | Likes | Shares | Clicks | Comments\n",
    "---|---|---|---|---\t\t\t\t\n",
    "Photo | 7803072 | 7742 | 2211 | 99297 | 4094\n",
    "Video | 12436907 | 12416 | 3920 | 115051 | 6167\n",
    "\n",
    "Further work must be done to optimize this campaign fully, but optimizing based on CPC is a start. Future optimizations would want to include balancing factors mentioned in question 10 such as Cost Per Video Completion now that we see Video is infact better than Photo and ROAS to make sure that monetary returns are being accounted for. "
   ]
  },
  {
   "cell_type": "code",
   "execution_count": 204,
   "metadata": {},
   "outputs": [
    {
     "data": {
      "text/plain": [
       "Gender\n",
       "F      1.026768\n",
       "M      0.919562\n",
       "M/F    0.932112\n",
       "Name: CPC      , dtype: float64"
      ]
     },
     "execution_count": 204,
     "metadata": {},
     "output_type": "execute_result"
    }
   ],
   "source": [
    "facebook_site_data.groupby('Gender')['CPC      '].mean()"
   ]
  },
  {
   "cell_type": "code",
   "execution_count": 203,
   "metadata": {},
   "outputs": [
    {
     "data": {
      "text/plain": [
       "Audience\n",
       "Frequent In-Store Purchasers           0.860042\n",
       "Home Page                              1.052521\n",
       "Interested In: Competitors             1.402719\n",
       "Interested In: High-End Retail         0.887544\n",
       "Interested In: Shopping and Fashion    0.590601\n",
       "Lapsed Purchasers                      1.021674\n",
       "Product Page                           1.015975\n",
       "Shopping Cart Page                     1.058591\n",
       "Top Purchasers Lookalike 1%            1.122394\n",
       "Top Purchasers Lookalike 2%            1.019809\n",
       "Name: CPC      , dtype: float64"
      ]
     },
     "execution_count": 203,
     "metadata": {},
     "output_type": "execute_result"
    }
   ],
   "source": [
    "facebook_site_data.groupby('Audience')['CPC      '].mean()"
   ]
  },
  {
   "cell_type": "code",
   "execution_count": 206,
   "metadata": {},
   "outputs": [
    {
     "data": {
      "text/plain": [
       "Post Type\n",
       "Photo    0.870871\n",
       "Video    1.073532\n",
       "Name: CPC      , dtype: float64"
      ]
     },
     "execution_count": 206,
     "metadata": {},
     "output_type": "execute_result"
    }
   ],
   "source": [
    "facebook_site_data.groupby('Post Type')['CPC      '].mean()"
   ]
  },
  {
   "cell_type": "code",
   "execution_count": 207,
   "metadata": {},
   "outputs": [
    {
     "data": {
      "text/plain": [
       "Excluded Audience\n",
       "All Site Visitors                          0.940022\n",
       "Product Page, Shopping Cart, Purchasers    1.047888\n",
       "Purchasers, Shopping Cart                  1.011185\n",
       "Purchases                                  1.054375\n",
       "Name: CPC      , dtype: float64"
      ]
     },
     "execution_count": 207,
     "metadata": {},
     "output_type": "execute_result"
    }
   ],
   "source": [
    "facebook_site_data.groupby('Excluded Audience')['CPC      '].mean()"
   ]
  },
  {
   "cell_type": "code",
   "execution_count": 208,
   "metadata": {},
   "outputs": [
    {
     "data": {
      "text/plain": [
       "Creative\n",
       "Brand Logo + Free Shipping CTA                1.023929\n",
       "Brand Logo + Generic CTA                      1.028627\n",
       "Brand Logo + Save Now CTA                     0.949216\n",
       "Brand Logo + Valentine's Day Messaging CTA    0.819437\n",
       "Free Shipping + Free Shipping CTA             1.012679\n",
       "Valentine's Day + Generic CTA                 0.893232\n",
       "Valentine's Day + Valentine's Day CTA         0.869167\n",
       "Name: CPC      , dtype: float64"
      ]
     },
     "execution_count": 208,
     "metadata": {},
     "output_type": "execute_result"
    }
   ],
   "source": [
    "facebook_site_data.groupby('Creative')['CPC      '].mean()"
   ]
  },
  {
   "cell_type": "code",
   "execution_count": 224,
   "metadata": {},
   "outputs": [
    {
     "data": {
      "text/html": [
       "<div>\n",
       "<style>\n",
       "    .dataframe thead tr:only-child th {\n",
       "        text-align: right;\n",
       "    }\n",
       "\n",
       "    .dataframe thead th {\n",
       "        text-align: left;\n",
       "    }\n",
       "\n",
       "    .dataframe tbody tr th {\n",
       "        vertical-align: top;\n",
       "    }\n",
       "</style>\n",
       "<table border=\"1\" class=\"dataframe\">\n",
       "  <thead>\n",
       "    <tr style=\"text-align: right;\">\n",
       "      <th></th>\n",
       "      <th>Impressions</th>\n",
       "      <th>Likes</th>\n",
       "      <th>Shares</th>\n",
       "      <th>Clicks</th>\n",
       "      <th>Comments</th>\n",
       "    </tr>\n",
       "    <tr>\n",
       "      <th>Post Type</th>\n",
       "      <th></th>\n",
       "      <th></th>\n",
       "      <th></th>\n",
       "      <th></th>\n",
       "      <th></th>\n",
       "    </tr>\n",
       "  </thead>\n",
       "  <tbody>\n",
       "    <tr>\n",
       "      <th>Photo</th>\n",
       "      <td>7803072</td>\n",
       "      <td>7742</td>\n",
       "      <td>2211</td>\n",
       "      <td>99297</td>\n",
       "      <td>4094</td>\n",
       "    </tr>\n",
       "    <tr>\n",
       "      <th>Video</th>\n",
       "      <td>12436907</td>\n",
       "      <td>12416</td>\n",
       "      <td>3920</td>\n",
       "      <td>115051</td>\n",
       "      <td>6167</td>\n",
       "    </tr>\n",
       "  </tbody>\n",
       "</table>\n",
       "</div>"
      ],
      "text/plain": [
       "           Impressions  Likes  Shares  Clicks  Comments\n",
       "Post Type                                              \n",
       "Photo          7803072   7742    2211   99297      4094\n",
       "Video         12436907  12416    3920  115051      6167"
      ]
     },
     "execution_count": 224,
     "metadata": {},
     "output_type": "execute_result"
    }
   ],
   "source": [
    "#Sanity Check\n",
    "facebook_site_data.groupby('Post Type')['Impressions','Likes', 'Shares', 'Clicks','Comments'].sum()"
   ]
  },
  {
   "cell_type": "markdown",
   "metadata": {},
   "source": [
    "**Question 12**\n",
    "\n",
    "What variables were not tested in these campaigns that would have interested you? Why?\n",
    "\n",
    "A:\n",
    "Some variables that I would find interesting that were not tested in these campaigns are colors and video length. There has been a lot of research showing that certain colors help evoke different emotions. Potentially a change of colors could affect the click through rate of the ad. Obviously a photo cannot have a longer view time but seeing how an audience reacts to different lengths of videos is very important. Its possible that some audiences would prefer a short video and others may prefer a long video. While it may seem counter intuitive I have seen several cases where a longer video not only improved the viewership of a video but its engagement as well both in watch time and comments. "
   ]
  },
  {
   "cell_type": "code",
   "execution_count": 199,
   "metadata": {
    "collapsed": true
   },
   "outputs": [],
   "source": [
    "facebook_site_data.to_excel(writer, \"Facebook + Site Data\")\n",
    "writer.save()"
   ]
  },
  {
   "cell_type": "code",
   "execution_count": null,
   "metadata": {
    "collapsed": true
   },
   "outputs": [],
   "source": []
  }
 ],
 "metadata": {
  "kernelspec": {
   "display_name": "Python 3",
   "language": "python",
   "name": "python3"
  },
  "language_info": {
   "codemirror_mode": {
    "name": "ipython",
    "version": 3
   },
   "file_extension": ".py",
   "mimetype": "text/x-python",
   "name": "python",
   "nbconvert_exporter": "python",
   "pygments_lexer": "ipython3",
   "version": "3.6.2"
  }
 },
 "nbformat": 4,
 "nbformat_minor": 2
}
