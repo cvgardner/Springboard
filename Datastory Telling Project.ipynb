{
 "cells": [
  {
   "cell_type": "markdown",
   "metadata": {
    "collapsed": true
   },
   "source": [
    "Dataset: For this datastory telling project I chose to use an old kaggle dataset which I am also using for my capstone. \n",
    "the data consists of two sets. One set represents bids that were made including information such as the time, merchandise \n",
    "and country.\n",
    "\n",
    "***Describe the data, number of elements per category, size of data***\n",
    "\n",
    "The dataset is made up of 5.2% bots\n",
    "\n",
    "Number of unique values for each column of the bid data set:\n",
    "\n",
    "\n",
    "Column Name | # of unique values\n",
    "----------- | ------------------\n",
    "Total rows | 7656334\n",
    "bidder_id | 6614\n",
    "auction | 15051\n",
    "merchandise | 10\n",
    "device | 7351\n",
    "time | 776529\n",
    "country | 199\n",
    "ip | 2303991\n",
    "url | 1786351\n",
    "f_time | 13274\n",
    "diff_time | 1222836\n",
    "\n",
    "Link to data: https://www.kaggle.com/c/facebook-recruiting-iv-human-or-bot/data\n",
    "\n",
    "Questions to ask:\n",
    "The big overall question is, \"What would distinguish a bot from a human\"\n",
    "Some of the questions we ask ourselves are,\n",
    "- Do Bots tend to bid at a certain time after a bid has opened?\n",
    "- Do they have more unique bids overall? (we would expect so)\n",
    "- Are bots more likely to come from certain countries/ips/urls?\n",
    "- Do bots tend to bid from more distinct devices, urls or IPs, etc?\n",
    "- ***are there IPs/URLs that have significant number of bots/different users high percentages or low percentage bots***\n",
    "We will explore some of these questions as well as similar ones and then see if further questions and plots should be examined."
   ]
  },
  {
   "cell_type": "code",
   "execution_count": 93,
   "metadata": {
    "collapsed": true
   },
   "outputs": [],
   "source": [
    "#Importing and uploading data\n",
    "import numpy as np\n",
    "import pandas as pd\n",
    "import matplotlib.pyplot as plt\n",
    "\n",
    "bids = pd.DataFrame.from_csv('C:/Users/Christopher Gardner/Documents/Python Scripts/bids.csv')\n",
    "train = pd.DataFrame.from_csv('C:/Users/Christopher Gardner/Documents/Python Scripts/train.csv')\n",
    "\n",
    "#adding final time features created by subtracting bid time from the last time in the auction. \n",
    "test_df = pd.DataFrame.from_csv('C:/Users/Christopher Gardner/Documents/Python Scripts/final_times.csv')\n",
    "test_df.columns = ['f_time']\n",
    "bids = bids.merge(test_df, left_on='auction', right_index=True)\n",
    "test_df = pd.DataFrame.from_csv('C:/Users/Christopher Gardner/Documents/Python Scripts/short_times.csv')\n",
    "test_df.columns = ['short_time']\n",
    "bids = bids.merge(test_df, left_on='bidder_id', right_index=True)\n",
    "bids['diff_time'] = bids.f_time - bids.time\n",
    "\n",
    "#create proper merge\n",
    "groupfirst = bids.groupby(bids.bidder_id).nunique().sort_index()\n",
    "mergedsecond = groupfirst.merge(train.sort_index(), left_index=True, right_index=True)\n",
    "\n",
    "#now sort by desired values, update ranking and then split into bots and humans for plotting\n",
    "mergedsecond = mergedsecond.sort_values(by=['auction'])\n",
    "mergedsecond['ranking'] = np.arange(len(mergedsecond))\n",
    "bots = mergedsecond[mergedsecond.outcome==1]\n",
    "humans = mergedsecond[mergedsecond.outcome==0]\n",
    "mergedsecond.head()\n",
    "\n",
    "#mergefirst\n",
    "mergedfirst = bids.merge(train, left_on='bidder_id', right_index=True)\n",
    "groupedsecond = mergedfirst.groupby('bidder_id').nunique()"
   ]
  },
  {
   "cell_type": "code",
   "execution_count": 94,
   "metadata": {},
   "outputs": [
    {
     "data": {
      "text/html": [
       "<div>\n",
       "<style>\n",
       "    .dataframe thead tr:only-child th {\n",
       "        text-align: right;\n",
       "    }\n",
       "\n",
       "    .dataframe thead th {\n",
       "        text-align: left;\n",
       "    }\n",
       "\n",
       "    .dataframe tbody tr th {\n",
       "        vertical-align: top;\n",
       "    }\n",
       "</style>\n",
       "<table border=\"1\" class=\"dataframe\">\n",
       "  <thead>\n",
       "    <tr style=\"text-align: right;\">\n",
       "      <th></th>\n",
       "      <th>bidder_id</th>\n",
       "      <th>auction</th>\n",
       "      <th>merchandise</th>\n",
       "      <th>device</th>\n",
       "      <th>time</th>\n",
       "      <th>country</th>\n",
       "      <th>ip</th>\n",
       "      <th>url</th>\n",
       "      <th>f_time</th>\n",
       "      <th>short_time</th>\n",
       "      <th>diff_time</th>\n",
       "      <th>payment_account</th>\n",
       "      <th>address</th>\n",
       "      <th>outcome</th>\n",
       "      <th>ranking</th>\n",
       "    </tr>\n",
       "    <tr>\n",
       "      <th>bidder_id</th>\n",
       "      <th></th>\n",
       "      <th></th>\n",
       "      <th></th>\n",
       "      <th></th>\n",
       "      <th></th>\n",
       "      <th></th>\n",
       "      <th></th>\n",
       "      <th></th>\n",
       "      <th></th>\n",
       "      <th></th>\n",
       "      <th></th>\n",
       "      <th></th>\n",
       "      <th></th>\n",
       "      <th></th>\n",
       "      <th></th>\n",
       "    </tr>\n",
       "  </thead>\n",
       "  <tbody>\n",
       "    <tr>\n",
       "      <th>001068c415025a009fee375a12cff4fcnht8y</th>\n",
       "      <td>1</td>\n",
       "      <td>1</td>\n",
       "      <td>1</td>\n",
       "      <td>1</td>\n",
       "      <td>1</td>\n",
       "      <td>1</td>\n",
       "      <td>1</td>\n",
       "      <td>1</td>\n",
       "      <td>1</td>\n",
       "      <td>1</td>\n",
       "      <td>1</td>\n",
       "      <td>a3d2de7675556553a5f08e4c88d2c228iiasc</td>\n",
       "      <td>a3d2de7675556553a5f08e4c88d2c2282aj35</td>\n",
       "      <td>0.0</td>\n",
       "      <td>0</td>\n",
       "    </tr>\n",
       "    <tr>\n",
       "      <th>6394edfbd35aab54801518835e33ed50hcr5f</th>\n",
       "      <td>1</td>\n",
       "      <td>1</td>\n",
       "      <td>1</td>\n",
       "      <td>1</td>\n",
       "      <td>1</td>\n",
       "      <td>1</td>\n",
       "      <td>1</td>\n",
       "      <td>1</td>\n",
       "      <td>1</td>\n",
       "      <td>1</td>\n",
       "      <td>1</td>\n",
       "      <td>618b6cc4cd96c64ebe6ae20da96f910aoy3cm</td>\n",
       "      <td>a9fe992abccea6d702209b4f250917873thms</td>\n",
       "      <td>0.0</td>\n",
       "      <td>1</td>\n",
       "    </tr>\n",
       "    <tr>\n",
       "      <th>640f41f27c03aca0c45775eb918b666cnjsqv</th>\n",
       "      <td>1</td>\n",
       "      <td>1</td>\n",
       "      <td>1</td>\n",
       "      <td>1</td>\n",
       "      <td>1</td>\n",
       "      <td>1</td>\n",
       "      <td>1</td>\n",
       "      <td>1</td>\n",
       "      <td>1</td>\n",
       "      <td>1</td>\n",
       "      <td>1</td>\n",
       "      <td>a3d2de7675556553a5f08e4c88d2c228mnv8h</td>\n",
       "      <td>a3d2de7675556553a5f08e4c88d2c228y9o07</td>\n",
       "      <td>0.0</td>\n",
       "      <td>2</td>\n",
       "    </tr>\n",
       "    <tr>\n",
       "      <th>64f6b099082e4fb2e8da7ba4ae9abdead2cej</th>\n",
       "      <td>1</td>\n",
       "      <td>1</td>\n",
       "      <td>1</td>\n",
       "      <td>2</td>\n",
       "      <td>2</td>\n",
       "      <td>1</td>\n",
       "      <td>2</td>\n",
       "      <td>1</td>\n",
       "      <td>1</td>\n",
       "      <td>1</td>\n",
       "      <td>2</td>\n",
       "      <td>a3d2de7675556553a5f08e4c88d2c2280stm7</td>\n",
       "      <td>cff80d97ffcb34923961a33131a61fc054u4p</td>\n",
       "      <td>0.0</td>\n",
       "      <td>3</td>\n",
       "    </tr>\n",
       "    <tr>\n",
       "      <th>6531bde8d4decd9708ff4407ef95e887a26yi</th>\n",
       "      <td>1</td>\n",
       "      <td>1</td>\n",
       "      <td>1</td>\n",
       "      <td>1</td>\n",
       "      <td>1</td>\n",
       "      <td>1</td>\n",
       "      <td>1</td>\n",
       "      <td>1</td>\n",
       "      <td>1</td>\n",
       "      <td>1</td>\n",
       "      <td>1</td>\n",
       "      <td>a3d2de7675556553a5f08e4c88d2c228uinly</td>\n",
       "      <td>5cbbdd4e79c7e1c4cabe09ddb75c5a2ebjihi</td>\n",
       "      <td>0.0</td>\n",
       "      <td>4</td>\n",
       "    </tr>\n",
       "  </tbody>\n",
       "</table>\n",
       "</div>"
      ],
      "text/plain": [
       "                                       bidder_id  auction  merchandise  \\\n",
       "bidder_id                                                                \n",
       "001068c415025a009fee375a12cff4fcnht8y          1        1            1   \n",
       "6394edfbd35aab54801518835e33ed50hcr5f          1        1            1   \n",
       "640f41f27c03aca0c45775eb918b666cnjsqv          1        1            1   \n",
       "64f6b099082e4fb2e8da7ba4ae9abdead2cej          1        1            1   \n",
       "6531bde8d4decd9708ff4407ef95e887a26yi          1        1            1   \n",
       "\n",
       "                                       device  time  country  ip  url  f_time  \\\n",
       "bidder_id                                                                       \n",
       "001068c415025a009fee375a12cff4fcnht8y       1     1        1   1    1       1   \n",
       "6394edfbd35aab54801518835e33ed50hcr5f       1     1        1   1    1       1   \n",
       "640f41f27c03aca0c45775eb918b666cnjsqv       1     1        1   1    1       1   \n",
       "64f6b099082e4fb2e8da7ba4ae9abdead2cej       2     2        1   2    1       1   \n",
       "6531bde8d4decd9708ff4407ef95e887a26yi       1     1        1   1    1       1   \n",
       "\n",
       "                                       short_time  diff_time  \\\n",
       "bidder_id                                                      \n",
       "001068c415025a009fee375a12cff4fcnht8y           1          1   \n",
       "6394edfbd35aab54801518835e33ed50hcr5f           1          1   \n",
       "640f41f27c03aca0c45775eb918b666cnjsqv           1          1   \n",
       "64f6b099082e4fb2e8da7ba4ae9abdead2cej           1          2   \n",
       "6531bde8d4decd9708ff4407ef95e887a26yi           1          1   \n",
       "\n",
       "                                                             payment_account  \\\n",
       "bidder_id                                                                      \n",
       "001068c415025a009fee375a12cff4fcnht8y  a3d2de7675556553a5f08e4c88d2c228iiasc   \n",
       "6394edfbd35aab54801518835e33ed50hcr5f  618b6cc4cd96c64ebe6ae20da96f910aoy3cm   \n",
       "640f41f27c03aca0c45775eb918b666cnjsqv  a3d2de7675556553a5f08e4c88d2c228mnv8h   \n",
       "64f6b099082e4fb2e8da7ba4ae9abdead2cej  a3d2de7675556553a5f08e4c88d2c2280stm7   \n",
       "6531bde8d4decd9708ff4407ef95e887a26yi  a3d2de7675556553a5f08e4c88d2c228uinly   \n",
       "\n",
       "                                                                     address  \\\n",
       "bidder_id                                                                      \n",
       "001068c415025a009fee375a12cff4fcnht8y  a3d2de7675556553a5f08e4c88d2c2282aj35   \n",
       "6394edfbd35aab54801518835e33ed50hcr5f  a9fe992abccea6d702209b4f250917873thms   \n",
       "640f41f27c03aca0c45775eb918b666cnjsqv  a3d2de7675556553a5f08e4c88d2c228y9o07   \n",
       "64f6b099082e4fb2e8da7ba4ae9abdead2cej  cff80d97ffcb34923961a33131a61fc054u4p   \n",
       "6531bde8d4decd9708ff4407ef95e887a26yi  5cbbdd4e79c7e1c4cabe09ddb75c5a2ebjihi   \n",
       "\n",
       "                                       outcome  ranking  \n",
       "bidder_id                                                \n",
       "001068c415025a009fee375a12cff4fcnht8y      0.0        0  \n",
       "6394edfbd35aab54801518835e33ed50hcr5f      0.0        1  \n",
       "640f41f27c03aca0c45775eb918b666cnjsqv      0.0        2  \n",
       "64f6b099082e4fb2e8da7ba4ae9abdead2cej      0.0        3  \n",
       "6531bde8d4decd9708ff4407ef95e887a26yi      0.0        4  "
      ]
     },
     "execution_count": 94,
     "metadata": {},
     "output_type": "execute_result"
    }
   ],
   "source": [
    "mergedsecond.head()"
   ]
  },
  {
   "cell_type": "code",
   "execution_count": 92,
   "metadata": {},
   "outputs": [
    {
     "data": {
      "text/plain": [
       "-105263158"
      ]
     },
     "execution_count": 92,
     "metadata": {},
     "output_type": "execute_result"
    }
   ],
   "source": []
  },
  {
   "cell_type": "code",
   "execution_count": 96,
   "metadata": {
    "scrolled": true
   },
   "outputs": [
    {
     "data": {
      "text/html": [
       "<div>\n",
       "<style>\n",
       "    .dataframe thead tr:only-child th {\n",
       "        text-align: right;\n",
       "    }\n",
       "\n",
       "    .dataframe thead th {\n",
       "        text-align: left;\n",
       "    }\n",
       "\n",
       "    .dataframe tbody tr th {\n",
       "        vertical-align: top;\n",
       "    }\n",
       "</style>\n",
       "<table border=\"1\" class=\"dataframe\">\n",
       "  <thead>\n",
       "    <tr style=\"text-align: right;\">\n",
       "      <th></th>\n",
       "      <th>bidder_id</th>\n",
       "      <th>auction</th>\n",
       "      <th>merchandise</th>\n",
       "      <th>device</th>\n",
       "      <th>time</th>\n",
       "      <th>country</th>\n",
       "      <th>ip</th>\n",
       "      <th>url</th>\n",
       "      <th>f_time</th>\n",
       "      <th>short_time</th>\n",
       "      <th>diff_time</th>\n",
       "    </tr>\n",
       "    <tr>\n",
       "      <th>bid_id</th>\n",
       "      <th></th>\n",
       "      <th></th>\n",
       "      <th></th>\n",
       "      <th></th>\n",
       "      <th></th>\n",
       "      <th></th>\n",
       "      <th></th>\n",
       "      <th></th>\n",
       "      <th></th>\n",
       "      <th></th>\n",
       "      <th></th>\n",
       "    </tr>\n",
       "  </thead>\n",
       "  <tbody>\n",
       "    <tr>\n",
       "      <th>0</th>\n",
       "      <td>8dac2b259fd1c6d1120e519fb1ac14fbqvax8</td>\n",
       "      <td>ewmzr</td>\n",
       "      <td>jewelry</td>\n",
       "      <td>phone0</td>\n",
       "      <td>9759243157894736</td>\n",
       "      <td>us</td>\n",
       "      <td>69.166.231.58</td>\n",
       "      <td>vasstdc27m7nks3</td>\n",
       "      <td>9772874210526315</td>\n",
       "      <td>52631578.0</td>\n",
       "      <td>13631052631579</td>\n",
       "    </tr>\n",
       "    <tr>\n",
       "      <th>5550509</th>\n",
       "      <td>0053b78cde37c4384a20d2da9aa4272aym4pb</td>\n",
       "      <td>ay4ql</td>\n",
       "      <td>mobile</td>\n",
       "      <td>phone728</td>\n",
       "      <td>9696903368421052</td>\n",
       "      <td>ng</td>\n",
       "      <td>37.95.134.218</td>\n",
       "      <td>esrbz8gv96scyht</td>\n",
       "      <td>9709220473684210</td>\n",
       "      <td>52631578.0</td>\n",
       "      <td>12317105263158</td>\n",
       "    </tr>\n",
       "    <tr>\n",
       "      <th>5549396</th>\n",
       "      <td>0053b78cde37c4384a20d2da9aa4272aym4pb</td>\n",
       "      <td>ay4ql</td>\n",
       "      <td>mobile</td>\n",
       "      <td>phone20</td>\n",
       "      <td>9696894947368421</td>\n",
       "      <td>ng</td>\n",
       "      <td>37.95.134.218</td>\n",
       "      <td>w4i0s5y21zwhbaq</td>\n",
       "      <td>9709220473684210</td>\n",
       "      <td>52631578.0</td>\n",
       "      <td>12325526315789</td>\n",
       "    </tr>\n",
       "    <tr>\n",
       "      <th>5549279</th>\n",
       "      <td>0053b78cde37c4384a20d2da9aa4272aym4pb</td>\n",
       "      <td>ay4ql</td>\n",
       "      <td>mobile</td>\n",
       "      <td>phone33</td>\n",
       "      <td>9696894105263157</td>\n",
       "      <td>ng</td>\n",
       "      <td>37.95.134.218</td>\n",
       "      <td>rvh1y4okm74iin6</td>\n",
       "      <td>9709220473684210</td>\n",
       "      <td>52631578.0</td>\n",
       "      <td>12326368421053</td>\n",
       "    </tr>\n",
       "    <tr>\n",
       "      <th>5548872</th>\n",
       "      <td>0053b78cde37c4384a20d2da9aa4272aym4pb</td>\n",
       "      <td>ay4ql</td>\n",
       "      <td>mobile</td>\n",
       "      <td>phone20</td>\n",
       "      <td>9696891000000000</td>\n",
       "      <td>ng</td>\n",
       "      <td>37.95.134.218</td>\n",
       "      <td>rvh1y4okm74iin6</td>\n",
       "      <td>9709220473684210</td>\n",
       "      <td>52631578.0</td>\n",
       "      <td>12329473684210</td>\n",
       "    </tr>\n",
       "  </tbody>\n",
       "</table>\n",
       "</div>"
      ],
      "text/plain": [
       "                                     bidder_id auction merchandise    device  \\\n",
       "bid_id                                                                         \n",
       "0        8dac2b259fd1c6d1120e519fb1ac14fbqvax8   ewmzr     jewelry    phone0   \n",
       "5550509  0053b78cde37c4384a20d2da9aa4272aym4pb   ay4ql      mobile  phone728   \n",
       "5549396  0053b78cde37c4384a20d2da9aa4272aym4pb   ay4ql      mobile   phone20   \n",
       "5549279  0053b78cde37c4384a20d2da9aa4272aym4pb   ay4ql      mobile   phone33   \n",
       "5548872  0053b78cde37c4384a20d2da9aa4272aym4pb   ay4ql      mobile   phone20   \n",
       "\n",
       "                     time country             ip              url  \\\n",
       "bid_id                                                              \n",
       "0        9759243157894736      us  69.166.231.58  vasstdc27m7nks3   \n",
       "5550509  9696903368421052      ng  37.95.134.218  esrbz8gv96scyht   \n",
       "5549396  9696894947368421      ng  37.95.134.218  w4i0s5y21zwhbaq   \n",
       "5549279  9696894105263157      ng  37.95.134.218  rvh1y4okm74iin6   \n",
       "5548872  9696891000000000      ng  37.95.134.218  rvh1y4okm74iin6   \n",
       "\n",
       "                   f_time  short_time       diff_time  \n",
       "bid_id                                                 \n",
       "0        9772874210526315  52631578.0  13631052631579  \n",
       "5550509  9709220473684210  52631578.0  12317105263158  \n",
       "5549396  9709220473684210  52631578.0  12325526315789  \n",
       "5549279  9709220473684210  52631578.0  12326368421053  \n",
       "5548872  9709220473684210  52631578.0  12329473684210  "
      ]
     },
     "execution_count": 96,
     "metadata": {},
     "output_type": "execute_result"
    }
   ],
   "source": [
    "bids.sort_values('short_time').head()"
   ]
  },
  {
   "cell_type": "code",
   "execution_count": 4,
   "metadata": {
    "scrolled": true
   },
   "outputs": [
    {
     "name": "stdout",
     "output_type": "stream",
     "text": [
      "Percentage of Bots: 0.051915322580645164\n"
     ]
    }
   ],
   "source": [
    "print('Percentage of Bots: {}'.format(len(bots)/(len(bots)+len(humans))))\n",
    "\n",
    "#create min time between bids"
   ]
  },
  {
   "cell_type": "markdown",
   "metadata": {},
   "source": [
    "Do Bots tend to bid at a certain time after a bid has opened?\n",
    "\n",
    "    A new feature called diff_time was created in the data set which calculates the final time of each bid and then subtracts \n",
    "from it the time of the bid. This normalizes the data and puts it in the form of \"Time before the end of the bid\". Comparing histograms of this diff_time feature for the bots and humans side by side shows that the distributions are very similar which may mean that using the diff_time feature may not be useful for determining is something is a bot. This is odd because you would expect that bots would be more likely to bid at either end. On closer inspection you may be able to say something about the shaper peaks for humans as diff_time approaches 0 (ending of the bid) and that the bots tend to have a sharper cutoff for bidding right after the bid opens. It may be possible to gather more insights from this feature with different visualizations."
   ]
  },
  {
   "cell_type": "code",
   "execution_count": 50,
   "metadata": {
    "collapsed": true
   },
   "outputs": [],
   "source": [
    "#function for showing hists between bots and humans\n",
    "def Hist(s, l):\n",
    "    '''str argument is the column value to be evaluated\n",
    "        l sets the max range'''\n",
    "    plt.subplot(211)\n",
    "    plt.title('Frequency of bidders using different {}s'.format(s)) \n",
    "    plt.hist(bots[s], color='b', range=(0,l), bins=100)\n",
    "    plt.legend('Bots')\n",
    "    plt.subplot(212)\n",
    "    plt.hist(humans[s], color='r', range=(0,l), bins=100)\n",
    "    plt.legend('Humans')\n",
    "    plt.xlabel('Number of different {}s'.format(s))\n",
    "    plt.ylabel('Number of Bidders')\n",
    "    plt.show()\n",
    "    "
   ]
  },
  {
   "cell_type": "code",
   "execution_count": 101,
   "metadata": {},
   "outputs": [
    {
     "data": {
      "image/png": "[encoded data removed]",
      "text/plain": [
       "<matplotlib.figure.Figure at 0x18bc62c62b0>"
      ]
     },
     "metadata": {},
     "output_type": "display_data"
    }
   ],
   "source": [
    "plt.subplot(211)\n",
    "plt.title('Histogram of Shortest Time between bids')\n",
    "plt.hist(mergedfirst.short_time[mergedfirst.outcome==1], color='b', bins=100, range=(100000000, 300000000))\n",
    "plt.legend('Bots')\n",
    "plt.subplot(212)\n",
    "plt.hist(mergedfirst.short_time[mergedfirst.outcome==0], color='r', bins=100, range=(100000000, 300000000))\n",
    "plt.legend('Humans')\n",
    "plt.xlabel('Times between two bids')\n",
    "plt.ylabel('Number of Bidders')\n",
    "plt.show()"
   ]
  },
  {
   "cell_type": "code",
   "execution_count": 32,
   "metadata": {},
   "outputs": [
    {
     "data": {
      "image/png": "[encoded data removed]",
      "text/plain": [
       "<matplotlib.figure.Figure at 0x17cbf86d048>"
      ]
     },
     "metadata": {},
     "output_type": "display_data"
    }
   ],
   "source": [
    "plt.subplot(211)\n",
    "plt.title('Histogram of Time before a bid ends')\n",
    "plt.hist(mergedfirst.diff_time[mergedfirst.outcome==1], color='b', bins=100)\n",
    "plt.legend('Bots')\n",
    "plt.subplot(212)\n",
    "plt.hist(mergedfirst.diff_time[mergedfirst.outcome==0], color='r', bins=100)\n",
    "plt.legend('Humans')\n",
    "plt.xlabel('Times from end time of bid')\n",
    "plt.ylabel('Number of Bidders')\n",
    "plt.show()"
   ]
  },
  {
   "cell_type": "markdown",
   "metadata": {},
   "source": [
    "Do they have more unique bids overall? (we would expect so)\n",
    "    \n",
    "   We would expect that since bots non-human entities they would be able to bid in more auctions and also bid more often than\n",
    "their human counter parts. Comparisons of histograms between bots and humans show us that we would be correct to assume this.\n",
    "In both the plots below, the bot distributions have a slower fall off than the humans which show us that bidders with higher bid \n",
    "counts and those who bid in more distinct auctions are more likely to be bots. "
   ]
  },
  {
   "cell_type": "code",
   "execution_count": 42,
   "metadata": {},
   "outputs": [
    {
     "data": {
      "image/png": "[encoded data removed]",
      "text/plain": [
       "<matplotlib.figure.Figure at 0x17cd19e4518>"
      ]
     },
     "metadata": {},
     "output_type": "display_data"
    }
   ],
   "source": [
    "Hist('auction', 900)"
   ]
  },
  {
   "cell_type": "code",
   "execution_count": 43,
   "metadata": {},
   "outputs": [
    {
     "data": {
      "image/png": "[encoded data removed]",
      "text/plain": [
       "<matplotlib.figure.Figure at 0x17cb9c4aef0>"
      ]
     },
     "metadata": {},
     "output_type": "display_data"
    }
   ],
   "source": [
    "Hist('time', 20000)"
   ]
  },
  {
   "cell_type": "markdown",
   "metadata": {
    "collapsed": true
   },
   "source": [
    "Do bots tend to bid from more distinct devices, urls or IPs, etc?\n",
    "\n",
    "   Similar to distinct number of bids we would think that bots are also able to spoof multiple different devices or IPs. \n",
    "The histograms below show that bots tend to have higher distinct IP and devices counts than humans. The Url histogram is\n",
    "very interesting and while it also shows that bots tend to have a higher distinct url count than humans but also that there is\n",
    "a huge spike at the low counts. This may be possible if bots favor certain URLs over others."
   ]
  },
  {
   "cell_type": "code",
   "execution_count": 45,
   "metadata": {},
   "outputs": [
    {
     "data": {
      "image/png": "[encoded data removed]",
      "text/plain": [
       "<matplotlib.figure.Figure at 0x17cf2179518>"
      ]
     },
     "metadata": {},
     "output_type": "display_data"
    }
   ],
   "source": [
    "Hist('ip', 12000)"
   ]
  },
  {
   "cell_type": "code",
   "execution_count": 46,
   "metadata": {},
   "outputs": [
    {
     "data": {
      "image/png": "[encoded data removed]",
      "text/plain": [
       "<matplotlib.figure.Figure at 0x17cc921cd68>"
      ]
     },
     "metadata": {},
     "output_type": "display_data"
    }
   ],
   "source": [
    "Hist('device', 1250)"
   ]
  },
  {
   "cell_type": "code",
   "execution_count": 47,
   "metadata": {},
   "outputs": [
    {
     "data": {
      "image/png": "[encoded data removed]",
      "text/plain": [
       "<matplotlib.figure.Figure at 0x17cd473e470>"
      ]
     },
     "metadata": {},
     "output_type": "display_data"
    }
   ],
   "source": [
    "Hist('url', 1250)"
   ]
  },
  {
   "cell_type": "code",
   "execution_count": null,
   "metadata": {
    "collapsed": true
   },
   "outputs": [],
   "source": [
    "Are bots more likely to be from certain countries, ips or urls?\n",
    "\n",
    "From the stacked barchart its easy to see that there are certainly countries where a higher percentage of bots. These \n",
    "high bot percent countries should be examined more closely at total bidders to make sure that the data is actually significant.\n",
    "For example maybe a 60% bot filled countries is only from 3 bidders in which case it may not be a statistically significant trend.\n",
    "Stacked bar charts were not feasible for examining URLs and IPs because they had too many unique values. By truncating the amount\n",
    "of IPs or URLs by the number of bids coming we can get an idea of the trends that are occuring with these sets. From these plots\n",
    "we can see that high bid count IPs do not seem that useful for looking for bots but "
   ]
  },
  {
   "cell_type": "code",
   "execution_count": 34,
   "metadata": {
    "collapsed": true
   },
   "outputs": [],
   "source": [
    "#Function for creating stacked bar charts\n",
    "def stacked_bar(df, str):\n",
    "    '''stacked_bar(df, str)\n",
    "    takes a string that is a column name and creates a stacked bar chart from column str in dataframe df'''\n",
    "    hu_count = df[df.outcome ==0].groupby(str).count().bidder_id\n",
    "    bot_count = df[df.outcome ==1].groupby(str).count().bidder_id\n",
    "    total = hu_count + bot_count\n",
    "    hu_count = (hu_count/total).sort_values()\n",
    "    bot_count = (bot_count/total).sort_values(ascending =False)\n",
    "    inds = np.arange(len(hu_count))\n",
    "    plt.title('')\n",
    "    plt.title('Percentage of bots per '+str)\n",
    "    plt.xlabel(str)\n",
    "    plt.ylabel('Percentage')\n",
    "    plt.bar(inds, bot_count)\n",
    "    plt.bar(inds, hu_count, bottom=bot_count)\n",
    "    plt.show()"
   ]
  },
  {
   "cell_type": "code",
   "execution_count": 35,
   "metadata": {},
   "outputs": [
    {
     "data": {
      "image/png": "[encoded data removed]",
      "text/plain": [
       "<matplotlib.figure.Figure at 0x18bd8fb5f98>"
      ]
     },
     "metadata": {},
     "output_type": "display_data"
    }
   ],
   "source": [
    "stacked_bar(mergedfirst, 'country')"
   ]
  },
  {
   "cell_type": "code",
   "execution_count": 3,
   "metadata": {},
   "outputs": [
    {
     "data": {
      "image/png": "[encoded data removed]",
      "text/plain": [
       "<matplotlib.figure.Figure at 0x1a4f54f90b8>"
      ]
     },
     "metadata": {},
     "output_type": "display_data"
    }
   ],
   "source": [
    "thres = mergedfirst.groupby('ip').count() > 300\n",
    "df = mergedfirst.merge(thres, left_on='ip', right_index=True)\n",
    "df = df[df.bidder_id_y == True]\n",
    "hu_count = df[df.outcome_x ==0].groupby('ip').count().sort_index()\n",
    "bot_count = df[df.outcome_x ==1].groupby('ip').count().sort_index()\n",
    "total = hu_count + bot_count\n",
    "hu_count = (hu_count/total).sort_values('bidder_id_x')\n",
    "bot_count = (bot_count/total).sort_values('bidder_id_x', ascending=False)\n",
    "inds = np.arange(len(hu_count))\n",
    "plt.title('')\n",
    "plt.xlabel('IPs')\n",
    "plt.ylabel('Percentage of bots per IPs')\n",
    "plt.bar(inds, bot_count.bidder_id_x)\n",
    "plt.bar(inds,hu_count.bidder_id_x, bottom=bot_count.bidder_id_x)\n",
    "plt.show()"
   ]
  },
  {
   "cell_type": "code",
   "execution_count": 80,
   "metadata": {
    "collapsed": true
   },
   "outputs": [],
   "source": [
    "url_thres = mergedfirst.groupby('url').count() > 300\n",
    "url_df = mergedfirst.merge(url_thres, left_on='url', right_index=True)\n",
    "url_df = url_df[url_df.bidder_id_y == True]"
   ]
  },
  {
   "cell_type": "code",
   "execution_count": 36,
   "metadata": {},
   "outputs": [
    {
     "data": {
      "image/png": "[encoded data removed]",
      "text/plain": [
       "<matplotlib.figure.Figure at 0x18b888302e8>"
      ]
     },
     "metadata": {},
     "output_type": "display_data"
    }
   ],
   "source": [
    "url_thres = mergedfirst.groupby('url').count() > 300\n",
    "url_df = mergedfirst.merge(url_thres, left_on='url', right_index=True)\n",
    "url_df = url_df[url_df.bidder_id_y == True]\n",
    "url_hu_count = url_df[url_df.outcome_x ==0].groupby('url').count().sort_index()\n",
    "url_bot_count = url_df[url_df.outcome_x ==1].groupby('url').count().sort_index()\n",
    "total = url_hu_count + url_bot_count\n",
    "url_hu_count = (url_hu_count/total).sort_values('bidder_id_x')\n",
    "url_bot_count = (url_bot_count/total).sort_values('bidder_id_x', ascending=False)\n",
    "inds = np.arange(len(url_hu_count))\n",
    "plt.title('')\n",
    "plt.xlabel('URLs')\n",
    "plt.ylabel('Percentage')\n",
    "plt.title('Percentage of bots per URLs')\n",
    "plt.bar(inds, url_bot_count.bidder_id_x)\n",
    "plt.bar(inds,url_hu_count.bidder_id_x, bottom=url_bot_count.bidder_id_x)\n",
    "plt.show()"
   ]
  },
  {
   "cell_type": "markdown",
   "metadata": {},
   "source": [
    "Conclusions:\n",
    "\n",
    "As we have shown throught this graphical analysis of the data there are several categories which seem to correlate to a bidder being a bot. Some of these categories are number of unique bids, number of bids from unique IPs, number of unique URLs and number of unique auctions entered. Stacked bar chart visualizations show us also that certain countries and URLs may be bot hotspots and a user who is from these countries or bids through these URLs has a higher chance of being a bot. These graphical representations also bring up other interesting questions to ask such \"Is the bid/auction ration important\" and \"From the high % countries and urls are they significant or is it a low sample size\" \n"
   ]
  }
 ],
 "metadata": {
  "kernelspec": {
   "display_name": "Python 3",
   "language": "python",
   "name": "python3"
  },
  "language_info": {
   "codemirror_mode": {
    "name": "ipython",
    "version": 3
   },
   "file_extension": ".py",
   "mimetype": "text/x-python",
   "name": "python",
   "nbconvert_exporter": "python",
   "pygments_lexer": "ipython3",
   "version": "3.6.2"
  }
 },
 "nbformat": 4,
 "nbformat_minor": 2
}
