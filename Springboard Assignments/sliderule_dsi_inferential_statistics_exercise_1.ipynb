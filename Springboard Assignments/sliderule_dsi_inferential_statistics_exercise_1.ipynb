{
 "cells": [
  {
   "cell_type": "markdown",
   "metadata": {},
   "source": [
    "# What is the True Normal Human Body Temperature? \n",
    "\n",
    "#### Background\n",
    "\n",
    "The mean normal body temperature was held to be 37$^{\\circ}$C or 98.6$^{\\circ}$F for more than 120 years since it was first conceptualized and reported by Carl Wunderlich in a famous 1868 book. But, is this value statistically correct?"
   ]
  },
  {
   "cell_type": "markdown",
   "metadata": {},
   "source": [
    "<h3>Exercises</h3>\n",
    "\n",
    "<p>In this exercise, you will analyze a dataset of human body temperatures and employ the concepts of hypothesis testing, confidence intervals, and statistical significance.</p>\n",
    "\n",
    "<p>Answer the following questions <b>in this notebook below and submit to your Github account</b>.</p> \n",
    "\n",
    "<ol>\n",
    "<li>  Is the distribution of body temperatures normal? \n",
    "    <ul>\n",
    "    <li> Although this is not a requirement for CLT to hold (read CLT carefully), it gives us some peace of mind that the population may also be normally distributed if we assume that this sample is representative of the population.\n",
    "    </ul>\n",
    "<li>  Is the sample size large? Are the observations independent?\n",
    "    <ul>\n",
    "    <li> Remember that this is a condition for the CLT, and hence the statistical tests we are using, to apply.\n",
    "    </ul>\n",
    "<li>  Is the true population mean really 98.6 degrees F?\n",
    "    <ul>\n",
    "    <li> Would you use a one-sample or two-sample test? Why?\n",
    "    <li> In this situation, is it appropriate to use the $t$ or $z$ statistic? \n",
    "    <li> Now try using the other test. How is the result be different? Why?\n",
    "    </ul>\n",
    "<li>  Draw a small sample of size 10 from the data and repeat both tests. \n",
    "    <ul>\n",
    "    <li> Which one is the correct one to use? \n",
    "    <li> What do you notice? What does this tell you about the difference in application of the $t$ and $z$ statistic?\n",
    "    </ul>\n",
    "<li>  At what temperature should we consider someone's temperature to be \"abnormal\"?\n",
    "    <ul>\n",
    "    <li> Start by computing the margin of error and confidence interval.\n",
    "    </ul>\n",
    "<li>  Is there a significant difference between males and females in normal temperature?\n",
    "    <ul>\n",
    "    <li> What test did you use and why?\n",
    "    <li> Write a story with your conclusion in the context of the original problem.\n",
    "    </ul>\n",
    "</ol>\n",
    "\n",
    "You can include written notes in notebook cells using Markdown: \n",
    "   - In the control panel at the top, choose Cell > Cell Type > Markdown\n",
    "   - Markdown syntax: http://nestacms.com/docs/creating-content/markdown-cheat-sheet\n",
    "\n",
    "#### Resources\n",
    "\n",
    "+ Information and data sources: http://www.amstat.org/publications/jse/datasets/normtemp.txt, http://www.amstat.org/publications/jse/jse_data_archive.htm\n",
    "+ Markdown syntax: http://nestacms.com/docs/creating-content/markdown-cheat-sheet\n",
    "\n",
    "****"
   ]
  },
  {
   "cell_type": "code",
   "execution_count": 152,
   "metadata": {
    "collapsed": true
   },
   "outputs": [],
   "source": [
    "import pandas as pd\n",
    "import matplotlib.pyplot as plt\n",
    "import numpy as np\n",
    "import scipy.stats as stats\n",
    "df = pd.read_csv('data/human_body_temperature.csv')"
   ]
  },
  {
   "cell_type": "code",
   "execution_count": 59,
   "metadata": {},
   "outputs": [
    {
     "data": {
      "text/plain": [
       "\" Work is below\\n1. Based on the histogram plot of temperatures, the samples is very close to a normal distribution with a few outliers. \\n    It seems safe to assume that the full population is normally distributed\\n    \\n2. N > 30 so the sample size is considered large enough (we have 130 samples). \\n    Since each observation is a separate human they are all indepenent.\\n\\n3. A one sample test should be used since we are comparing a population to a separate known/hypothesized value. \\n    the t statistic should be used because we don't know the standard deviation of the population. \\n     Using one sample test:\\n     Using two sample test:\\n         \\n\""
      ]
     },
     "execution_count": 59,
     "metadata": {},
     "output_type": "execute_result"
    }
   ],
   "source": [
    "''' Work is below\n",
    "1. Based on the histogram plot of temperatures, the samples is very close to a normal distribution with a few outliers. \n",
    "    It seems safe to assume that the full population is normally distributed\n",
    "    \n",
    "2. N > 30 so the sample size is considered large enough (we have 130 samples). \n",
    "    Since each observation is a separate human they are all indepenent.\n",
    "\n",
    "3. The true mean is 98.23 not 98.6. A one sample test should be used since we are comparing a population to a separate known/hypothesized value. \n",
    "    the t statistic should be used because we don't know the standard deviation of the population. \n",
    "     Using one sample t test: p = 1.0943732312e-07 \n",
    "     Using one sample z test: p = 2.17615758294e-08\n",
    "     This is a good place to discuss the idea that Wunderlich's mean temperature may be incorrect because the p-values are so small.\n",
    "     Low p-values mean we should be rejecting the null hypothesis that Wunderlich's mean is equal to the mean of our sample.\n",
    "     I would be skeptical of immediately accepting a conclusion that contradicts a value which has been widely accepted for over a century, \n",
    "     especially since 130 is an a small relative sample size compared to the human population. Repetitions should be down with more varied and larger sample sizes.\n",
    "     \n",
    "     \n",
    "4. When drawing small samples of size 10 there are occasions where the calculated p-values lead to different conclusions.\n",
    "    This shows the importance of choosing the correct statistic to use because you may accidentally think something is significant.\n",
    "    The correct statistic to use in this case is the T-statistic. This is because the sample size is less than 30 and we do not know the std\n",
    "    \n",
    "5. Margin of error calculated from sample is: 0.0643044168379 \n",
    "    Confidence interval from sample mean (98.133965658950885, 98.386034341049125)\n",
    "    Confidence interval from Wunderlich's mean (98.473965658950874, 98.726034341049115)\n",
    "    If someones temperature is outside of the confidence interval (98.1,98.4) then we should consider it abnormal. \n",
    "    \n",
    "6. To compare samples of males and females I used an independent two sample t-test. Pairing males and females does not make sense due to the indiviual nature of humans.\n",
    "    a t-test was used similar to the previous problems even though the sample size is above 30 because we do not know the standard deviation of the population.\n",
    "    \n",
    "    Story:\n",
    "        For almost 120 years Wunderlich's estimated mean normal body temperature for humans of 98.6F was widely accepted.\n",
    "    Using statistical analysis techniques on a sample of 130 people (65 male and 65 female) we determined that 98.6F may \n",
    "    not actually be correct. We used a one sample t-test with the null hypothesis that the mean temperature of our sample \n",
    "    is in fact 98.6, however low p-values, much lower than 0.05, suggest that there is statistical significance for the difference\n",
    "    of the sample mean and Wunderlich's 98.6F. Plotting the temperatures in a histogram shows a normal distribution which lets us\n",
    "    assume the population is a normal distribution as well and this sample is likely representative of it. Even so, repetitions \n",
    "    with larger samples sizes of this analysis should be done for confirmation. When considering that Wunderlich's accepted mean\n",
    "    normal body temperature is incorrect we are presented with other assumptions that may be incorrect as well. Thus we define \n",
    "    a null hypothesis for the mean normal temperatures for the male sample and female sample to be the same. Using a independent\n",
    "    two sample t-test since each individual is a separate identity, this resulted in a p-value of 0.01. Again a low p-value means\n",
    "    we reject the null hypothesis and we have statistically significant data that points towards differing male and female mean\n",
    "    normal body temperatures. \n",
    "    \n",
    "        While we have found statistically significant results that should be representative of the total population more studies\n",
    "    should be done to confirm this data. For example a quick search of lower body temperature shows that  cold weather can affect\n",
    "    body temperature, since the physical location is not included it may have occured in a cold climate which potentially skews the \n",
    "    data and thus conclusions we have arrived at. \n",
    "         \n",
    "'''"
   ]
  },
  {
   "cell_type": "code",
   "execution_count": 60,
   "metadata": {},
   "outputs": [
    {
     "data": {
      "image/png": "[encoded data removed]",
      "text/plain": [
       "<matplotlib.figure.Figure at 0x23ae2c6f780>"
      ]
     },
     "metadata": {},
     "output_type": "display_data"
    },
    {
     "name": "stdout",
     "output_type": "stream",
     "text": [
      "130\n"
     ]
    }
   ],
   "source": [
    "#plot sorted temperature values to get a visual, and count sample size\n",
    "#Questions 1 & 2\n",
    "_ = plt.hist(df.sort_values('temperature')['temperature'].tolist(), bins='auto')\n",
    "plt.show()\n",
    "print (len(df.temperature))"
   ]
  },
  {
   "cell_type": "code",
   "execution_count": 151,
   "metadata": {},
   "outputs": [
    {
     "name": "stdout",
     "output_type": "stream",
     "text": [
      "98.24923076923078\n",
      "-5.47592520208\n",
      "1.0943732312e-07 2.17615758294e-08\n"
     ]
    }
   ],
   "source": [
    "#Question 3:\n",
    "mean = np.mean(df.temperature)\n",
    "std = np.std(df.temperature)\n",
    "print (mean)\n",
    "test = (mean - 98.6)/(std/np.sqrt(len(df.temperature)))\n",
    "print (test)\n",
    "\n",
    "#The t statistic will calulate based on a polynomial with n-1 degrees of freedom \n",
    "#   and Z will calculate based on the normal distribution\n",
    "# Thus we will use both methods from out test statistic and compare them\n",
    "t_p = stats.t.cdf(test, df=129)\n",
    "z_p = stats.norm.cdf(test)\n",
    "\n",
    "print(t_p, z_p)"
   ]
  },
  {
   "cell_type": "code",
   "execution_count": 115,
   "metadata": {},
   "outputs": [
    {
     "name": "stdout",
     "output_type": "stream",
     "text": [
      "98.26\n",
      "-1.71638384298\n",
      "0.0601124649319 0.0430459058846\n"
     ]
    }
   ],
   "source": [
    "#Question 4:\n",
    "sample10 = np.random.choice(df.temperature, size=10)\n",
    "mean = np.mean(sample10)\n",
    "std = np.std(sample10)\n",
    "print (mean)\n",
    "test = (mean - 98.6)/(std/np.sqrt(len(sample10)))\n",
    "print (test)\n",
    "\n",
    "#The t statistic will calulate based on a polynomial with n-1 degrees of freedom \n",
    "#   and Z will calculate based on the normal distribution\n",
    "# Thus we will use both methods from out test statistic and compare them\n",
    "t_p = stats.t.cdf(test, df=9)\n",
    "z_p = stats.norm.cdf(test)\n",
    "\n",
    "print(t_p, z_p)"
   ]
  },
  {
   "cell_type": "code",
   "execution_count": 139,
   "metadata": {},
   "outputs": [
    {
     "name": "stdout",
     "output_type": "stream",
     "text": [
      "0.0643044168379 (98.133965658950885, 98.386034341049125) (98.473965658950874, 98.726034341049115)\n"
     ]
    }
   ],
   "source": [
    "#Question 5\n",
    "conf_int_sample =stats.norm.interval(0.95, loc=mean, scale=stats.sem(df.temperature))\n",
    "conf_int_real =stats.norm.interval(0.95, loc=98.6, scale=stats.sem(df.temperature))\n",
    "print(stats.sem(df.temperature), conf_int_sample, conf_int_real)"
   ]
  },
  {
   "cell_type": "code",
   "execution_count": 160,
   "metadata": {},
   "outputs": [
    {
     "name": "stdout",
     "output_type": "stream",
     "text": [
      "98.1046153846154 98.39384615384613\n",
      "-2.30322028919 0.0114396399348\n"
     ]
    }
   ],
   "source": [
    "#Question 6 using an indepenent two sample t test to determine the mean differences between normal temperatures\n",
    "male = df[df.gender == 'M'].temperature\n",
    "female = df[df.gender == 'F'].temperature\n",
    "meanM, meanF = np.mean(male), np.mean(female)\n",
    "print(meanM, meanF)\n",
    "stdM, stdF = np.std(male), np.std(female)\n",
    "stdpooled = np.sqrt(((65-1)*stdM**2 + (65-1)*stdF**2)/(65+65-2))\n",
    "sempooled = np.sqrt(stdpooled**2*(1/65 + 1/65))\n",
    "t = ((meanM - meanF) - (98.6 - 98.6))/sempooled\n",
    "p = stats.t.cdf(t, df=128)\n",
    "print (t,p)"
   ]
  },
  {
   "cell_type": "code",
   "execution_count": 158,
   "metadata": {},
   "outputs": [
    {
     "data": {
      "image/png": "[encoded data removed]",
      "text/plain": [
       "<matplotlib.figure.Figure at 0x23ae2c3c3c8>"
      ]
     },
     "metadata": {},
     "output_type": "display_data"
    }
   ],
   "source": [
    "#plotting scatter and linear regression\n",
    "a, b =np.polyfit(df.index, df.temperature, 1)\n",
    "x = np.arange(len(df.temperature))\n",
    "_ =  plt.plot(x,a*x + b, color='red')\n",
    "_= plt.plot(df.index, df.temperature, marker='.', linestyle='None')\n",
    "plt.show()"
   ]
  },
  {
   "cell_type": "code",
   "execution_count": null,
   "metadata": {},
   "outputs": [],
   "source": []
  },
  {
   "cell_type": "code",
   "execution_count": null,
   "metadata": {},
   "outputs": [],
   "source": []
  },
  {
   "cell_type": "code",
   "execution_count": null,
   "metadata": {},
   "outputs": [],
   "source": []
  },
  {
   "cell_type": "code",
   "execution_count": null,
   "metadata": {
    "collapsed": true
   },
   "outputs": [],
   "source": []
  }
 ],
 "metadata": {
  "kernelspec": {
   "display_name": "Python 3",
   "language": "python",
   "name": "python3"
  },
  "language_info": {
   "codemirror_mode": {
    "name": "ipython",
    "version": 3
   },
   "file_extension": ".py",
   "mimetype": "text/x-python",
   "name": "python",
   "nbconvert_exporter": "python",
   "pygments_lexer": "ipython3",
   "version": "3.6.2"
  }
 },
 "nbformat": 4,
 "nbformat_minor": 1
}
